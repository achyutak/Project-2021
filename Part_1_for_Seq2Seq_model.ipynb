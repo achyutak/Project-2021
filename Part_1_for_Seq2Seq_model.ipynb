{
  "nbformat": 4,
  "nbformat_minor": 0,
  "metadata": {
    "colab": {
      "name": "Part 1 for Seq2Seq model.ipynb",
      "provenance": [],
      "collapsed_sections": [
        "kgAgLQmNuxkc"
      ],
      "toc_visible": true,
      "mount_file_id": "1zje7oznb9fRacfryOSH5Xl8cmvh4Y8Lp",
      "authorship_tag": "ABX9TyPsSuABnYRNTzZW4EjNJXSB",
      "include_colab_link": true
    },
    "kernelspec": {
      "name": "python3",
      "display_name": "Python 3"
    },
    "language_info": {
      "name": "python"
    }
  },
  "cells": [
    {
      "cell_type": "markdown",
      "metadata": {
        "id": "view-in-github",
        "colab_type": "text"
      },
      "source": [
        "<a href=\"https://colab.research.google.com/github/achyutak/Project-2021/blob/main/Part_1_for_Seq2Seq_model.ipynb\" target=\"_parent\"><img src=\"https://colab.research.google.com/assets/colab-badge.svg\" alt=\"Open In Colab\"/></a>"
      ]
    },
    {
      "cell_type": "code",
      "metadata": {
        "id": "ymMkEM9PQTx7"
      },
      "source": [
        "import os\n",
        "import git"
      ],
      "execution_count": null,
      "outputs": []
    },
    {
      "cell_type": "code",
      "metadata": {
        "colab": {
          "base_uri": "https://localhost:8080/"
        },
        "id": "eqLjTrQFmbr1",
        "outputId": "07051ce0-b855-4c2a-dc20-585cb576df6f"
      },
      "source": [
        "!pip install gitpython"
      ],
      "execution_count": null,
      "outputs": [
        {
          "output_type": "stream",
          "text": [
            "Collecting gitpython\n",
            "\u001b[?25l  Downloading https://files.pythonhosted.org/packages/a6/99/98019716955ba243657daedd1de8f3a88ca1f5b75057c38e959db22fb87b/GitPython-3.1.14-py3-none-any.whl (159kB)\n",
            "\u001b[K     |████████████████████████████████| 163kB 6.5MB/s \n",
            "\u001b[?25hCollecting gitdb<5,>=4.0.1\n",
            "\u001b[?25l  Downloading https://files.pythonhosted.org/packages/ea/e8/f414d1a4f0bbc668ed441f74f44c116d9816833a48bf81d22b697090dba8/gitdb-4.0.7-py3-none-any.whl (63kB)\n",
            "\u001b[K     |████████████████████████████████| 71kB 6.3MB/s \n",
            "\u001b[?25hCollecting smmap<5,>=3.0.1\n",
            "  Downloading https://files.pythonhosted.org/packages/68/ee/d540eb5e5996eb81c26ceffac6ee49041d473bc5125f2aa995cf51ec1cf1/smmap-4.0.0-py2.py3-none-any.whl\n",
            "Installing collected packages: smmap, gitdb, gitpython\n",
            "Successfully installed gitdb-4.0.7 gitpython-3.1.14 smmap-4.0.0\n"
          ],
          "name": "stdout"
        }
      ]
    },
    {
      "cell_type": "code",
      "metadata": {
        "colab": {
          "base_uri": "https://localhost:8080/"
        },
        "id": "8ITxWGhe0j_i",
        "outputId": "9d1926ff-d62e-4a8d-e348-4ea4fd4bb003"
      },
      "source": [
        "from google.colab import drive\n",
        "drive.mount('/content/drive')"
      ],
      "execution_count": null,
      "outputs": [
        {
          "output_type": "stream",
          "text": [
            "Drive already mounted at /content/drive; to attempt to forcibly remount, call drive.mount(\"/content/drive\", force_remount=True).\n"
          ],
          "name": "stdout"
        }
      ]
    },
    {
      "cell_type": "code",
      "metadata": {
        "colab": {
          "base_uri": "https://localhost:8080/"
        },
        "id": "WBHzoHevQPbJ",
        "outputId": "87871de1-ad6c-4087-983e-5db1de805031"
      },
      "source": [
        "if os.path.isdir('/content/drive/MyDrive/Project-2021'):\n",
        "  if os.path.isdir('/content/drive/MyDrive/Project-2021/Test1/'):\n",
        "    %cd 'drive/MyDrive/Project-2021/Test1'\n",
        "  else:\n",
        "    %mkdir 'drive/MyDrive/Project-2021/Test1'\n",
        "    %cd 'drive/MyDrive/Project-2021/Test1'\n",
        "else:\n",
        "  %mkdir 'drive/MyDrive/Project-2021'\n",
        "  %mkdir 'drive/MyDrive/Project-2021/Test1'\n",
        "  %cd 'drive/MyDrive/Project-2021/Test1'"
      ],
      "execution_count": null,
      "outputs": [
        {
          "output_type": "stream",
          "text": [
            "/content/drive/MyDrive/Project-2021/Test1\n"
          ],
          "name": "stdout"
        }
      ]
    },
    {
      "cell_type": "code",
      "metadata": {
        "id": "1REpdNbWm1M9"
      },
      "source": [
        "old_format = '-old.py'"
      ],
      "execution_count": null,
      "outputs": []
    },
    {
      "cell_type": "code",
      "metadata": {
        "id": "2hiKHFG667dD"
      },
      "source": [
        "def get_key_inp():\n",
        "  return input(\"Do you want to delete existing Project\\\n",
        "   and create a new one?\\nEnter 1 for yes and 0 for no:\\t\")\n",
        "\n",
        "def delete_and_clone():\n",
        "  print(\"Deleting the existing files\")\n",
        "  %rm -rf Shakespearizing-Modern-English/\n",
        "  clone_from_rep()\n",
        "\n",
        "def project_exists(key_inp,flag):\n",
        "    try:\n",
        "      if int(key_inp) == 1:\n",
        "        delete_and_clone()\n",
        "        flag = 4\n",
        "      else:\n",
        "        if int(key_inp) != 0:\n",
        "          raise KeyError\n",
        "        else:\n",
        "          print('Existing Project remains unchanged')\n",
        "          flag = 4\n",
        "    except:\n",
        "      print('Incorrect input, please try again')\n",
        "    if flag == 3:\n",
        "      print(\"Max number of tries exceeded\")\n",
        "    else:\n",
        "      if flag == 4:\n",
        "        print(\"All set\")\n",
        "      else:\n",
        "        key_inp = get_key_inp()\n",
        "        project_exists(key_inp,flag+1)"
      ],
      "execution_count": null,
      "outputs": []
    },
    {
      "cell_type": "code",
      "metadata": {
        "colab": {
          "base_uri": "https://localhost:8080/"
        },
        "id": "kWGWMYKCu6sg",
        "outputId": "bc733ef5-390b-4585-fa22-8bac71561270"
      },
      "source": [
        "def clone_from_rep():\n",
        "  if os.path.isdir('/content/drive/MyDrive/Project-2021/Test1/Shakespearizing-Modern-English')!=True:\n",
        "    print('Cloning the Project from seq2seq branch of the Repository')\n",
        "    git.Repo.clone_from('https://github.com/achyutak/Shakespearizing-Modern-English.git','/content/drive/MyDrive/Project-2021/Test1/Shakespearizing-Modern-English',branch='seq2seq')\n",
        "    print(\"Cloning done\")\n",
        "    %cd Shakespearizing-Modern-English/code/main/\n",
        "    print(\"Renaming the files\")\n",
        "    for i in \"mt_main,mt_model,mt_model_pointer,mt_solver,load_model_demo\".split(','):\n",
        "      src = i + \".py\"\n",
        "      try:\n",
        "        if old_format.split('.')[0] in src:\n",
        "          raise FileExistsError\n",
        "      except FileExistsError:\n",
        "        print(\"Please change it to a different way to indicate old format and try again\")\n",
        "        break\n",
        "      dst = i + old_format\n",
        "      os.rename(src,dst)\n",
        "    print(\"Renaming done\")\n",
        "  else:\n",
        "    print(\"Project already exists\")\n",
        "    project_exists(get_key_inp,0)\n",
        "\n",
        "clone_from_rep()"
      ],
      "execution_count": null,
      "outputs": [
        {
          "output_type": "stream",
          "text": [
            "Project already exists\n",
            "Incorrect input, please try again\n",
            "Do you want to delete existing Project   and create a new one?\n",
            "Enter 1 for yes and 0 for no:\t1\n",
            "Deleting the existing files\n",
            "Cloning the Project from seq2seq branch of the Repository\n",
            "Cloning done\n",
            "/content/drive/MyDrive/Project-2021/Test1/Shakespearizing-Modern-English/code/main\n",
            "Renaming the files\n",
            "Renaming done\n",
            "All set\n"
          ],
          "name": "stdout"
        }
      ]
    }
  ]
}