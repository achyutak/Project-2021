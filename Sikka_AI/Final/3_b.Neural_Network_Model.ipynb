{
  "nbformat": 4,
  "nbformat_minor": 0,
  "metadata": {
    "colab": {
      "name": "Sikka_AI_Neural_Network_Model.ipynb",
      "provenance": [],
      "collapsed_sections": [
        "1dwjd7xhB9VW"
      ],
      "machine_shape": "hm",
      "mount_file_id": "1CknxnMSZRKmcEUqXRfMSin2OXbVFcGO_",
      "authorship_tag": "ABX9TyOV3uapmA5rVGaQVVoNVLcs",
      "include_colab_link": true
    },
    "kernelspec": {
      "name": "python3",
      "display_name": "Python 3"
    },
    "language_info": {
      "name": "python"
    },
    "accelerator": "GPU"
  },
  "cells": [
    {
      "cell_type": "markdown",
      "metadata": {
        "id": "view-in-github",
        "colab_type": "text"
      },
      "source": [
        "<a href=\"https://colab.research.google.com/github/achyutak/Project-2021/blob/main/Sikka_AI/Final/3_b.Neural_Network_Model.ipynb\" target=\"_parent\"><img src=\"https://colab.research.google.com/assets/colab-badge.svg\" alt=\"Open In Colab\"/></a>"
      ]
    },
    {
      "cell_type": "code",
      "metadata": {
        "id": "An84JPLri3Tm"
      },
      "source": [
        "# from google.colab import drive\n",
        "# drive.mount('/content/drive')"
      ],
      "execution_count": 15,
      "outputs": []
    },
    {
      "cell_type": "code",
      "metadata": {
        "id": "PgDLXN2qiu6m"
      },
      "source": [
        "import pickle\n",
        "import glob\n",
        "import pandas as pd\n",
        "import numpy as np\n",
        "from sklearn.model_selection import train_test_split\n",
        "from sklearn.tree import DecisionTreeClassifier\n",
        "from sklearn.metrics import accuracy_score\n",
        "from keras.models import Sequential\n",
        "from keras.layers import Bidirectional, Embedding, Flatten, Dense, Dropout, LSTM, Conv1D,GlobalMaxPooling1D\n",
        "from keras.losses import categorical_crossentropy,binary_crossentropy\n",
        "from keras.regularizers import l1,l2,l1_l2\n",
        "from keras.models import load_model\n",
        "import matplotlib.pyplot as plt\n",
        "%matplotlib inline"
      ],
      "execution_count": 16,
      "outputs": []
    },
    {
      "cell_type": "code",
      "metadata": {
        "id": "JfoLjS4ZiywS"
      },
      "source": [
        "def get_train_batch(i:'integer'):\n",
        "  x_train_path = '/content/drive/MyDrive/Project-2021/Sikka_AI/Saved_files/train_embeddings/train_word_embeddings_pickled_' + str(i) + '.pkl'\n",
        "  y_train_path = '/content/drive/MyDrive/Project-2021/Sikka_AI/Saved_files/train_embeddings/train_labels_batch_' + str(i) + '.pkl'\n",
        "  x_train = pd.read_pickle(x_train_path)\n",
        "  y_train = pd.read_pickle(y_train_path)\n",
        "  return x_train,y_train\n"
      ],
      "execution_count": 17,
      "outputs": []
    },
    {
      "cell_type": "code",
      "metadata": {
        "id": "cB-efqB-jdo3"
      },
      "source": [
        "def get_test_batch(i:'integer'):\n",
        "  x_test_path = '/content/drive/MyDrive/Project-2021/Sikka_AI/Saved_files/test_embeddings/test_word_embeddings_pickled_' + str(i) + '.pkl'\n",
        "  y_test_path = '/content/drive/MyDrive/Project-2021/Sikka_AI/Saved_files/test_embeddings/test_labels_batch_' + str(i) + '.pkl'\n",
        "  x_test = pd.read_pickle(x_test_path)\n",
        "  y_test = pd.read_pickle(y_test_path)\n",
        "  return x_test,y_test"
      ],
      "execution_count": 18,
      "outputs": []
    },
    {
      "cell_type": "markdown",
      "metadata": {
        "id": "QMsuJiwej6s0"
      },
      "source": [
        "#Neural Network Model"
      ]
    },
    {
      "cell_type": "code",
      "metadata": {
        "id": "5eicCu3dqJ-J"
      },
      "source": [
        "vocab_size = np.load('/content/drive/MyDrive/Project-2021/Sikka_AI/Saved_files/vocab_size.npy')"
      ],
      "execution_count": 19,
      "outputs": []
    },
    {
      "cell_type": "markdown",
      "metadata": {
        "id": "R51XHRzbuB9j"
      },
      "source": [
        "## CNN"
      ]
    },
    {
      "cell_type": "code",
      "metadata": {
        "colab": {
          "base_uri": "https://localhost:8080/"
        },
        "id": "B5CrEeEfshKE",
        "outputId": "0f8ed143-70f5-4b15-ad56-0634f273bf63"
      },
      "source": [
        "model = Sequential()\n",
        "model.add(Embedding(vocab_size,4,input_length=500,mask_zero=True))\n",
        "model.add(Conv1D(8,3,activation='relu'))\n",
        "model.add(Dropout(0.2))\n",
        "model.add(Conv1D(16,2,strides=2,activation='relu'))\n",
        "model.add(Dropout(0.3))\n",
        "model.add(GlobalMaxPooling1D())\n",
        "# model.add(Dense(32,activation='relu'))\n",
        "# model.add(Dropout(0.5))\n",
        "# model.add(Dense(64,activation='relu'))\n",
        "# model.add(Dropout(0.5))\n",
        "# model.add(Dense(16,activation='relu'))\n",
        "# model.add(Dropout(0.3))\n",
        "model.add(Dense(8,activation='relu'))\n",
        "model.add(Dropout(0.2))\n",
        "model.add(Dense(7,activation='sigmoid'))\n",
        "\n",
        "\n",
        "model.summary()"
      ],
      "execution_count": 20,
      "outputs": [
        {
          "output_type": "stream",
          "text": [
            "Model: \"sequential_1\"\n",
            "_________________________________________________________________\n",
            "Layer (type)                 Output Shape              Param #   \n",
            "=================================================================\n",
            "embedding_1 (Embedding)      (None, 500, 4)            130116    \n",
            "_________________________________________________________________\n",
            "conv1d_2 (Conv1D)            (None, 498, 8)            104       \n",
            "_________________________________________________________________\n",
            "dropout_5 (Dropout)          (None, 498, 8)            0         \n",
            "_________________________________________________________________\n",
            "conv1d_3 (Conv1D)            (None, 249, 16)           272       \n",
            "_________________________________________________________________\n",
            "dropout_6 (Dropout)          (None, 249, 16)           0         \n",
            "_________________________________________________________________\n",
            "global_max_pooling1d_1 (Glob (None, 16)                0         \n",
            "_________________________________________________________________\n",
            "dense_4 (Dense)              (None, 32)                544       \n",
            "_________________________________________________________________\n",
            "dropout_7 (Dropout)          (None, 32)                0         \n",
            "_________________________________________________________________\n",
            "dense_5 (Dense)              (None, 64)                2112      \n",
            "_________________________________________________________________\n",
            "dropout_8 (Dropout)          (None, 64)                0         \n",
            "_________________________________________________________________\n",
            "dense_6 (Dense)              (None, 16)                1040      \n",
            "_________________________________________________________________\n",
            "dropout_9 (Dropout)          (None, 16)                0         \n",
            "_________________________________________________________________\n",
            "dense_7 (Dense)              (None, 8)                 136       \n",
            "_________________________________________________________________\n",
            "dropout_10 (Dropout)         (None, 8)                 0         \n",
            "_________________________________________________________________\n",
            "dense_8 (Dense)              (None, 7)                 63        \n",
            "=================================================================\n",
            "Total params: 134,387\n",
            "Trainable params: 134,387\n",
            "Non-trainable params: 0\n",
            "_________________________________________________________________\n"
          ],
          "name": "stdout"
        }
      ]
    },
    {
      "cell_type": "markdown",
      "metadata": {
        "id": "x9-Mtr5buExT"
      },
      "source": [
        "## Compile\n"
      ]
    },
    {
      "cell_type": "code",
      "metadata": {
        "id": "FzUWkrhUDqEf"
      },
      "source": [
        "execute = False"
      ],
      "execution_count": 21,
      "outputs": []
    },
    {
      "cell_type": "code",
      "metadata": {
        "colab": {
          "base_uri": "https://localhost:8080/"
        },
        "id": "pW32w30nkah2",
        "outputId": "5f0f8c55-762d-4bfa-86ca-d48694354ca8"
      },
      "source": [
        "if execute == True:\n",
        "  model.compile(loss=binary_crossentropy,\n",
        "                optimizer='rmsprop' ,\n",
        "                metrics=['accuracy'] )\n",
        "\n",
        "  # batch_size = 1024\n",
        "  epochs = 20\n",
        "  for i in range(6):\n",
        "    print(\"[\"+\"*\"*40+\"Now training model with batch {}\".format(i)+\"*\"*40+\"]\")\n",
        "    print(\"New training batch data loading in progress...\")\n",
        "    x_train,y_train = get_train_batch(i)\n",
        "    print(\"New batch loaded\")\n",
        "    # x_test,y_test = get_test_batch(i)\n",
        "    # model.fit(np.asarray(x_train),np.asarray(y_train),epochs=epochs,batch_size=batch_size,validation_data=(np.asarray(x_test),np.asarray(y_test))) \n",
        "    if i == 5:\n",
        "      verbose = True\n",
        "    else:\n",
        "      verbose = False\n",
        "    model.fit(np.asarray(x_train),np.asarray(y_train),epochs=epochs,verbose=verbose)\n",
        "    print(\"[\"+\"*\"*40+\"Batch {}'s training successfully completed\".format(i)+\"*\"*40+\"]\")\n",
        "else:\n",
        "  print(\"Loading saved Convolutional model...\")\n",
        "  model = load_model('/content/drive/MyDrive/Project-2021/Sikka_AI/Saved_files/CNN_model')\n",
        "  print(\"Loading done!\")"
      ],
      "execution_count": 22,
      "outputs": [
        {
          "output_type": "stream",
          "text": [
            "[****************************************Now training model with batch 0****************************************]\n",
            "New training batch data loading in progress...\n",
            "New batch loaded\n",
            "WARNING:tensorflow:Model was constructed with shape (None, 500) for input KerasTensor(type_spec=TensorSpec(shape=(None, 500), dtype=tf.float32, name='embedding_1_input'), name='embedding_1_input', description=\"created by layer 'embedding_1_input'\"), but it was called on an input with incompatible shape (None, 32303).\n",
            "WARNING:tensorflow:Model was constructed with shape (None, 500) for input KerasTensor(type_spec=TensorSpec(shape=(None, 500), dtype=tf.float32, name='embedding_1_input'), name='embedding_1_input', description=\"created by layer 'embedding_1_input'\"), but it was called on an input with incompatible shape (None, 32303).\n",
            "[****************************************Batch 0's training successfully completed****************************************]\n",
            "[****************************************Now training model with batch 1****************************************]\n",
            "New training batch data loading in progress...\n",
            "New batch loaded\n",
            "[****************************************Batch 1's training successfully completed****************************************]\n",
            "[****************************************Now training model with batch 2****************************************]\n",
            "New training batch data loading in progress...\n",
            "New batch loaded\n",
            "[****************************************Batch 2's training successfully completed****************************************]\n",
            "[****************************************Now training model with batch 3****************************************]\n",
            "New training batch data loading in progress...\n",
            "New batch loaded\n",
            "[****************************************Batch 3's training successfully completed****************************************]\n",
            "[****************************************Now training model with batch 4****************************************]\n",
            "New training batch data loading in progress...\n",
            "New batch loaded\n",
            "[****************************************Batch 4's training successfully completed****************************************]\n",
            "[****************************************Now training model with batch 5****************************************]\n",
            "New training batch data loading in progress...\n",
            "New batch loaded\n",
            "Epoch 1/20\n",
            "182/182 [==============================] - 7s 40ms/step - loss: 0.4061 - accuracy: 0.5565\n",
            "Epoch 2/20\n",
            "182/182 [==============================] - 7s 40ms/step - loss: 0.4066 - accuracy: 0.5596\n",
            "Epoch 3/20\n",
            "182/182 [==============================] - 7s 40ms/step - loss: 0.4055 - accuracy: 0.5678\n",
            "Epoch 4/20\n",
            "182/182 [==============================] - 7s 40ms/step - loss: 0.4057 - accuracy: 0.5642\n",
            "Epoch 5/20\n",
            "182/182 [==============================] - 7s 40ms/step - loss: 0.4058 - accuracy: 0.5348\n",
            "Epoch 6/20\n",
            "182/182 [==============================] - 7s 41ms/step - loss: 0.4061 - accuracy: 0.5603\n",
            "Epoch 7/20\n",
            "182/182 [==============================] - 8s 42ms/step - loss: 0.4047 - accuracy: 0.5532\n",
            "Epoch 8/20\n",
            "182/182 [==============================] - 8s 41ms/step - loss: 0.4064 - accuracy: 0.5630\n",
            "Epoch 9/20\n",
            "182/182 [==============================] - 7s 41ms/step - loss: 0.4046 - accuracy: 0.5553\n",
            "Epoch 10/20\n",
            "182/182 [==============================] - 7s 40ms/step - loss: 0.4080 - accuracy: 0.5558\n",
            "Epoch 11/20\n",
            "182/182 [==============================] - 7s 41ms/step - loss: 0.4050 - accuracy: 0.5591\n",
            "Epoch 12/20\n",
            "182/182 [==============================] - 7s 41ms/step - loss: 0.4059 - accuracy: 0.5542\n",
            "Epoch 13/20\n",
            "182/182 [==============================] - 7s 40ms/step - loss: 0.4068 - accuracy: 0.5546\n",
            "Epoch 14/20\n",
            "182/182 [==============================] - 7s 40ms/step - loss: 0.4060 - accuracy: 0.5520\n",
            "Epoch 15/20\n",
            "182/182 [==============================] - 7s 41ms/step - loss: 0.4076 - accuracy: 0.5632\n",
            "Epoch 16/20\n",
            "182/182 [==============================] - 8s 41ms/step - loss: 0.4046 - accuracy: 0.5541\n",
            "Epoch 17/20\n",
            "182/182 [==============================] - 7s 40ms/step - loss: 0.4051 - accuracy: 0.5499\n",
            "Epoch 18/20\n",
            "182/182 [==============================] - 7s 40ms/step - loss: 0.4060 - accuracy: 0.5548\n",
            "Epoch 19/20\n",
            "182/182 [==============================] - 8s 42ms/step - loss: 0.4068 - accuracy: 0.5549\n",
            "Epoch 20/20\n",
            "182/182 [==============================] - 8s 42ms/step - loss: 0.4059 - accuracy: 0.5616\n",
            "[****************************************Batch 5's training successfully completed****************************************]\n"
          ],
          "name": "stdout"
        }
      ]
    },
    {
      "cell_type": "code",
      "metadata": {
        "id": "GSfcncy97ES7"
      },
      "source": [
        "def get_test_accuracy(model,i):\n",
        "  x_test,y_test = get_test_batch(i)\n",
        "  return model.evaluate(np.asarray(x_test),np.asarray(y_test),verbose=False)\n"
      ],
      "execution_count": 23,
      "outputs": []
    },
    {
      "cell_type": "code",
      "metadata": {
        "colab": {
          "base_uri": "https://localhost:8080/"
        },
        "id": "mOciQ9PhyCCO",
        "outputId": "a2e0c1b2-c1cf-41ce-ad66-7d81c099dc4e"
      },
      "source": [
        "for i in range(6):\n",
        "  print(\"Test Accuracy for batch {} in data set {}%\".format(i,np.round(get_test_accuracy(model,i)[1]*100,2)))"
      ],
      "execution_count": 24,
      "outputs": [
        {
          "output_type": "stream",
          "text": [
            "WARNING:tensorflow:Model was constructed with shape (None, 500) for input KerasTensor(type_spec=TensorSpec(shape=(None, 500), dtype=tf.float32, name='embedding_1_input'), name='embedding_1_input', description=\"created by layer 'embedding_1_input'\"), but it was called on an input with incompatible shape (None, 32303).\n",
            "Test Accuracy for batch 0 in data set 90.33%\n",
            "Test Accuracy for batch 1 in data set 90.39%\n",
            "Test Accuracy for batch 2 in data set 90.27%\n",
            "Test Accuracy for batch 3 in data set 90.05%\n",
            "Test Accuracy for batch 4 in data set 90.03%\n",
            "Test Accuracy for batch 5 in data set 90.38%\n"
          ],
          "name": "stdout"
        }
      ]
    },
    {
      "cell_type": "markdown",
      "metadata": {
        "id": "FCUDzS8lCjhC"
      },
      "source": [
        "#Saving the Model"
      ]
    },
    {
      "cell_type": "code",
      "metadata": {
        "colab": {
          "base_uri": "https://localhost:8080/"
        },
        "id": "34yPNpcDCoT_",
        "outputId": "e6064329-9983-435f-bc06-cd93d0b50be4"
      },
      "source": [
        "if execute == True:\n",
        "  model.save('/content/drive/MyDrive/Project-2021/Sikka_AI/Saved_files/CNN_model')"
      ],
      "execution_count": 25,
      "outputs": [
        {
          "output_type": "stream",
          "text": [
            "INFO:tensorflow:Assets written to: /content/drive/MyDrive/Project-2021/Sikka_AI/Saved_files/CNN_model/assets\n"
          ],
          "name": "stdout"
        }
      ]
    },
    {
      "cell_type": "markdown",
      "metadata": {
        "id": "1dwjd7xhB9VW"
      },
      "source": [
        "#//"
      ]
    },
    {
      "cell_type": "code",
      "metadata": {
        "id": "MqipJ_XgnEfF"
      },
      "source": [
        "# model.compile(loss=binary_crossentropy,\n",
        "#               optimizer='rmsprop' ,\n",
        "#               metrics=['accuracy'] )\n",
        "\n",
        "# batch_size = 3000\n",
        "# epochs = 5\n",
        "# i = 0\n",
        "# x_train,y_train = get_train_batch(i)\n",
        "# # x_test,y_test = get_test_batch(i)\n",
        "# # model.fit(np.asarray(x_train),np.asarray(y_train),epochs=epochs,batch_size=batch_size,validation_data=(np.asarray(x_test),np.asarray(y_test)))  \n",
        "# model.fit(np.asarray(x_train),np.asarray(y_train),epochs=epochs)"
      ],
      "execution_count": 26,
      "outputs": []
    },
    {
      "cell_type": "code",
      "metadata": {
        "id": "gL2ZN-LPGZMa"
      },
      "source": [
        "# CNN_model = load_model('/content/drive/MyDrive/Project-2021/Sikka_AI/Saved_files/CNN_model')"
      ],
      "execution_count": 27,
      "outputs": []
    },
    {
      "cell_type": "code",
      "metadata": {
        "id": "y1Z0kSrYGo7i"
      },
      "source": [
        "# for i in range(6):\n",
        "#   # print(\"Accuracy metrics for batch {} in data set\".format(i)+\"%\",np.round(get_test_accuracy(CNN_model,i)[1]*100,2))"
      ],
      "execution_count": 28,
      "outputs": []
    }
  ]
}