{
  "nbformat": 4,
  "nbformat_minor": 0,
  "metadata": {
    "colab": {
      "name": "Sikka_AI_word_embeddings.ipynb",
      "provenance": [],
      "machine_shape": "hm",
      "mount_file_id": "1qA2vdVVXlMZQ9oK3RH-1HITIfJzOVeB4",
      "authorship_tag": "ABX9TyMndhIfyQrPlZ/VMeAnPH/I",
      "include_colab_link": true
    },
    "kernelspec": {
      "name": "python3",
      "display_name": "Python 3"
    },
    "language_info": {
      "name": "python"
    },
    "accelerator": "GPU"
  },
  "cells": [
    {
      "cell_type": "markdown",
      "metadata": {
        "id": "view-in-github",
        "colab_type": "text"
      },
      "source": [
        "<a href=\"https://colab.research.google.com/github/achyutak/Project-2021/blob/main/Sikka_AI/Final/2_word_embeddings.ipynb\" target=\"_parent\"><img src=\"https://colab.research.google.com/assets/colab-badge.svg\" alt=\"Open In Colab\"/></a>"
      ]
    },
    {
      "cell_type": "code",
      "metadata": {
        "colab": {
          "base_uri": "https://localhost:8080/"
        },
        "id": "32jFn8wvmbXX",
        "outputId": "5243540e-72c4-43eb-8e3c-9c39d2da58bb"
      },
      "source": [
        "from google.colab import drive\n",
        "drive.mount('/content/drive')"
      ],
      "execution_count": null,
      "outputs": [
        {
          "output_type": "stream",
          "text": [
            "Drive already mounted at /content/drive; to attempt to forcibly remount, call drive.mount(\"/content/drive\", force_remount=True).\n"
          ],
          "name": "stdout"
        }
      ]
    },
    {
      "cell_type": "code",
      "metadata": {
        "id": "mcU5H8domSxE"
      },
      "source": [
        "import pandas as pd\n",
        "import numpy as np\n",
        "from sklearn.feature_extraction.text import CountVectorizer"
      ],
      "execution_count": null,
      "outputs": []
    },
    {
      "cell_type": "code",
      "metadata": {
        "id": "rJRQMpcwmXlk"
      },
      "source": [
        "# clean_df = pd.read_pickle('/content/drive/MyDrive/Project-2021/Sikka_AI/Saved_files/records_20K.pkl')\n",
        "X_train = pd.read_pickle('/content/drive/MyDrive/Project-2021/Sikka_AI/Saved_files/train.pkl')\n",
        "X_test = pd.read_pickle('/content/drive/MyDrive/Project-2021/Sikka_AI/Saved_files/test.pkl')\n",
        "Y_train = pd.read_pickle('/content/drive/MyDrive/Project-2021/Sikka_AI/Saved_files/train_labels.pkl')\n",
        "Y_test = pd.read_pickle('/content/drive/MyDrive/Project-2021/Sikka_AI/Saved_files/test_labels.pkl')"
      ],
      "execution_count": null,
      "outputs": []
    },
    {
      "cell_type": "markdown",
      "metadata": {
        "id": "dSUH7phonglu"
      },
      "source": [
        "Vectorizing Texts"
      ]
    },
    {
      "cell_type": "code",
      "metadata": {
        "id": "6Yi_isV9mnz0",
        "colab": {
          "base_uri": "https://localhost:8080/"
        },
        "outputId": "c7b9aa7e-c262-4457-a008-8000a02f64a2"
      },
      "source": [
        "cv = CountVectorizer()\n",
        "cv.fit(X_train)"
      ],
      "execution_count": null,
      "outputs": [
        {
          "output_type": "execute_result",
          "data": {
            "text/plain": [
              "CountVectorizer(analyzer='word', binary=False, decode_error='strict',\n",
              "                dtype=<class 'numpy.int64'>, encoding='utf-8', input='content',\n",
              "                lowercase=True, max_df=1.0, max_features=None, min_df=1,\n",
              "                ngram_range=(1, 1), preprocessor=None, stop_words=None,\n",
              "                strip_accents=None, token_pattern='(?u)\\\\b\\\\w\\\\w+\\\\b',\n",
              "                tokenizer=None, vocabulary=None)"
            ]
          },
          "metadata": {
            "tags": []
          },
          "execution_count": 4
        }
      ]
    },
    {
      "cell_type": "markdown",
      "metadata": {
        "id": "VcMjQ1PJAvzK"
      },
      "source": [
        "#Evaluation\n",
        "\n",
        "The following has been done to evaluate the embedded dataframe and identify columns that need to be trimmed"
      ]
    },
    {
      "cell_type": "code",
      "metadata": {
        "id": "fNcKwMNQpsaz"
      },
      "source": [
        "# x_test = cv.transform(X_test.comment_text)"
      ],
      "execution_count": null,
      "outputs": []
    },
    {
      "cell_type": "code",
      "metadata": {
        "id": "EqoVPCXGp8pO"
      },
      "source": [
        "# embedded_test_set = pd.DataFrame(x_test.toarray(),columns=cv.get_feature_names())"
      ],
      "execution_count": null,
      "outputs": []
    },
    {
      "cell_type": "code",
      "metadata": {
        "id": "AWmBbyz6nloK"
      },
      "source": [
        "# len(cv.vocabulary_)"
      ],
      "execution_count": null,
      "outputs": []
    },
    {
      "cell_type": "code",
      "metadata": {
        "id": "FIOUoRiCnsnA"
      },
      "source": [
        "# docs = pd.DataFrame(x_train.toarray(),columns=cv.get_feature_names())\n",
        "# # "
      ],
      "execution_count": null,
      "outputs": []
    },
    {
      "cell_type": "code",
      "metadata": {
        "id": "L4KHAIgRoJkr"
      },
      "source": [
        "# embedded_test_set.iloc[:,-225:]"
      ],
      "execution_count": null,
      "outputs": []
    },
    {
      "cell_type": "markdown",
      "metadata": {
        "id": "Vw9wUXww2Mkl"
      },
      "source": [
        "Removing unnecessary characters"
      ]
    },
    {
      "cell_type": "code",
      "metadata": {
        "id": "dcYtyOY6Dfnx"
      },
      "source": [
        "N_columns_to_trim = 225"
      ],
      "execution_count": null,
      "outputs": []
    },
    {
      "cell_type": "code",
      "metadata": {
        "id": "DTpVFGLZuMXm"
      },
      "source": [
        "# docs = docs.iloc[:,:-225]"
      ],
      "execution_count": null,
      "outputs": []
    },
    {
      "cell_type": "code",
      "metadata": {
        "id": "AqZB36qDvOhJ"
      },
      "source": [
        "# docs.head()"
      ],
      "execution_count": null,
      "outputs": []
    },
    {
      "cell_type": "code",
      "metadata": {
        "id": "tp64nKoWvQFk"
      },
      "source": [
        "# pd.to(docs,'/content/drive/MyDrive/Project-2021/Sikka_AI/Saved_files/word_embeddings.pkl')"
      ],
      "execution_count": null,
      "outputs": []
    },
    {
      "cell_type": "code",
      "metadata": {
        "id": "qoGMTPfbyBQ_"
      },
      "source": [
        "# docs.to_feather('/content/drive/MyDrive/Project-2021/Sikka_AI/Saved_files/word_embeddings')"
      ],
      "execution_count": null,
      "outputs": []
    },
    {
      "cell_type": "code",
      "metadata": {
        "id": "7NwRJABRyt1G"
      },
      "source": [
        "# docs = pd.read_feather('/content/drive/MyDrive/Project-2021/Sikka_AI/Saved_files/word_embeddings')"
      ],
      "execution_count": null,
      "outputs": []
    },
    {
      "cell_type": "code",
      "metadata": {
        "id": "UxR90ZqMzAVd"
      },
      "source": [
        "# docs.to_pickle('/content/drive/MyDrive/Project-2021/Sikka_AI/Saved_files/word_embeddings_pickled.pkl')"
      ],
      "execution_count": null,
      "outputs": []
    },
    {
      "cell_type": "code",
      "metadata": {
        "id": "oZ8txHyzqPzn"
      },
      "source": [
        "# embedded_test_set = embedded_test_set.iloc[:,:-225]"
      ],
      "execution_count": null,
      "outputs": []
    },
    {
      "cell_type": "code",
      "metadata": {
        "id": "zIAFd7a7qQgN"
      },
      "source": [
        "#  embedded_test_set.to_feather('/content/drive/MyDrive/Project-2021/Sikka_AI/Saved_files/test_word_embeddings')"
      ],
      "execution_count": null,
      "outputs": []
    },
    {
      "cell_type": "code",
      "metadata": {
        "id": "_CXXBovOqapg"
      },
      "source": [
        "# X_train"
      ],
      "execution_count": null,
      "outputs": []
    },
    {
      "cell_type": "code",
      "metadata": {
        "id": "xGI6gfhwtfpi"
      },
      "source": [
        "# embedded_test_set"
      ],
      "execution_count": null,
      "outputs": []
    },
    {
      "cell_type": "markdown",
      "metadata": {
        "id": "Rlg1KoVjAVKK"
      },
      "source": [
        "#Vectorization"
      ]
    },
    {
      "cell_type": "code",
      "metadata": {
        "id": "zHimLbob6Frv"
      },
      "source": [
        "def vectorizer(cv,df,n:'iteration',data_type:{'train','test'},trim_columns:'integer'):\n",
        "  transformed_df = cv.transform(df)\n",
        "  embedded_df = pd.DataFrame(transformed_df.toarray(),columns=cv.get_feature_names())\n",
        "  embedded_df = embedded_df.iloc[:,:-trim_columns]\n",
        "  if data_type == 'test':\n",
        "    embedded_df.to_pickle('/content/drive/MyDrive/Project-2021/Sikka_AI/Saved_files/test_embeddings/test_word_embeddings_pickled_' + str(n) + '.pkl')\n",
        "  if data_type == 'train':\n",
        "    embedded_df.to_pickle('/content/drive/MyDrive/Project-2021/Sikka_AI/Saved_files/train_embeddings/train_word_embeddings_pickled_' + str(n) + '.pkl')\n",
        "  else:\n",
        "    KeyboardInterrupt('Please make necessary changes in code to accomodate your need')\n",
        "  print(\"Pickled \"+str(n)+\" batches\")\n",
        "\n"
      ],
      "execution_count": null,
      "outputs": []
    },
    {
      "cell_type": "markdown",
      "metadata": {
        "id": "gOv5LBUsBMjz"
      },
      "source": [
        "#Vetorizing and Pickling Train data set"
      ]
    },
    {
      "cell_type": "code",
      "metadata": {
        "id": "m4eMt4C4BbF4"
      },
      "source": [
        "# cd /content/drive/MyDrive/Project-2021/Sikka_AI/Saved_files/"
      ],
      "execution_count": null,
      "outputs": []
    },
    {
      "cell_type": "code",
      "metadata": {
        "id": "S-hNOkR-Bu1I"
      },
      "source": [
        "# mkdir train_embeddings"
      ],
      "execution_count": null,
      "outputs": []
    },
    {
      "cell_type": "code",
      "metadata": {
        "id": "Ul2X_4cQIYZr"
      },
      "source": [
        ""
      ],
      "execution_count": null,
      "outputs": []
    },
    {
      "cell_type": "code",
      "metadata": {
        "id": "jFR4NRpgBL_J"
      },
      "source": [
        "batch_size = 6\n",
        "batch = len(X_train)/batch_size"
      ],
      "execution_count": null,
      "outputs": []
    },
    {
      "cell_type": "code",
      "metadata": {
        "colab": {
          "base_uri": "https://localhost:8080/"
        },
        "id": "SUfAL8EqBTUC",
        "outputId": "48128027-cc80-4759-ce10-313c2fa449a9"
      },
      "source": [
        "i = 0\n",
        "j = 0\n",
        "for n in range(0,batch_size):\n",
        "  i = j\n",
        "  j += batch\n",
        "  i = int(i)\n",
        "  j = int(j)\n",
        "  df = X_train[i:j]\n",
        "  labels = Y_train.iloc[i:j,:]\n",
        "  labels.to_pickle('/content/drive/MyDrive/Project-2021/Sikka_AI/Saved_files/train_embeddings/train_labels_batch_'+str(n)+'.pkl')\n",
        "  vectorizer(cv,df,n,'train',int(N_columns_to_trim))\n"
      ],
      "execution_count": null,
      "outputs": [
        {
          "output_type": "stream",
          "text": [
            "Pickled 0 batches\n",
            "Pickled 1 batches\n",
            "Pickled 2 batches\n",
            "Pickled 3 batches\n",
            "Pickled 4 batches\n",
            "Pickled 5 batches\n"
          ],
          "name": "stdout"
        }
      ]
    },
    {
      "cell_type": "code",
      "metadata": {
        "id": "uXPuTojvBVnn"
      },
      "source": [
        "# df = pd.read_pickle('/content/drive/MyDrive/Project-2021/Sikka_AI/Saved_files/train_embeddings/train_word_embeddings_pickled_1.pkl')"
      ],
      "execution_count": null,
      "outputs": []
    },
    {
      "cell_type": "code",
      "metadata": {
        "id": "H5O4Eu1zpMbC"
      },
      "source": [
        "# np.save('/content/drive/MyDrive/Project-2021/Sikka_AI/Saved_files/vocab_size',df.shape[1])\n",
        "np.save('/content/drive/MyDrive/Project-2021/Sikka_AI/Saved_files/vocab_size',len(cv.vocabulary_)+1)"
      ],
      "execution_count": null,
      "outputs": []
    },
    {
      "cell_type": "markdown",
      "metadata": {
        "id": "46heVSJI-KFa"
      },
      "source": [
        "# Vectorizing and pickling test data set"
      ]
    },
    {
      "cell_type": "code",
      "metadata": {
        "id": "1BXcMgdoC3Hm"
      },
      "source": [
        "# !cd /content/drive/MyDrive/Project-2021/Sikka_AI/Saved_files/\n",
        "# !mkdir test_embeddings"
      ],
      "execution_count": null,
      "outputs": []
    },
    {
      "cell_type": "code",
      "metadata": {
        "id": "VSaXUkGZ30zB"
      },
      "source": [
        "batch_size = 6\n",
        "batch = len(X_test)/batch_size"
      ],
      "execution_count": null,
      "outputs": []
    },
    {
      "cell_type": "code",
      "metadata": {
        "colab": {
          "base_uri": "https://localhost:8080/"
        },
        "id": "9h8qXYI434oP",
        "outputId": "ad422ca6-ba4b-4d41-dc21-6b3243ddc59d"
      },
      "source": [
        "i = 0\n",
        "j = 0\n",
        "for n in range(0,batch_size):\n",
        "  i = j\n",
        "  j += batch\n",
        "  i = int(i)\n",
        "  j = int(j)\n",
        "  df = X_test.iloc[i:j,:]\n",
        "  labels = Y_test.iloc[i:j,:]\n",
        "  labels.to_pickle('/content/drive/MyDrive/Project-2021/Sikka_AI/Saved_files/test_embeddings/test_labels_batch_'+str(n)+'.pkl')\n",
        "  vectorizer(cv,df.comment_text,n,'test',int(N_columns_to_trim))\n",
        "\n"
      ],
      "execution_count": null,
      "outputs": [
        {
          "output_type": "stream",
          "text": [
            "Pickled 0 batches\n",
            "Pickled 1 batches\n",
            "Pickled 2 batches\n",
            "Pickled 3 batches\n",
            "Pickled 4 batches\n",
            "Pickled 5 batches\n"
          ],
          "name": "stdout"
        }
      ]
    },
    {
      "cell_type": "code",
      "metadata": {
        "id": "FwF9Pdyy5Ise"
      },
      "source": [
        "# pd.read_pickle('/content/drive/MyDrive/Project-2021/Sikka_AI/Saved_files/test_word_embeddings_pickled_1.pkl')"
      ],
      "execution_count": null,
      "outputs": []
    },
    {
      "cell_type": "code",
      "metadata": {
        "id": "fHZXNJqvSked"
      },
      "source": [
        ""
      ],
      "execution_count": null,
      "outputs": []
    }
  ]
}