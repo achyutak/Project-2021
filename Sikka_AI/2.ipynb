{
  "nbformat": 4,
  "nbformat_minor": 0,
  "metadata": {
    "colab": {
      "name": "Sikka_AI.ipynb",
      "provenance": [],
      "mount_file_id": "1dA3Q0mcvt-8hg3crZox88EQeL8MiUsf8",
      "authorship_tag": "ABX9TyOSBzDAclj51Pie7QfLz89c",
      "include_colab_link": true
    },
    "kernelspec": {
      "name": "python3",
      "display_name": "Python 3"
    },
    "language_info": {
      "name": "python"
    },
    "accelerator": "GPU"
  },
  "cells": [
    {
      "cell_type": "markdown",
      "metadata": {
        "id": "view-in-github",
        "colab_type": "text"
      },
      "source": [
        "<a href=\"https://colab.research.google.com/github/achyutak/Project-2021/blob/main/Sikka_AI/2.ipynb\" target=\"_parent\"><img src=\"https://colab.research.google.com/assets/colab-badge.svg\" alt=\"Open In Colab\"/></a>"
      ]
    },
    {
      "cell_type": "markdown",
      "metadata": {
        "id": "-bYiLNTBaL1q"
      },
      "source": [
        "#Import "
      ]
    },
    {
      "cell_type": "code",
      "metadata": {
        "colab": {
          "base_uri": "https://localhost:8080/"
        },
        "id": "pqizcpNzxqLZ",
        "outputId": "8245c469-8e79-406d-bf17-bd71ec026b03"
      },
      "source": [
        "import pandas as pd\n",
        "import seaborn as sns\n",
        "import numpy as np\n",
        "import os\n",
        "import glob\n",
        "import zipfile\n",
        "import random\n",
        "import nltk\n",
        "import string\n",
        "nltk.download('punkt')\n",
        "from nltk.tokenize import word_tokenize, wordpunct_tokenize\n",
        "nltk.download('wordnet')\n",
        "nltk.download('stopwords')\n",
        "from nltk.corpus import stopwords\n",
        "stopwords_list = stopwords.words('english')\n",
        "from nltk.stem import WordNetLemmatizer\n",
        "lemmatizer = WordNetLemmatizer()"
      ],
      "execution_count": null,
      "outputs": [
        {
          "output_type": "stream",
          "text": [
            "[nltk_data] Downloading package punkt to /root/nltk_data...\n",
            "[nltk_data]   Package punkt is already up-to-date!\n",
            "[nltk_data] Downloading package wordnet to /root/nltk_data...\n",
            "[nltk_data]   Package wordnet is already up-to-date!\n",
            "[nltk_data] Downloading package stopwords to /root/nltk_data...\n",
            "[nltk_data]   Package stopwords is already up-to-date!\n"
          ],
          "name": "stdout"
        }
      ]
    },
    {
      "cell_type": "code",
      "metadata": {
        "colab": {
          "base_uri": "https://localhost:8080/"
        },
        "id": "ZZIrBS5TOhoc",
        "outputId": "4472746a-11f4-424a-f793-d686326588ec"
      },
      "source": [
        "from google.colab import drive\n",
        "drive.mount('/content/drive')"
      ],
      "execution_count": null,
      "outputs": [
        {
          "output_type": "stream",
          "text": [
            "Drive already mounted at /content/drive; to attempt to forcibly remount, call drive.mount(\"/content/drive\", force_remount=True).\n"
          ],
          "name": "stdout"
        }
      ]
    },
    {
      "cell_type": "markdown",
      "metadata": {
        "id": "kaCo_6iPaBW-"
      },
      "source": [
        "#Extracting data to drive"
      ]
    },
    {
      "cell_type": "code",
      "metadata": {
        "id": "NR9M7IHAO8a8"
      },
      "source": [
        "# import glob\n",
        "# for i in glob.glob(\"*.zip\"):\n",
        "#   with zipfile.ZipFile('/content/' + i , 'r') as zip_ref:\n",
        "#     zip_ref.extractall('/content')\n"
      ],
      "execution_count": null,
      "outputs": []
    },
    {
      "cell_type": "code",
      "metadata": {
        "id": "6CIJnUsWZBU8"
      },
      "source": [
        "# cd /content/drive/MyDrive/Project-2021"
      ],
      "execution_count": null,
      "outputs": []
    },
    {
      "cell_type": "code",
      "metadata": {
        "id": "im1Fi0I3ZLMz"
      },
      "source": [
        "# mkdir Sikka_AI\n",
        "# # cd Sikka_AI/"
      ],
      "execution_count": null,
      "outputs": []
    },
    {
      "cell_type": "code",
      "metadata": {
        "id": "t2Ws8xs3ZQcA"
      },
      "source": [
        "# mv /content/sample_submission.csv ./"
      ],
      "execution_count": null,
      "outputs": []
    },
    {
      "cell_type": "markdown",
      "metadata": {
        "id": "BMaCYuLaZ5rc"
      },
      "source": [
        "#Data Exploration\n"
      ]
    },
    {
      "cell_type": "code",
      "metadata": {
        "id": "D0VRIjDzxyHK"
      },
      "source": [
        "df = pd.read_csv('/content/drive/MyDrive/Project-2021/Sikka_AI/train.csv')"
      ],
      "execution_count": null,
      "outputs": []
    },
    {
      "cell_type": "code",
      "metadata": {
        "colab": {
          "base_uri": "https://localhost:8080/"
        },
        "id": "vS7oPi5_x1l_",
        "outputId": "99ee9035-4b0b-4546-8ff9-2a97c3d116cf"
      },
      "source": [
        "df.comment_text[0]"
      ],
      "execution_count": null,
      "outputs": [
        {
          "output_type": "execute_result",
          "data": {
            "application/vnd.google.colaboratory.intrinsic+json": {
              "type": "string"
            },
            "text/plain": [
              "\"Explanation\\nWhy the edits made under my username Hardcore Metallica Fan were reverted? They weren't vandalisms, just closure on some GAs after I voted at New York Dolls FAC. And please don't remove the template from the talk page since I'm retired now.89.205.38.27\""
            ]
          },
          "metadata": {
            "tags": []
          },
          "execution_count": 8
        }
      ]
    },
    {
      "cell_type": "code",
      "metadata": {
        "colab": {
          "base_uri": "https://localhost:8080/"
        },
        "id": "wOR8_GiWyHzt",
        "outputId": "0138a32f-8407-42df-96d2-3988315cce58"
      },
      "source": [
        "df.info()"
      ],
      "execution_count": null,
      "outputs": [
        {
          "output_type": "stream",
          "text": [
            "<class 'pandas.core.frame.DataFrame'>\n",
            "RangeIndex: 159571 entries, 0 to 159570\n",
            "Data columns (total 8 columns):\n",
            " #   Column         Non-Null Count   Dtype \n",
            "---  ------         --------------   ----- \n",
            " 0   id             159571 non-null  object\n",
            " 1   comment_text   159571 non-null  object\n",
            " 2   toxic          159571 non-null  int64 \n",
            " 3   severe_toxic   159571 non-null  int64 \n",
            " 4   obscene        159571 non-null  int64 \n",
            " 5   threat         159571 non-null  int64 \n",
            " 6   insult         159571 non-null  int64 \n",
            " 7   identity_hate  159571 non-null  int64 \n",
            "dtypes: int64(6), object(2)\n",
            "memory usage: 9.7+ MB\n"
          ],
          "name": "stdout"
        }
      ]
    },
    {
      "cell_type": "code",
      "metadata": {
        "colab": {
          "base_uri": "https://localhost:8080/"
        },
        "id": "k-oe_8ZU3cwE",
        "outputId": "472f1482-7265-4b86-b327-925baf6fe67b"
      },
      "source": [
        "df.id.describe()"
      ],
      "execution_count": null,
      "outputs": [
        {
          "output_type": "execute_result",
          "data": {
            "text/plain": [
              "count               159571\n",
              "unique              159571\n",
              "top       d029e281145db352\n",
              "freq                     1\n",
              "Name: id, dtype: object"
            ]
          },
          "metadata": {
            "tags": []
          },
          "execution_count": 10
        }
      ]
    },
    {
      "cell_type": "code",
      "metadata": {
        "colab": {
          "base_uri": "https://localhost:8080/"
        },
        "id": "WRyCebYW3svg",
        "outputId": "ce339829-9077-44fc-d910-3cfffd7ecfc4"
      },
      "source": [
        "df.comment_text.describe()"
      ],
      "execution_count": null,
      "outputs": [
        {
          "output_type": "execute_result",
          "data": {
            "text/plain": [
              "count                                                159571\n",
              "unique                                               159571\n",
              "top       Please stop adding inappropriate external link...\n",
              "freq                                                      1\n",
              "Name: comment_text, dtype: object"
            ]
          },
          "metadata": {
            "tags": []
          },
          "execution_count": 11
        }
      ]
    },
    {
      "cell_type": "code",
      "metadata": {
        "colab": {
          "base_uri": "https://localhost:8080/"
        },
        "id": "JbhHLa9c35wA",
        "outputId": "7d5be607-7baa-4f57-b7f5-c760a18a7a0f"
      },
      "source": [
        "df.toxic.describe()"
      ],
      "execution_count": null,
      "outputs": [
        {
          "output_type": "execute_result",
          "data": {
            "text/plain": [
              "count    159571.000000\n",
              "mean          0.095844\n",
              "std           0.294379\n",
              "min           0.000000\n",
              "25%           0.000000\n",
              "50%           0.000000\n",
              "75%           0.000000\n",
              "max           1.000000\n",
              "Name: toxic, dtype: float64"
            ]
          },
          "metadata": {
            "tags": []
          },
          "execution_count": 12
        }
      ]
    },
    {
      "cell_type": "code",
      "metadata": {
        "colab": {
          "base_uri": "https://localhost:8080/"
        },
        "id": "AKkgi1rq3-Y_",
        "outputId": "d09da950-8717-4ec0-9099-07a4fa095dba"
      },
      "source": [
        "df.severe_toxic.describe()"
      ],
      "execution_count": null,
      "outputs": [
        {
          "output_type": "execute_result",
          "data": {
            "text/plain": [
              "count    159571.000000\n",
              "mean          0.009996\n",
              "std           0.099477\n",
              "min           0.000000\n",
              "25%           0.000000\n",
              "50%           0.000000\n",
              "75%           0.000000\n",
              "max           1.000000\n",
              "Name: severe_toxic, dtype: float64"
            ]
          },
          "metadata": {
            "tags": []
          },
          "execution_count": 13
        }
      ]
    },
    {
      "cell_type": "code",
      "metadata": {
        "colab": {
          "base_uri": "https://localhost:8080/"
        },
        "id": "AKt0HPHi4I27",
        "outputId": "d029f9a1-c034-4a94-de5e-3c21cf5e6084"
      },
      "source": [
        "df.obscene.describe()"
      ],
      "execution_count": null,
      "outputs": [
        {
          "output_type": "execute_result",
          "data": {
            "text/plain": [
              "count    159571.000000\n",
              "mean          0.052948\n",
              "std           0.223931\n",
              "min           0.000000\n",
              "25%           0.000000\n",
              "50%           0.000000\n",
              "75%           0.000000\n",
              "max           1.000000\n",
              "Name: obscene, dtype: float64"
            ]
          },
          "metadata": {
            "tags": []
          },
          "execution_count": 14
        }
      ]
    },
    {
      "cell_type": "code",
      "metadata": {
        "colab": {
          "base_uri": "https://localhost:8080/"
        },
        "id": "2_1epAuh4K33",
        "outputId": "ea2805f2-0da5-40e2-b833-c6ede572ec53"
      },
      "source": [
        "df.threat.describe()"
      ],
      "execution_count": null,
      "outputs": [
        {
          "output_type": "execute_result",
          "data": {
            "text/plain": [
              "count    159571.000000\n",
              "mean          0.002996\n",
              "std           0.054650\n",
              "min           0.000000\n",
              "25%           0.000000\n",
              "50%           0.000000\n",
              "75%           0.000000\n",
              "max           1.000000\n",
              "Name: threat, dtype: float64"
            ]
          },
          "metadata": {
            "tags": []
          },
          "execution_count": 15
        }
      ]
    },
    {
      "cell_type": "code",
      "metadata": {
        "colab": {
          "base_uri": "https://localhost:8080/"
        },
        "id": "9juNB8G64ZJH",
        "outputId": "2a30520b-7775-4875-9d97-829052ceff4b"
      },
      "source": [
        "df.insult.describe()"
      ],
      "execution_count": null,
      "outputs": [
        {
          "output_type": "execute_result",
          "data": {
            "text/plain": [
              "count    159571.000000\n",
              "mean          0.049364\n",
              "std           0.216627\n",
              "min           0.000000\n",
              "25%           0.000000\n",
              "50%           0.000000\n",
              "75%           0.000000\n",
              "max           1.000000\n",
              "Name: insult, dtype: float64"
            ]
          },
          "metadata": {
            "tags": []
          },
          "execution_count": 16
        }
      ]
    },
    {
      "cell_type": "code",
      "metadata": {
        "colab": {
          "base_uri": "https://localhost:8080/"
        },
        "id": "3QoA0gh-4eGg",
        "outputId": "8dfe31a6-2fd3-454e-d39a-3e479d9a455a"
      },
      "source": [
        "df.identity_hate.describe()"
      ],
      "execution_count": null,
      "outputs": [
        {
          "output_type": "execute_result",
          "data": {
            "text/plain": [
              "count    159571.000000\n",
              "mean          0.008805\n",
              "std           0.093420\n",
              "min           0.000000\n",
              "25%           0.000000\n",
              "50%           0.000000\n",
              "75%           0.000000\n",
              "max           1.000000\n",
              "Name: identity_hate, dtype: float64"
            ]
          },
          "metadata": {
            "tags": []
          },
          "execution_count": 17
        }
      ]
    },
    {
      "cell_type": "code",
      "metadata": {
        "id": "1-EozKt44gou"
      },
      "source": [
        "new_df = df.copy()"
      ],
      "execution_count": null,
      "outputs": []
    },
    {
      "cell_type": "code",
      "metadata": {
        "id": "XliUqnMw4xsc"
      },
      "source": [
        "new_df['Number_of_categories'] = new_df['identity_hate'] + new_df['insult'] + new_df['obscene'] + new_df['severe_toxic'] + new_df['threat'] + new_df['toxic']"
      ],
      "execution_count": null,
      "outputs": []
    },
    {
      "cell_type": "code",
      "metadata": {
        "colab": {
          "base_uri": "https://localhost:8080/"
        },
        "id": "UVqjdDRR5idk",
        "outputId": "ea0749e7-032a-403b-8b18-c2d2e4586038"
      },
      "source": [
        "new_df.Number_of_categories.describe()"
      ],
      "execution_count": null,
      "outputs": [
        {
          "output_type": "execute_result",
          "data": {
            "text/plain": [
              "count    159571.000000\n",
              "mean          0.219952\n",
              "std           0.748260\n",
              "min           0.000000\n",
              "25%           0.000000\n",
              "50%           0.000000\n",
              "75%           0.000000\n",
              "max           6.000000\n",
              "Name: Number_of_categories, dtype: float64"
            ]
          },
          "metadata": {
            "tags": []
          },
          "execution_count": 20
        }
      ]
    },
    {
      "cell_type": "code",
      "metadata": {
        "colab": {
          "base_uri": "https://localhost:8080/"
        },
        "id": "1sAwY1WX887e",
        "outputId": "c23270a4-f6c2-400b-94f8-4fdf0581809b"
      },
      "source": [
        "sns.displot(new_df.Number_of_categories)"
      ],
      "execution_count": null,
      "outputs": [
        {
          "output_type": "execute_result",
          "data": {
            "text/plain": [
              "<seaborn.axisgrid.FacetGrid at 0x7fb22aaadad0>"
            ]
          },
          "metadata": {
            "tags": []
          },
          "execution_count": 21
        },
        {
          "output_type": "display_data",
          "data": {
            "image/png": "[encoded data removed]",
            "text/plain": [
              "<Figure size 360x360 with 1 Axes>"
            ]
          },
          "metadata": {
            "tags": [],
            "needs_background": "light"
          }
        }
      ]
    },
    {
      "cell_type": "code",
      "metadata": {
        "colab": {
          "base_uri": "https://localhost:8080/"
        },
        "id": "RQ3i8z_85l8j",
        "outputId": "1dbd2ff1-15da-479a-befb-244a0b5020a7"
      },
      "source": [
        "sns.displot(new_df.Number_of_categories[new_df['Number_of_categories'] > 0])"
      ],
      "execution_count": null,
      "outputs": [
        {
          "output_type": "execute_result",
          "data": {
            "text/plain": [
              "<seaborn.axisgrid.FacetGrid at 0x7fb2229b5c90>"
            ]
          },
          "metadata": {
            "tags": []
          },
          "execution_count": 22
        },
        {
          "output_type": "display_data",
          "data": {
            "image/png": "[encoded data removed]",
            "text/plain": [
              "<Figure size 360x360 with 1 Axes>"
            ]
          },
          "metadata": {
            "tags": [],
            "needs_background": "light"
          }
        }
      ]
    },
    {
      "cell_type": "code",
      "metadata": {
        "colab": {
          "base_uri": "https://localhost:8080/"
        },
        "id": "mOsAnAsC9G3C",
        "outputId": "34275bfd-7119-4d26-c29b-3a36f21b2690"
      },
      "source": [
        "new_df[new_df.Number_of_categories == 0].index"
      ],
      "execution_count": null,
      "outputs": [
        {
          "output_type": "execute_result",
          "data": {
            "text/plain": [
              "Int64Index([     0,      1,      2,      3,      4,      5,      7,      8,\n",
              "                 9,     10,\n",
              "            ...\n",
              "            159561, 159562, 159563, 159564, 159565, 159566, 159567, 159568,\n",
              "            159569, 159570],\n",
              "           dtype='int64', length=143346)"
            ]
          },
          "metadata": {
            "tags": []
          },
          "execution_count": 23
        }
      ]
    },
    {
      "cell_type": "markdown",
      "metadata": {
        "id": "ukQ2YbRU7rF7"
      },
      "source": [
        "There are roughly 17000 (16225 to be precise) comments that belong to one of the 6 categories. The remaining 143346 of 159571 comments do not have any toxicity. This distribution may make the ML method biased."
      ]
    },
    {
      "cell_type": "code",
      "metadata": {
        "id": "SaPqt_Tw9tAD"
      },
      "source": [
        "index_list_none = random.sample(set(new_df[new_df.Number_of_categories == 0].index),20000)"
      ],
      "execution_count": null,
      "outputs": []
    },
    {
      "cell_type": "code",
      "metadata": {
        "id": "Vd6JmbX7DYLw"
      },
      "source": [
        "index_list_atleast_one = new_df[new_df.Number_of_categories > 0].index"
      ],
      "execution_count": null,
      "outputs": []
    },
    {
      "cell_type": "code",
      "metadata": {
        "id": "Cj6KjPV-913Z"
      },
      "source": [
        "drop_list = []\n",
        "for i in new_df.index:\n",
        "  if i not in index_list_none and i not in index_list_atleast_one:\n",
        "    drop_list.append(i)"
      ],
      "execution_count": null,
      "outputs": []
    },
    {
      "cell_type": "code",
      "metadata": {
        "id": "20TkdW7xD8N3"
      },
      "source": [
        "new_df.drop(labels=drop_list,inplace=True)"
      ],
      "execution_count": null,
      "outputs": []
    },
    {
      "cell_type": "code",
      "metadata": {
        "colab": {
          "base_uri": "https://localhost:8080/"
        },
        "id": "2Voy-p_0EsW-",
        "outputId": "2eee2b7d-54a7-4486-a8ab-79199bed7547"
      },
      "source": [
        "sns.displot(data=new_df['Number_of_categories'])"
      ],
      "execution_count": null,
      "outputs": [
        {
          "output_type": "execute_result",
          "data": {
            "text/plain": [
              "<seaborn.axisgrid.FacetGrid at 0x7fb2224ede50>"
            ]
          },
          "metadata": {
            "tags": []
          },
          "execution_count": 28
        },
        {
          "output_type": "display_data",
          "data": {
            "image/png": "[encoded data removed]",
            "text/plain": [
              "<Figure size 360x360 with 1 Axes>"
            ]
          },
          "metadata": {
            "tags": [],
            "needs_background": "light"
          }
        }
      ]
    },
    {
      "cell_type": "code",
      "metadata": {
        "colab": {
          "base_uri": "https://localhost:8080/"
        },
        "id": "dzsLD1BuGJ5j",
        "outputId": "540324ad-0303-4212-b320-9ecd965436e8"
      },
      "source": [
        "sns.distplot(new_df['Number_of_categories'])"
      ],
      "execution_count": null,
      "outputs": [
        {
          "output_type": "stream",
          "text": [
            "/usr/local/lib/python3.7/dist-packages/seaborn/distributions.py:2557: FutureWarning: `distplot` is a deprecated function and will be removed in a future version. Please adapt your code to use either `displot` (a figure-level function with similar flexibility) or `histplot` (an axes-level function for histograms).\n",
            "  warnings.warn(msg, FutureWarning)\n"
          ],
          "name": "stderr"
        },
        {
          "output_type": "execute_result",
          "data": {
            "text/plain": [
              "<matplotlib.axes._subplots.AxesSubplot at 0x7fb221ea5e90>"
            ]
          },
          "metadata": {
            "tags": []
          },
          "execution_count": 29
        },
        {
          "output_type": "display_data",
          "data": {
            "image/png": "[encoded data removed]",
            "text/plain": [
              "<Figure size 432x288 with 1 Axes>"
            ]
          },
          "metadata": {
            "tags": [],
            "needs_background": "light"
          }
        }
      ]
    },
    {
      "cell_type": "code",
      "metadata": {
        "id": "NaUaDL-mKkjK"
      },
      "source": [
        "new_df.reset_index(inplace=True)"
      ],
      "execution_count": null,
      "outputs": []
    },
    {
      "cell_type": "markdown",
      "metadata": {
        "id": "e_RAJPfiLcVv"
      },
      "source": [
        "# Cleaning the data\n"
      ]
    },
    {
      "cell_type": "code",
      "metadata": {
        "colab": {
          "base_uri": "https://localhost:8080/"
        },
        "id": "SO3grTj6KuNN",
        "outputId": "3848bad6-2103-44c4-eb6f-c787b396007f"
      },
      "source": [
        "new_df['comment_text']"
      ],
      "execution_count": null,
      "outputs": [
        {
          "output_type": "execute_result",
          "data": {
            "text/plain": [
              "0        Hey man, I'm really not trying to edit war. It...\n",
              "1        \"\\nMore\\nI can't make any real suggestions on ...\n",
              "2             COCKSUCKER BEFORE YOU PISS AROUND ON MY WORK\n",
              "3        Hey... what is it..\\n@ | talk .\\nWhat is it......\n",
              "4        Bye! \\n\\nDon't look, come or think of comming ...\n",
              "                               ...                        \n",
              "36220    \"\\n\\nHey listen don't you ever!!!! Delete my e...\n",
              "36221                          Talkback: 15 September 2012\n",
              "36222                           2005 (UTC)\\n 06:35, 31 Mar\n",
              "36223    and i'm going to keep posting the stuff u dele...\n",
              "36224    The numbers in parentheses are the additional ...\n",
              "Name: comment_text, Length: 36225, dtype: object"
            ]
          },
          "metadata": {
            "tags": []
          },
          "execution_count": 31
        }
      ]
    },
    {
      "cell_type": "code",
      "metadata": {
        "id": "UjA-5pNIK1hR"
      },
      "source": [
        "def clean_text(text):\n",
        "   \n",
        "    # Convert text to all lowercase letters\n",
        "    text = text.lower()\n",
        "    \n",
        "    # Remove whitespaces\n",
        "    text = text.strip()\n",
        "    \n",
        "    # Tokenize text\n",
        "    tokens = wordpunct_tokenize(text)\n",
        "    \n",
        "    # Remove all tokens that are not alphabetic   r[A-Za-z#]\n",
        "    tokens = [token for token in tokens if token.isalpha()]\n",
        "    \n",
        "    # Remove stopwords\n",
        "    tokens = [token for token in tokens if token not in stopwords_list]\n",
        "    \n",
        "    # Remove tokens less than three letters\n",
        "    # tokens = [token for token in tokens if not len(token)<4]\n",
        "    \n",
        "    # Remove punctuations\n",
        "    tokens = [token for token in tokens if token not in string.punctuation]\n",
        "    \n",
        "    # Lemmetize tokens\n",
        "    # tokens = [lemmatizer.lemmatize(token,pos='n') for token in tokens]\n",
        "    \n",
        "    # Stem tokens\n",
        "    #tokens = \n",
        "    \n",
        "    # Re-create text from filtered tokens, so that vectorizer won't complain\n",
        "    # text = ' '.join(tokens)\n",
        "    return tokens"
      ],
      "execution_count": null,
      "outputs": []
    },
    {
      "cell_type": "code",
      "metadata": {
        "id": "DNTdsXugNxBk"
      },
      "source": [
        "train_df = new_df.copy()"
      ],
      "execution_count": null,
      "outputs": []
    },
    {
      "cell_type": "code",
      "metadata": {
        "id": "hNWKh1jXN9_C"
      },
      "source": [
        "train_df['comment_text'] = train_df['comment_text'].apply(lambda x: clean_text(x))"
      ],
      "execution_count": null,
      "outputs": []
    },
    {
      "cell_type": "code",
      "metadata": {
        "colab": {
          "base_uri": "https://localhost:8080/"
        },
        "id": "v9iocgc3OE4w",
        "outputId": "106c1686-0a44-4cf5-b43e-0c3f969f4b44"
      },
      "source": [
        "train_df.comment_text"
      ],
      "execution_count": null,
      "outputs": [
        {
          "output_type": "execute_result",
          "data": {
            "text/plain": [
              "0        [hey, man, really, trying, edit, war, guy, con...\n",
              "1        [make, real, suggestions, improvement, wondere...\n",
              "2                         [cocksucker, piss, around, work]\n",
              "3        [hey, talk, exclusive, group, wp, talibans, go...\n",
              "4          [bye, look, come, think, comming, back, tosser]\n",
              "                               ...                        \n",
              "36220    [hey, listen, ever, delete, edits, ever, annoy...\n",
              "36221                                [talkback, september]\n",
              "36222                                           [utc, mar]\n",
              "36223    [going, keep, posting, stuff, u, deleted, fuck...\n",
              "36224    [numbers, parentheses, additional, decimal, po...\n",
              "Name: comment_text, Length: 36225, dtype: object"
            ]
          },
          "metadata": {
            "tags": []
          },
          "execution_count": 38
        }
      ]
    },
    {
      "cell_type": "code",
      "metadata": {
        "id": "sf6NQQxYcJav"
      },
      "source": [
        ""
      ],
      "execution_count": null,
      "outputs": []
    }
  ]
}