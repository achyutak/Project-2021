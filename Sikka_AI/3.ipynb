{
  "nbformat": 4,
  "nbformat_minor": 0,
  "metadata": {
    "colab": {
      "name": "Sikka_AI.ipynb",
      "provenance": [],
      "mount_file_id": "1dA3Q0mcvt-8hg3crZox88EQeL8MiUsf8",
      "authorship_tag": "ABX9TyPOixmnHApf/cbsvYEQR4dh",
      "include_colab_link": true
    },
    "kernelspec": {
      "name": "python3",
      "display_name": "Python 3"
    },
    "language_info": {
      "name": "python"
    },
    "accelerator": "GPU"
  },
  "cells": [
    {
      "cell_type": "markdown",
      "metadata": {
        "id": "view-in-github",
        "colab_type": "text"
      },
      "source": [
        "<a href=\"https://colab.research.google.com/github/achyutak/Project-2021/blob/main/Sikka_AI/3.ipynb\" target=\"_parent\"><img src=\"https://colab.research.google.com/assets/colab-badge.svg\" alt=\"Open In Colab\"/></a>"
      ]
    },
    {
      "cell_type": "markdown",
      "metadata": {
        "id": "-bYiLNTBaL1q"
      },
      "source": [
        "#Import "
      ]
    },
    {
      "cell_type": "code",
      "metadata": {
        "colab": {
          "base_uri": "https://localhost:8080/"
        },
        "id": "pqizcpNzxqLZ",
        "outputId": "bab16225-417c-4f30-bf4f-794bb2e15203"
      },
      "source": [
        "import pandas as pd\n",
        "import seaborn as sns\n",
        "import numpy as np\n",
        "import matplotlib.pyplot as plt\n",
        "import glob\n",
        "import zipfile\n",
        "import random\n",
        "import nltk\n",
        "import string\n",
        "nltk.download('punkt')\n",
        "from nltk.tokenize import word_tokenize, wordpunct_tokenize\n",
        "nltk.download('wordnet')\n",
        "nltk.download('stopwords')\n",
        "from nltk.corpus import stopwords\n",
        "stopwords_list = stopwords.words('english')\n",
        "from nltk.stem import WordNetLemmatizer\n",
        "lemmatizer = WordNetLemmatizer()"
      ],
      "execution_count": 1,
      "outputs": [
        {
          "output_type": "stream",
          "text": [
            "[nltk_data] Downloading package punkt to /root/nltk_data...\n",
            "[nltk_data]   Unzipping tokenizers/punkt.zip.\n",
            "[nltk_data] Downloading package wordnet to /root/nltk_data...\n",
            "[nltk_data]   Unzipping corpora/wordnet.zip.\n",
            "[nltk_data] Downloading package stopwords to /root/nltk_data...\n",
            "[nltk_data]   Unzipping corpora/stopwords.zip.\n"
          ],
          "name": "stdout"
        }
      ]
    },
    {
      "cell_type": "code",
      "metadata": {
        "colab": {
          "base_uri": "https://localhost:8080/"
        },
        "id": "ZZIrBS5TOhoc",
        "outputId": "6e5accaa-acf6-4f4d-9e91-ccdcd9d1d1cb"
      },
      "source": [
        "from google.colab import drive\n",
        "drive.mount('/content/drive')"
      ],
      "execution_count": 2,
      "outputs": [
        {
          "output_type": "stream",
          "text": [
            "Drive already mounted at /content/drive; to attempt to forcibly remount, call drive.mount(\"/content/drive\", force_remount=True).\n"
          ],
          "name": "stdout"
        }
      ]
    },
    {
      "cell_type": "markdown",
      "metadata": {
        "id": "kaCo_6iPaBW-"
      },
      "source": [
        "#Extracting data to drive"
      ]
    },
    {
      "cell_type": "code",
      "metadata": {
        "id": "NR9M7IHAO8a8"
      },
      "source": [
        "# import glob\n",
        "# for i in glob.glob(\"*.zip\"):\n",
        "#   with zipfile.ZipFile('/content/' + i , 'r') as zip_ref:\n",
        "#     zip_ref.extractall('/content')\n"
      ],
      "execution_count": 3,
      "outputs": []
    },
    {
      "cell_type": "code",
      "metadata": {
        "id": "6CIJnUsWZBU8"
      },
      "source": [
        "# cd /content/drive/MyDrive/Project-2021"
      ],
      "execution_count": 4,
      "outputs": []
    },
    {
      "cell_type": "code",
      "metadata": {
        "id": "im1Fi0I3ZLMz"
      },
      "source": [
        "# mkdir Sikka_AI\n",
        "# # cd Sikka_AI/"
      ],
      "execution_count": 5,
      "outputs": []
    },
    {
      "cell_type": "code",
      "metadata": {
        "id": "t2Ws8xs3ZQcA"
      },
      "source": [
        "# mv /content/sample_submission.csv ./"
      ],
      "execution_count": 6,
      "outputs": []
    },
    {
      "cell_type": "markdown",
      "metadata": {
        "id": "BMaCYuLaZ5rc"
      },
      "source": [
        "#Data Exploration\n"
      ]
    },
    {
      "cell_type": "code",
      "metadata": {
        "id": "D0VRIjDzxyHK"
      },
      "source": [
        "df = pd.read_csv('/content/drive/MyDrive/Project-2021/Sikka_AI/train.csv')"
      ],
      "execution_count": 7,
      "outputs": []
    },
    {
      "cell_type": "code",
      "metadata": {
        "colab": {
          "base_uri": "https://localhost:8080/",
          "height": 52
        },
        "id": "vS7oPi5_x1l_",
        "outputId": "eb941de8-df19-47e4-d7f1-6c70607ccb2c"
      },
      "source": [
        "df.comment_text[0]"
      ],
      "execution_count": 8,
      "outputs": [
        {
          "output_type": "execute_result",
          "data": {
            "application/vnd.google.colaboratory.intrinsic+json": {
              "type": "string"
            },
            "text/plain": [
              "\"Explanation\\nWhy the edits made under my username Hardcore Metallica Fan were reverted? They weren't vandalisms, just closure on some GAs after I voted at New York Dolls FAC. And please don't remove the template from the talk page since I'm retired now.89.205.38.27\""
            ]
          },
          "metadata": {
            "tags": []
          },
          "execution_count": 8
        }
      ]
    },
    {
      "cell_type": "code",
      "metadata": {
        "colab": {
          "base_uri": "https://localhost:8080/"
        },
        "id": "wOR8_GiWyHzt",
        "outputId": "7117650f-ac67-4df2-fb58-55184d7222a2"
      },
      "source": [
        "df.info()"
      ],
      "execution_count": 9,
      "outputs": [
        {
          "output_type": "stream",
          "text": [
            "<class 'pandas.core.frame.DataFrame'>\n",
            "RangeIndex: 159571 entries, 0 to 159570\n",
            "Data columns (total 8 columns):\n",
            " #   Column         Non-Null Count   Dtype \n",
            "---  ------         --------------   ----- \n",
            " 0   id             159571 non-null  object\n",
            " 1   comment_text   159571 non-null  object\n",
            " 2   toxic          159571 non-null  int64 \n",
            " 3   severe_toxic   159571 non-null  int64 \n",
            " 4   obscene        159571 non-null  int64 \n",
            " 5   threat         159571 non-null  int64 \n",
            " 6   insult         159571 non-null  int64 \n",
            " 7   identity_hate  159571 non-null  int64 \n",
            "dtypes: int64(6), object(2)\n",
            "memory usage: 9.7+ MB\n"
          ],
          "name": "stdout"
        }
      ]
    },
    {
      "cell_type": "code",
      "metadata": {
        "colab": {
          "base_uri": "https://localhost:8080/"
        },
        "id": "k-oe_8ZU3cwE",
        "outputId": "b1428e1f-6686-4cbe-cb03-17a9e995e1d9"
      },
      "source": [
        "df.id.describe()"
      ],
      "execution_count": 10,
      "outputs": [
        {
          "output_type": "execute_result",
          "data": {
            "text/plain": [
              "count               159571\n",
              "unique              159571\n",
              "top       e4ba1b2a41a1399b\n",
              "freq                     1\n",
              "Name: id, dtype: object"
            ]
          },
          "metadata": {
            "tags": []
          },
          "execution_count": 10
        }
      ]
    },
    {
      "cell_type": "code",
      "metadata": {
        "colab": {
          "base_uri": "https://localhost:8080/"
        },
        "id": "WRyCebYW3svg",
        "outputId": "087a4456-6d4f-4f6e-9689-dac407403e20"
      },
      "source": [
        "df.comment_text.describe()"
      ],
      "execution_count": 11,
      "outputs": [
        {
          "output_type": "execute_result",
          "data": {
            "text/plain": [
              "count                                                159571\n",
              "unique                                               159571\n",
              "top       I'll just wait til my IP address changes in a ...\n",
              "freq                                                      1\n",
              "Name: comment_text, dtype: object"
            ]
          },
          "metadata": {
            "tags": []
          },
          "execution_count": 11
        }
      ]
    },
    {
      "cell_type": "code",
      "metadata": {
        "colab": {
          "base_uri": "https://localhost:8080/"
        },
        "id": "JbhHLa9c35wA",
        "outputId": "c2cd24dc-cab8-408b-fcad-728f1964d8f1"
      },
      "source": [
        "df.toxic.describe()"
      ],
      "execution_count": 12,
      "outputs": [
        {
          "output_type": "execute_result",
          "data": {
            "text/plain": [
              "count    159571.000000\n",
              "mean          0.095844\n",
              "std           0.294379\n",
              "min           0.000000\n",
              "25%           0.000000\n",
              "50%           0.000000\n",
              "75%           0.000000\n",
              "max           1.000000\n",
              "Name: toxic, dtype: float64"
            ]
          },
          "metadata": {
            "tags": []
          },
          "execution_count": 12
        }
      ]
    },
    {
      "cell_type": "code",
      "metadata": {
        "colab": {
          "base_uri": "https://localhost:8080/"
        },
        "id": "AKkgi1rq3-Y_",
        "outputId": "087072e5-06bf-4e3a-8e0a-fe6dc1989d1d"
      },
      "source": [
        "df.severe_toxic.describe()"
      ],
      "execution_count": 13,
      "outputs": [
        {
          "output_type": "execute_result",
          "data": {
            "text/plain": [
              "count    159571.000000\n",
              "mean          0.009996\n",
              "std           0.099477\n",
              "min           0.000000\n",
              "25%           0.000000\n",
              "50%           0.000000\n",
              "75%           0.000000\n",
              "max           1.000000\n",
              "Name: severe_toxic, dtype: float64"
            ]
          },
          "metadata": {
            "tags": []
          },
          "execution_count": 13
        }
      ]
    },
    {
      "cell_type": "code",
      "metadata": {
        "colab": {
          "base_uri": "https://localhost:8080/"
        },
        "id": "AKt0HPHi4I27",
        "outputId": "cb90c19c-2c3c-4473-9020-27a5f1b04148"
      },
      "source": [
        "df.obscene.describe()"
      ],
      "execution_count": 14,
      "outputs": [
        {
          "output_type": "execute_result",
          "data": {
            "text/plain": [
              "count    159571.000000\n",
              "mean          0.052948\n",
              "std           0.223931\n",
              "min           0.000000\n",
              "25%           0.000000\n",
              "50%           0.000000\n",
              "75%           0.000000\n",
              "max           1.000000\n",
              "Name: obscene, dtype: float64"
            ]
          },
          "metadata": {
            "tags": []
          },
          "execution_count": 14
        }
      ]
    },
    {
      "cell_type": "code",
      "metadata": {
        "colab": {
          "base_uri": "https://localhost:8080/"
        },
        "id": "2_1epAuh4K33",
        "outputId": "a0751fda-422e-4de3-bb1f-503696f4f1bc"
      },
      "source": [
        "df.threat.describe()"
      ],
      "execution_count": 15,
      "outputs": [
        {
          "output_type": "execute_result",
          "data": {
            "text/plain": [
              "count    159571.000000\n",
              "mean          0.002996\n",
              "std           0.054650\n",
              "min           0.000000\n",
              "25%           0.000000\n",
              "50%           0.000000\n",
              "75%           0.000000\n",
              "max           1.000000\n",
              "Name: threat, dtype: float64"
            ]
          },
          "metadata": {
            "tags": []
          },
          "execution_count": 15
        }
      ]
    },
    {
      "cell_type": "code",
      "metadata": {
        "colab": {
          "base_uri": "https://localhost:8080/"
        },
        "id": "9juNB8G64ZJH",
        "outputId": "eef72a3c-60e2-4774-881b-0e63a2314083"
      },
      "source": [
        "df.insult.describe()"
      ],
      "execution_count": 16,
      "outputs": [
        {
          "output_type": "execute_result",
          "data": {
            "text/plain": [
              "count    159571.000000\n",
              "mean          0.049364\n",
              "std           0.216627\n",
              "min           0.000000\n",
              "25%           0.000000\n",
              "50%           0.000000\n",
              "75%           0.000000\n",
              "max           1.000000\n",
              "Name: insult, dtype: float64"
            ]
          },
          "metadata": {
            "tags": []
          },
          "execution_count": 16
        }
      ]
    },
    {
      "cell_type": "code",
      "metadata": {
        "colab": {
          "base_uri": "https://localhost:8080/"
        },
        "id": "3QoA0gh-4eGg",
        "outputId": "247b8b38-a1de-4409-b25e-fb71036cc4c9"
      },
      "source": [
        "df.identity_hate.describe()"
      ],
      "execution_count": 17,
      "outputs": [
        {
          "output_type": "execute_result",
          "data": {
            "text/plain": [
              "count    159571.000000\n",
              "mean          0.008805\n",
              "std           0.093420\n",
              "min           0.000000\n",
              "25%           0.000000\n",
              "50%           0.000000\n",
              "75%           0.000000\n",
              "max           1.000000\n",
              "Name: identity_hate, dtype: float64"
            ]
          },
          "metadata": {
            "tags": []
          },
          "execution_count": 17
        }
      ]
    },
    {
      "cell_type": "code",
      "metadata": {
        "id": "1-EozKt44gou"
      },
      "source": [
        "new_df = df.copy()"
      ],
      "execution_count": 18,
      "outputs": []
    },
    {
      "cell_type": "code",
      "metadata": {
        "id": "4dNufJP2zMX4"
      },
      "source": [
        "new_df.drop(columns='id',inplace=True)"
      ],
      "execution_count": 19,
      "outputs": []
    },
    {
      "cell_type": "code",
      "metadata": {
        "id": "XliUqnMw4xsc"
      },
      "source": [
        "new_df['Number_of_categories'] = new_df['identity_hate'] + new_df['insult'] + new_df['obscene'] + new_df['severe_toxic'] + new_df['threat'] + new_df['toxic']"
      ],
      "execution_count": 20,
      "outputs": []
    },
    {
      "cell_type": "code",
      "metadata": {
        "colab": {
          "base_uri": "https://localhost:8080/"
        },
        "id": "UVqjdDRR5idk",
        "outputId": "cce5f0bf-0ee4-498c-c529-287e8114604a"
      },
      "source": [
        "new_df.Number_of_categories.describe()"
      ],
      "execution_count": 21,
      "outputs": [
        {
          "output_type": "execute_result",
          "data": {
            "text/plain": [
              "count    159571.000000\n",
              "mean          0.219952\n",
              "std           0.748260\n",
              "min           0.000000\n",
              "25%           0.000000\n",
              "50%           0.000000\n",
              "75%           0.000000\n",
              "max           6.000000\n",
              "Name: Number_of_categories, dtype: float64"
            ]
          },
          "metadata": {
            "tags": []
          },
          "execution_count": 21
        }
      ]
    },
    {
      "cell_type": "code",
      "metadata": {
        "colab": {
          "base_uri": "https://localhost:8080/",
          "height": 386
        },
        "id": "1sAwY1WX887e",
        "outputId": "b4524597-eec2-4dee-aa5b-85f927b62b70"
      },
      "source": [
        "sns.displot(new_df.Number_of_categories)"
      ],
      "execution_count": 22,
      "outputs": [
        {
          "output_type": "execute_result",
          "data": {
            "text/plain": [
              "<seaborn.axisgrid.FacetGrid at 0x7f2da0a803d0>"
            ]
          },
          "metadata": {
            "tags": []
          },
          "execution_count": 22
        },
        {
          "output_type": "display_data",
          "data": {
            "image/png": "[encoded data removed]",
            "text/plain": [
              "<Figure size 360x360 with 1 Axes>"
            ]
          },
          "metadata": {
            "tags": [],
            "needs_background": "light"
          }
        }
      ]
    },
    {
      "cell_type": "code",
      "metadata": {
        "colab": {
          "base_uri": "https://localhost:8080/",
          "height": 386
        },
        "id": "RQ3i8z_85l8j",
        "outputId": "90848808-1651-404c-d77a-7093c723ec85"
      },
      "source": [
        "sns.displot(new_df.Number_of_categories[new_df['Number_of_categories'] > 0])"
      ],
      "execution_count": 23,
      "outputs": [
        {
          "output_type": "execute_result",
          "data": {
            "text/plain": [
              "<seaborn.axisgrid.FacetGrid at 0x7f2d981a0310>"
            ]
          },
          "metadata": {
            "tags": []
          },
          "execution_count": 23
        },
        {
          "output_type": "display_data",
          "data": {
            "image/png": "[encoded data removed]",
            "text/plain": [
              "<Figure size 360x360 with 1 Axes>"
            ]
          },
          "metadata": {
            "tags": [],
            "needs_background": "light"
          }
        }
      ]
    },
    {
      "cell_type": "code",
      "metadata": {
        "colab": {
          "base_uri": "https://localhost:8080/"
        },
        "id": "mOsAnAsC9G3C",
        "outputId": "39dea5ab-1189-466e-9811-0f991d18b014"
      },
      "source": [
        "new_df[new_df.Number_of_categories == 0].index"
      ],
      "execution_count": 24,
      "outputs": [
        {
          "output_type": "execute_result",
          "data": {
            "text/plain": [
              "Int64Index([     0,      1,      2,      3,      4,      5,      7,      8,\n",
              "                 9,     10,\n",
              "            ...\n",
              "            159561, 159562, 159563, 159564, 159565, 159566, 159567, 159568,\n",
              "            159569, 159570],\n",
              "           dtype='int64', length=143346)"
            ]
          },
          "metadata": {
            "tags": []
          },
          "execution_count": 24
        }
      ]
    },
    {
      "cell_type": "markdown",
      "metadata": {
        "id": "ukQ2YbRU7rF7"
      },
      "source": [
        "There are roughly 17000 (16225 to be precise) comments that belong to one of the 6 categories. The remaining 143346 of 159571 comments do not have any toxicity. This distribution may make the ML method biased."
      ]
    },
    {
      "cell_type": "markdown",
      "metadata": {
        "id": "6AEnSW6m688J"
      },
      "source": [
        "##Important decision here"
      ]
    },
    {
      "cell_type": "markdown",
      "metadata": {
        "id": "9tApEZFE6PBE"
      },
      "source": [
        "Since there are 16225 comments that belong to one of the 6 categories, select a number (larger or smaller or equal to 16225 in `num_of_nothing_bad`) of comments that do not belong to any of the categories to be in the training data. This eliminates the strong bias"
      ]
    },
    {
      "cell_type": "code",
      "metadata": {
        "id": "SaPqt_Tw9tAD"
      },
      "source": [
        "num_of_nothing_bad = 20000 #replace the number here\n",
        "index_list_none = random.sample(set(new_df[new_df.Number_of_categories == 0].index),num_of_nothing_bad)"
      ],
      "execution_count": 25,
      "outputs": []
    },
    {
      "cell_type": "code",
      "metadata": {
        "id": "Vd6JmbX7DYLw"
      },
      "source": [
        "index_list_atleast_one = new_df[new_df.Number_of_categories > 0].index"
      ],
      "execution_count": 26,
      "outputs": []
    },
    {
      "cell_type": "code",
      "metadata": {
        "id": "Cj6KjPV-913Z"
      },
      "source": [
        "drop_list = []\n",
        "for i in new_df.index:\n",
        "  if i not in index_list_none and i not in index_list_atleast_one:\n",
        "    drop_list.append(i)"
      ],
      "execution_count": 27,
      "outputs": []
    },
    {
      "cell_type": "code",
      "metadata": {
        "id": "20TkdW7xD8N3"
      },
      "source": [
        "new_df.drop(labels=drop_list,inplace=True)"
      ],
      "execution_count": 28,
      "outputs": []
    },
    {
      "cell_type": "code",
      "metadata": {
        "colab": {
          "base_uri": "https://localhost:8080/",
          "height": 386
        },
        "id": "2Voy-p_0EsW-",
        "outputId": "19fd1ce4-6c27-4e03-8960-1caa208b2eff"
      },
      "source": [
        "sns.displot(data=new_df['Number_of_categories'])"
      ],
      "execution_count": 29,
      "outputs": [
        {
          "output_type": "execute_result",
          "data": {
            "text/plain": [
              "<seaborn.axisgrid.FacetGrid at 0x7f2da09fc690>"
            ]
          },
          "metadata": {
            "tags": []
          },
          "execution_count": 29
        },
        {
          "output_type": "display_data",
          "data": {
            "image/png": "[encoded data removed]",
            "text/plain": [
              "<Figure size 360x360 with 1 Axes>"
            ]
          },
          "metadata": {
            "tags": [],
            "needs_background": "light"
          }
        }
      ]
    },
    {
      "cell_type": "code",
      "metadata": {
        "colab": {
          "base_uri": "https://localhost:8080/",
          "height": 351
        },
        "id": "dzsLD1BuGJ5j",
        "outputId": "dba896ed-c793-4cd7-f5af-364c2c27de9b"
      },
      "source": [
        "sns.distplot(new_df['Number_of_categories'])"
      ],
      "execution_count": 30,
      "outputs": [
        {
          "output_type": "stream",
          "text": [
            "/usr/local/lib/python3.7/dist-packages/seaborn/distributions.py:2557: FutureWarning: `distplot` is a deprecated function and will be removed in a future version. Please adapt your code to use either `displot` (a figure-level function with similar flexibility) or `histplot` (an axes-level function for histograms).\n",
            "  warnings.warn(msg, FutureWarning)\n"
          ],
          "name": "stderr"
        },
        {
          "output_type": "execute_result",
          "data": {
            "text/plain": [
              "<matplotlib.axes._subplots.AxesSubplot at 0x7f2d97685ed0>"
            ]
          },
          "metadata": {
            "tags": []
          },
          "execution_count": 30
        },
        {
          "output_type": "display_data",
          "data": {
            "image/png": "[encoded data removed]",
            "text/plain": [
              "<Figure size 432x288 with 1 Axes>"
            ]
          },
          "metadata": {
            "tags": [],
            "needs_background": "light"
          }
        }
      ]
    },
    {
      "cell_type": "code",
      "metadata": {
        "id": "NaUaDL-mKkjK"
      },
      "source": [
        "new_df.reset_index(inplace=True)"
      ],
      "execution_count": 31,
      "outputs": []
    },
    {
      "cell_type": "code",
      "metadata": {
        "id": "45LxSMVlz6T4"
      },
      "source": [
        "new_df.drop(columns='index',inplace=True)"
      ],
      "execution_count": 32,
      "outputs": []
    },
    {
      "cell_type": "markdown",
      "metadata": {
        "id": "e_RAJPfiLcVv"
      },
      "source": [
        "# Cleaning the data\n"
      ]
    },
    {
      "cell_type": "code",
      "metadata": {
        "colab": {
          "base_uri": "https://localhost:8080/"
        },
        "id": "SO3grTj6KuNN",
        "outputId": "ae62ef0e-4feb-4a94-c2e8-fb6f02c45677"
      },
      "source": [
        "new_df['comment_text']"
      ],
      "execution_count": 33,
      "outputs": [
        {
          "output_type": "execute_result",
          "data": {
            "text/plain": [
              "0        Hey man, I'm really not trying to edit war. It...\n",
              "1        You, sir, are my hero. Any chance you remember...\n",
              "2             COCKSUCKER BEFORE YOU PISS AROUND ON MY WORK\n",
              "3        Hey... what is it..\\n@ | talk .\\nWhat is it......\n",
              "4        Oh, and the girl above started her arguments w...\n",
              "                               ...                        \n",
              "36220    I'll be on IRC, too, if you have a more specif...\n",
              "36221    Image:Barack-obama-mother.jpg listed for delet...\n",
              "36222    \"Editing of article without Consensus & Remova...\n",
              "36223    \"\\nNo he did not, read it again (I would have ...\n",
              "36224    \":::::And for the second time of asking, when ...\n",
              "Name: comment_text, Length: 36225, dtype: object"
            ]
          },
          "metadata": {
            "tags": []
          },
          "execution_count": 33
        }
      ]
    },
    {
      "cell_type": "code",
      "metadata": {
        "id": "UjA-5pNIK1hR"
      },
      "source": [
        "def clean_text(text):\n",
        "   \n",
        "    # Convert text to all lowercase letters\n",
        "    text = text.lower()\n",
        "    \n",
        "    # Remove whitespaces\n",
        "    text = text.strip()\n",
        "    \n",
        "    # Tokenize text\n",
        "    tokens = word_tokenize(text)\n",
        "    \n",
        "    # Remove all tokens that are not alphabetic   r[A-Za-z#]\n",
        "    tokens = [token for token in tokens if token.isalpha()]\n",
        "    \n",
        "    # Remove stopwords\n",
        "    tokens = [token for token in tokens if token not in stopwords_list]\n",
        "    \n",
        "    # Remove tokens less than three letters\n",
        "    tokens = [token for token in tokens if not len(token)<3]\n",
        "    \n",
        "    # Remove punctuations\n",
        "    tokens = [token for token in tokens if token not in string.punctuation]\n",
        "    \n",
        "    # Lemmetize tokens\n",
        "    tokens = [lemmatizer.lemmatize(token,pos='n') for token in tokens]\n",
        "    \n",
        "    # Stem tokens\n",
        "    #tokens = \n",
        "    \n",
        "    # Re-create text from filtered tokens, so that vectorizer won't complain\n",
        "    text = ' '.join(tokens)\n",
        "    return text"
      ],
      "execution_count": 34,
      "outputs": []
    },
    {
      "cell_type": "code",
      "metadata": {
        "id": "DNTdsXugNxBk"
      },
      "source": [
        "clean_df = new_df.copy()"
      ],
      "execution_count": 35,
      "outputs": []
    },
    {
      "cell_type": "code",
      "metadata": {
        "id": "hNWKh1jXN9_C"
      },
      "source": [
        "clean_df['comment_text'] = clean_df['comment_text'].apply(lambda x: clean_text(x))"
      ],
      "execution_count": 36,
      "outputs": []
    },
    {
      "cell_type": "code",
      "metadata": {
        "colab": {
          "base_uri": "https://localhost:8080/"
        },
        "id": "v9iocgc3OE4w",
        "outputId": "b13ea090-6839-4e64-e3c2-a9e072aad9eb"
      },
      "source": [
        "clean_df.comment_text"
      ],
      "execution_count": 37,
      "outputs": [
        {
          "output_type": "execute_result",
          "data": {
            "text/plain": [
              "0        hey man really trying edit war guy constantly ...\n",
              "1                            sir hero chance remember page\n",
              "2                              cocksucker piss around work\n",
              "3        hey talk exclusive group taliban good destroyi...\n",
              "4        girl started argument stuck nose belong believ...\n",
              "                               ...                        \n",
              "36220                                 irc specific request\n",
              "36221    image listed deletion image medium file upload...\n",
              "36222    editing article without consensus removal cite...\n",
              "36223    read would thought everyone could recite heart...\n",
              "36224    second time asking view completely contradicts...\n",
              "Name: comment_text, Length: 36225, dtype: object"
            ]
          },
          "metadata": {
            "tags": []
          },
          "execution_count": 37
        }
      ]
    },
    {
      "cell_type": "code",
      "metadata": {
        "id": "sf6NQQxYcJav",
        "colab": {
          "base_uri": "https://localhost:8080/"
        },
        "outputId": "e34746d8-dc1f-4ee1-8695-1183a14d2792"
      },
      "source": [
        "max([len(x.split()) for x in new_df['comment_text']])"
      ],
      "execution_count": 38,
      "outputs": [
        {
          "output_type": "execute_result",
          "data": {
            "text/plain": [
              "1411"
            ]
          },
          "metadata": {
            "tags": []
          },
          "execution_count": 38
        }
      ]
    },
    {
      "cell_type": "code",
      "metadata": {
        "colab": {
          "base_uri": "https://localhost:8080/"
        },
        "id": "mx6pt03XfNrk",
        "outputId": "c0ebf0d6-f41d-4133-8ae8-34ed2bea1491"
      },
      "source": [
        "max([len(x.split()) for x in clean_df['comment_text']])"
      ],
      "execution_count": 39,
      "outputs": [
        {
          "output_type": "execute_result",
          "data": {
            "text/plain": [
              "1250"
            ]
          },
          "metadata": {
            "tags": []
          },
          "execution_count": 39
        }
      ]
    },
    {
      "cell_type": "code",
      "metadata": {
        "id": "2DB5A4WciJjm"
      },
      "source": [
        "clean_df['word_count'] = clean_df.comment_text.apply(lambda x: (len(x.split())))"
      ],
      "execution_count": 40,
      "outputs": []
    },
    {
      "cell_type": "code",
      "metadata": {
        "colab": {
          "base_uri": "https://localhost:8080/",
          "height": 386
        },
        "id": "z-E3vH_Gsz-U",
        "outputId": "91293d91-6fdb-47fc-c441-44ca1f425cd9"
      },
      "source": [
        "sns.displot(clean_df.word_count)"
      ],
      "execution_count": 41,
      "outputs": [
        {
          "output_type": "execute_result",
          "data": {
            "text/plain": [
              "<seaborn.axisgrid.FacetGrid at 0x7f2d907e7e50>"
            ]
          },
          "metadata": {
            "tags": []
          },
          "execution_count": 41
        },
        {
          "output_type": "display_data",
          "data": {
            "image/png": "[encoded data removed]",
            "text/plain": [
              "<Figure size 360x360 with 1 Axes>"
            ]
          },
          "metadata": {
            "tags": [],
            "needs_background": "light"
          }
        }
      ]
    },
    {
      "cell_type": "code",
      "metadata": {
        "colab": {
          "base_uri": "https://localhost:8080/",
          "height": 386
        },
        "id": "AQGAk4JQjGPt",
        "outputId": "1e38d9b0-d5e6-4fc8-be68-33c00e0c5f89"
      },
      "source": [
        "sns.displot(clean_df.word_count,bins=10)\n",
        "plt.xlim((0,600))"
      ],
      "execution_count": 42,
      "outputs": [
        {
          "output_type": "execute_result",
          "data": {
            "text/plain": [
              "(0.0, 600.0)"
            ]
          },
          "metadata": {
            "tags": []
          },
          "execution_count": 42
        },
        {
          "output_type": "display_data",
          "data": {
            "image/png": "[encoded data removed]",
            "text/plain": [
              "<Figure size 360x360 with 1 Axes>"
            ]
          },
          "metadata": {
            "tags": [],
            "needs_background": "light"
          }
        }
      ]
    },
    {
      "cell_type": "code",
      "metadata": {
        "colab": {
          "base_uri": "https://localhost:8080/"
        },
        "id": "g3ItIg6zl-jR",
        "outputId": "621c6f31-1bf7-4066-b9a1-fe54fd175c0e"
      },
      "source": [
        "clean_df.comment_text[clean_df.word_count > 600]"
      ],
      "execution_count": 43,
      "outputs": [
        {
          "output_type": "execute_result",
          "data": {
            "text/plain": [
              "548      fuck useless bot fuck useless bot fuck useless...\n",
              "1098     fuck bastard yyou life fuck bastard yank cock ...\n",
              "1528     sex sex sex sex sex sex sex sexsex sex sex sex...\n",
              "2008     ball ball ball ball ball ball ball ball ball b...\n",
              "2591     thanks watching wiki raid thread ruining fun d...\n",
              "3003     nigger nigger nigger nigger nigger nigger nigg...\n",
              "5010     fuck nigga fuck nigga fuck nigga fuck nigga fu...\n",
              "6095     damn cunt damn cunt damn cunt damn cunt damn c...\n",
              "6502     jim wale must die jim wale must die jim wale m...\n",
              "7303     pig pig pig pig pig pig pig pig pig pig pig pi...\n",
              "7364     really milleseconds wasnt bitch fat jew fat je...\n",
              "7823     suck suck suck suck suck suck suck suck suck s...\n",
              "8680     bark bark bark bark bark bark bark bark bark b...\n",
              "9017     jforget fuck faggot gay as chink nigger cocksu...\n",
              "9578     wanker wanker wanker wanker wanker wanker wank...\n",
              "10517    heil hitler heil hitler heil hitler heil hitle...\n",
              "10597    hahahahahahahahahahahahahahahahahaha vandalism...\n",
              "12267    anthony bradbury suck penis anthony bradbury e...\n",
              "12480    anyone support fucking sick men underaged fuck...\n",
              "12570    water buffalo freezer freezer freezer freezer ...\n",
              "15408    anal rape anal rape anal rape anal rape anal r...\n",
              "15688    rest world fuck yourselfgo fuck yourselfgo fuc...\n",
              "17259    nice work removing edits faggot as piece shit ...\n",
              "17365    die fag die fag die fag die fag die fag die fa...\n",
              "17498    mexican suck mexican suck mexican suck mexican...\n",
              "17509    nigger nigger nigger nigger nigger nigger nigg...\n",
              "17510    fuck bitch fuck bitch fuck bitch fuck bitch fu...\n",
              "18125    fuck yourselfgo fuck yourselfgo fuck yourselfg...\n",
              "18982    robert ullmann suck dick robert ullmann suck d...\n",
              "19819    shit shit shit shit shit shit shit shit shit s...\n",
              "21262    wiki noobs wiki noobs wiki noobs wiki noobs wi...\n",
              "23045    super gay super gay super gay super gay super ...\n",
              "23875    faggot faggot faggot faggot faggot faggot fagg...\n",
              "24920    eat shit die bitch as nigga eat shit die bitch...\n",
              "25194    faggot faggot faggot faggot faggot faggot fagg...\n",
              "29104    dont care dont care dont care dont care dont c...\n",
              "29229    sex fucksex fucksex fucksex fucksex fucksex fu...\n",
              "30561    nipple nipple nipple nipple nipple nipple nipp...\n",
              "30978    suck cock suck cock suck cock suck cock suck c...\n",
              "33701    fuck dog fuck dog fuck dog fuck dog fuck dog f...\n",
              "34809    fat jew fat jew fat jew fat jew fat jew fat je...\n",
              "34925    btw mark arsten son bitch cock placed girl mou...\n",
              "35399    aid aid aid aid aid aid aidsaids aid aid aid a...\n",
              "35482    huge faggot huge faggot huge faggot huge faggo...\n",
              "Name: comment_text, dtype: object"
            ]
          },
          "metadata": {
            "tags": []
          },
          "execution_count": 43
        }
      ]
    },
    {
      "cell_type": "markdown",
      "metadata": {
        "id": "XAWJdEGks--j"
      },
      "source": [
        "It looks like the comments with more than 600 words are usually repititive.\n"
      ]
    },
    {
      "cell_type": "code",
      "metadata": {
        "colab": {
          "base_uri": "https://localhost:8080/",
          "height": 419
        },
        "id": "m1n-W4qHw9sN",
        "outputId": "4c333b2d-c330-4c51-9e7f-309147ed6816"
      },
      "source": [
        "clean_df"
      ],
      "execution_count": 44,
      "outputs": [
        {
          "output_type": "execute_result",
          "data": {
            "text/html": [
              "<div>\n",
              "<style scoped>\n",
              "    .dataframe tbody tr th:only-of-type {\n",
              "        vertical-align: middle;\n",
              "    }\n",
              "\n",
              "    .dataframe tbody tr th {\n",
              "        vertical-align: top;\n",
              "    }\n",
              "\n",
              "    .dataframe thead th {\n",
              "        text-align: right;\n",
              "    }\n",
              "</style>\n",
              "<table border=\"1\" class=\"dataframe\">\n",
              "  <thead>\n",
              "    <tr style=\"text-align: right;\">\n",
              "      <th></th>\n",
              "      <th>comment_text</th>\n",
              "      <th>toxic</th>\n",
              "      <th>severe_toxic</th>\n",
              "      <th>obscene</th>\n",
              "      <th>threat</th>\n",
              "      <th>insult</th>\n",
              "      <th>identity_hate</th>\n",
              "      <th>Number_of_categories</th>\n",
              "      <th>word_count</th>\n",
              "    </tr>\n",
              "  </thead>\n",
              "  <tbody>\n",
              "    <tr>\n",
              "      <th>0</th>\n",
              "      <td>hey man really trying edit war guy constantly ...</td>\n",
              "      <td>0</td>\n",
              "      <td>0</td>\n",
              "      <td>0</td>\n",
              "      <td>0</td>\n",
              "      <td>0</td>\n",
              "      <td>0</td>\n",
              "      <td>0</td>\n",
              "      <td>21</td>\n",
              "    </tr>\n",
              "    <tr>\n",
              "      <th>1</th>\n",
              "      <td>sir hero chance remember page</td>\n",
              "      <td>0</td>\n",
              "      <td>0</td>\n",
              "      <td>0</td>\n",
              "      <td>0</td>\n",
              "      <td>0</td>\n",
              "      <td>0</td>\n",
              "      <td>0</td>\n",
              "      <td>5</td>\n",
              "    </tr>\n",
              "    <tr>\n",
              "      <th>2</th>\n",
              "      <td>cocksucker piss around work</td>\n",
              "      <td>1</td>\n",
              "      <td>1</td>\n",
              "      <td>1</td>\n",
              "      <td>0</td>\n",
              "      <td>1</td>\n",
              "      <td>0</td>\n",
              "      <td>4</td>\n",
              "      <td>4</td>\n",
              "    </tr>\n",
              "    <tr>\n",
              "      <th>3</th>\n",
              "      <td>hey talk exclusive group taliban good destroyi...</td>\n",
              "      <td>1</td>\n",
              "      <td>0</td>\n",
              "      <td>0</td>\n",
              "      <td>0</td>\n",
              "      <td>0</td>\n",
              "      <td>0</td>\n",
              "      <td>1</td>\n",
              "      <td>22</td>\n",
              "    </tr>\n",
              "    <tr>\n",
              "      <th>4</th>\n",
              "      <td>girl started argument stuck nose belong believ...</td>\n",
              "      <td>0</td>\n",
              "      <td>0</td>\n",
              "      <td>0</td>\n",
              "      <td>0</td>\n",
              "      <td>0</td>\n",
              "      <td>0</td>\n",
              "      <td>0</td>\n",
              "      <td>15</td>\n",
              "    </tr>\n",
              "    <tr>\n",
              "      <th>...</th>\n",
              "      <td>...</td>\n",
              "      <td>...</td>\n",
              "      <td>...</td>\n",
              "      <td>...</td>\n",
              "      <td>...</td>\n",
              "      <td>...</td>\n",
              "      <td>...</td>\n",
              "      <td>...</td>\n",
              "      <td>...</td>\n",
              "    </tr>\n",
              "    <tr>\n",
              "      <th>36220</th>\n",
              "      <td>irc specific request</td>\n",
              "      <td>0</td>\n",
              "      <td>0</td>\n",
              "      <td>0</td>\n",
              "      <td>0</td>\n",
              "      <td>0</td>\n",
              "      <td>0</td>\n",
              "      <td>0</td>\n",
              "      <td>3</td>\n",
              "    </tr>\n",
              "    <tr>\n",
              "      <th>36221</th>\n",
              "      <td>image listed deletion image medium file upload...</td>\n",
              "      <td>0</td>\n",
              "      <td>0</td>\n",
              "      <td>0</td>\n",
              "      <td>0</td>\n",
              "      <td>0</td>\n",
              "      <td>0</td>\n",
              "      <td>0</td>\n",
              "      <td>26</td>\n",
              "    </tr>\n",
              "    <tr>\n",
              "      <th>36222</th>\n",
              "      <td>editing article without consensus removal cite...</td>\n",
              "      <td>0</td>\n",
              "      <td>0</td>\n",
              "      <td>0</td>\n",
              "      <td>0</td>\n",
              "      <td>0</td>\n",
              "      <td>0</td>\n",
              "      <td>0</td>\n",
              "      <td>145</td>\n",
              "    </tr>\n",
              "    <tr>\n",
              "      <th>36223</th>\n",
              "      <td>read would thought everyone could recite heart...</td>\n",
              "      <td>0</td>\n",
              "      <td>0</td>\n",
              "      <td>0</td>\n",
              "      <td>0</td>\n",
              "      <td>0</td>\n",
              "      <td>0</td>\n",
              "      <td>0</td>\n",
              "      <td>88</td>\n",
              "    </tr>\n",
              "    <tr>\n",
              "      <th>36224</th>\n",
              "      <td>second time asking view completely contradicts...</td>\n",
              "      <td>0</td>\n",
              "      <td>0</td>\n",
              "      <td>0</td>\n",
              "      <td>0</td>\n",
              "      <td>0</td>\n",
              "      <td>0</td>\n",
              "      <td>0</td>\n",
              "      <td>23</td>\n",
              "    </tr>\n",
              "  </tbody>\n",
              "</table>\n",
              "<p>36225 rows × 9 columns</p>\n",
              "</div>"
            ],
            "text/plain": [
              "                                            comment_text  ...  word_count\n",
              "0      hey man really trying edit war guy constantly ...  ...          21\n",
              "1                          sir hero chance remember page  ...           5\n",
              "2                            cocksucker piss around work  ...           4\n",
              "3      hey talk exclusive group taliban good destroyi...  ...          22\n",
              "4      girl started argument stuck nose belong believ...  ...          15\n",
              "...                                                  ...  ...         ...\n",
              "36220                               irc specific request  ...           3\n",
              "36221  image listed deletion image medium file upload...  ...          26\n",
              "36222  editing article without consensus removal cite...  ...         145\n",
              "36223  read would thought everyone could recite heart...  ...          88\n",
              "36224  second time asking view completely contradicts...  ...          23\n",
              "\n",
              "[36225 rows x 9 columns]"
            ]
          },
          "metadata": {
            "tags": []
          },
          "execution_count": 44
        }
      ]
    },
    {
      "cell_type": "code",
      "metadata": {
        "id": "tCiJr4dMzw2w"
      },
      "source": [
        "clean_df['nothing_bad'] = 0"
      ],
      "execution_count": 45,
      "outputs": []
    },
    {
      "cell_type": "code",
      "metadata": {
        "id": "Y4zKVflu3NZp"
      },
      "source": [
        "clean_df['nothing_bad'] = clean_df.apply(lambda x: 1 if x.Number_of_categories == 0 else 0, axis=1)"
      ],
      "execution_count": 46,
      "outputs": []
    },
    {
      "cell_type": "code",
      "metadata": {
        "id": "y91BcHFY3njt"
      },
      "source": [
        "x_train = clean_df['comment_text'].copy()"
      ],
      "execution_count": 47,
      "outputs": []
    },
    {
      "cell_type": "code",
      "metadata": {
        "id": "vP4NA2CO3wvD"
      },
      "source": [
        "y_train = clean_df.iloc[:,[1,2,3,4,5,6,9]]"
      ],
      "execution_count": 48,
      "outputs": []
    },
    {
      "cell_type": "markdown",
      "metadata": {
        "id": "MxLT6qEo8c6Y"
      },
      "source": [
        "Lets truncate/pad each sequence/comments to 300 words. This decision is made from two points:\n",
        "1.  Most of the sequences with words more than 600 have repititive words\n",
        "2. An assumption that commentator expresses his context (toxic, obscene etc) in the first 300 sentences."
      ]
    },
    {
      "cell_type": "markdown",
      "metadata": {
        "id": "jrUi4ERIJQkO"
      },
      "source": [
        "#Tokenizer Embedding"
      ]
    },
    {
      "cell_type": "code",
      "metadata": {
        "id": "CoIjlwoA9eht"
      },
      "source": [
        "from tensorflow.keras.preprocessing.text import Tokenizer\n",
        "tk = Tokenizer()\n",
        "tk.fit_on_texts(x_train)"
      ],
      "execution_count": 49,
      "outputs": []
    },
    {
      "cell_type": "code",
      "metadata": {
        "colab": {
          "base_uri": "https://localhost:8080/"
        },
        "id": "kzp-XAL8-FF2",
        "outputId": "318d8060-2d88-4914-f0f3-a016075faad9"
      },
      "source": [
        "total_words = len(tk.word_index)\n",
        "\n",
        "print('Total number of words:', total_words)"
      ],
      "execution_count": 50,
      "outputs": [
        {
          "output_type": "stream",
          "text": [
            "Total number of words: 56815\n"
          ],
          "name": "stdout"
        }
      ]
    },
    {
      "cell_type": "code",
      "metadata": {
        "colab": {
          "base_uri": "https://localhost:8080/"
        },
        "id": "4V0ri2pk_D7c",
        "outputId": "89a93c14-68d4-43e9-b4c8-57e85b17d290"
      },
      "source": [
        "x_train"
      ],
      "execution_count": 51,
      "outputs": [
        {
          "output_type": "execute_result",
          "data": {
            "text/plain": [
              "0        hey man really trying edit war guy constantly ...\n",
              "1                            sir hero chance remember page\n",
              "2                              cocksucker piss around work\n",
              "3        hey talk exclusive group taliban good destroyi...\n",
              "4        girl started argument stuck nose belong believ...\n",
              "                               ...                        \n",
              "36220                                 irc specific request\n",
              "36221    image listed deletion image medium file upload...\n",
              "36222    editing article without consensus removal cite...\n",
              "36223    read would thought everyone could recite heart...\n",
              "36224    second time asking view completely contradicts...\n",
              "Name: comment_text, Length: 36225, dtype: object"
            ]
          },
          "metadata": {
            "tags": []
          },
          "execution_count": 51
        }
      ]
    },
    {
      "cell_type": "markdown",
      "metadata": {
        "id": "DifsQRn0JMP7"
      },
      "source": [
        "#Count Vectorizer Embedding"
      ]
    },
    {
      "cell_type": "code",
      "metadata": {
        "id": "vPwLoLbH_0fG"
      },
      "source": [
        "from sklearn.feature_extraction.text import CountVectorizer\n",
        "\n",
        "cv = CountVectorizer()\n",
        "\n",
        "# # Training set\n",
        "X_train_cv = cv.fit_transform(x_train)"
      ],
      "execution_count": 52,
      "outputs": []
    },
    {
      "cell_type": "code",
      "metadata": {
        "colab": {
          "base_uri": "https://localhost:8080/"
        },
        "id": "6EDS1W3mIzJr",
        "outputId": "db68159e-4756-4256-e3df-9627c07b4e49"
      },
      "source": [
        "len(cv.vocabulary_)"
      ],
      "execution_count": 53,
      "outputs": [
        {
          "output_type": "execute_result",
          "data": {
            "text/plain": [
              "56812"
            ]
          },
          "metadata": {
            "tags": []
          },
          "execution_count": 53
        }
      ]
    },
    {
      "cell_type": "markdown",
      "metadata": {
        "id": "GlY8igAsJH1H"
      },
      "source": [
        "#CBOW Embedding\n"
      ]
    },
    {
      "cell_type": "code",
      "metadata": {
        "id": "6yV6QVG7IzyL"
      },
      "source": [
        "\n",
        "from keras.preprocessing import text\n",
        "from keras.utils import np_utils\n",
        "from keras.preprocessing import sequence\n",
        "\n",
        "tokenizer = text.Tokenizer()\n",
        "tokenizer.fit_on_texts(x_train)\n",
        "word2id = tokenizer.word_index\n",
        "\n",
        "# build vocabulary of unique words\n",
        "word2id['PAD'] = 0\n",
        "id2word = {v:k for k, v in word2id.items()}\n",
        "wids = [[word2id[w] for w in text.text_to_word_sequence(doc)] for doc in x_train]\n",
        "\n",
        "vocab_size = len(word2id)\n",
        "embed_size = 300\n",
        "window_size = 2 # context window size"
      ],
      "execution_count": 54,
      "outputs": []
    },
    {
      "cell_type": "code",
      "metadata": {
        "id": "Xbt5RsJlJDe0"
      },
      "source": [
        "def generate_context_word_pairs(corpus, window_size, vocab_size):\n",
        "    context_length = window_size*2\n",
        "    for words in corpus:\n",
        "        sentence_length = len(words)\n",
        "        for index, word in enumerate(words):\n",
        "            context_words = []\n",
        "            label_word   = []            \n",
        "            start = index - window_size\n",
        "            end = index + window_size + 1\n",
        "            \n",
        "            context_words.append([words[i] \n",
        "                                 for i in range(start, end) \n",
        "                                 if 0 <= i < sentence_length \n",
        "                                 and i != index])\n",
        "            label_word.append(word)\n",
        "\n",
        "            x = sequence.pad_sequences(context_words, maxlen=context_length)\n",
        "            y = np_utils.to_categorical(label_word, vocab_size)\n",
        "            yield (x, y)"
      ],
      "execution_count": 55,
      "outputs": []
    },
    {
      "cell_type": "code",
      "metadata": {
        "colab": {
          "base_uri": "https://localhost:8080/",
          "height": 816
        },
        "id": "GDQJMafrJVEV",
        "outputId": "4c1a2911-37bd-4180-a4cc-1a74b99a1a08"
      },
      "source": [
        "import keras.backend as K\n",
        "from keras.models import Sequential\n",
        "from keras.layers import Dense, Embedding, Lambda\n",
        "\n",
        "# build CBOW architecture\n",
        "cbow = Sequential()\n",
        "cbow.add(Embedding(input_dim=vocab_size, output_dim=embed_size, input_length=window_size*2))\n",
        "cbow.add(Lambda(lambda x: K.mean(x, axis=1), output_shape=(embed_size,)))\n",
        "cbow.add(Dense(vocab_size, activation='softmax'))\n",
        "cbow.compile(loss='categorical_crossentropy', optimizer='rmsprop')\n",
        "\n",
        "# view model summary\n",
        "print(cbow.summary())\n",
        "\n",
        "# visualize model structure\n",
        "from IPython.display import SVG\n",
        "from keras.utils.vis_utils import model_to_dot\n",
        "\n",
        "SVG(model_to_dot(cbow, show_shapes=True, show_layer_names=False, \n",
        "                 rankdir='TB').create(prog='dot', format='svg'))"
      ],
      "execution_count": 56,
      "outputs": [
        {
          "output_type": "stream",
          "text": [
            "Model: \"sequential\"\n",
            "_________________________________________________________________\n",
            "Layer (type)                 Output Shape              Param #   \n",
            "=================================================================\n",
            "embedding (Embedding)        (None, 4, 300)            17044800  \n",
            "_________________________________________________________________\n",
            "lambda (Lambda)              (None, 300)               0         \n",
            "_________________________________________________________________\n",
            "dense (Dense)                (None, 56816)             17101616  \n",
            "=================================================================\n",
            "Total params: 34,146,416\n",
            "Trainable params: 34,146,416\n",
            "Non-trainable params: 0\n",
            "_________________________________________________________________\n",
            "None\n"
          ],
          "name": "stdout"
        },
        {
          "output_type": "execute_result",
          "data": {
            "text/plain": [
              "<IPython.core.display.SVG object>"
            ],
            "image/svg+xml": "<svg height=\"405pt\" viewBox=\"0.00 0.00 252.00 304.00\" width=\"336pt\" xmlns=\"http://www.w3.org/2000/svg\" xmlns:xlink=\"http://www.w3.org/1999/xlink\">\n<g class=\"graph\" id=\"graph0\" transform=\"scale(1.3333 1.3333) rotate(0) translate(4 300)\">\n<title>G</title>\n<polygon fill=\"#ffffff\" points=\"-4,4 -4,-300 248,-300 248,4 -4,4\" stroke=\"transparent\"/>\n<!-- 139832662311696 -->\n<g class=\"node\" id=\"node1\">\n<title>139832662311696</title>\n<polygon fill=\"none\" points=\"12.5,-249.5 12.5,-295.5 231.5,-295.5 231.5,-249.5 12.5,-249.5\" stroke=\"#000000\"/>\n<text fill=\"#000000\" font-family=\"Times,serif\" font-size=\"14.00\" text-anchor=\"middle\" x=\"52.5\" y=\"-268.8\">InputLayer</text>\n<polyline fill=\"none\" points=\"92.5,-249.5 92.5,-295.5 \" stroke=\"#000000\"/>\n<text fill=\"#000000\" font-family=\"Times,serif\" font-size=\"14.00\" text-anchor=\"middle\" x=\"121.5\" y=\"-280.3\">input:</text>\n<polyline fill=\"none\" points=\"92.5,-272.5 150.5,-272.5 \" stroke=\"#000000\"/>\n<text fill=\"#000000\" font-family=\"Times,serif\" font-size=\"14.00\" text-anchor=\"middle\" x=\"121.5\" y=\"-257.3\">output:</text>\n<polyline fill=\"none\" points=\"150.5,-249.5 150.5,-295.5 \" stroke=\"#000000\"/>\n<text fill=\"#000000\" font-family=\"Times,serif\" font-size=\"14.00\" text-anchor=\"middle\" x=\"191\" y=\"-280.3\">[(None, 4)]</text>\n<polyline fill=\"none\" points=\"150.5,-272.5 231.5,-272.5 \" stroke=\"#000000\"/>\n<text fill=\"#000000\" font-family=\"Times,serif\" font-size=\"14.00\" text-anchor=\"middle\" x=\"191\" y=\"-257.3\">[(None, 4)]</text>\n</g>\n<!-- 139832634115920 -->\n<g class=\"node\" id=\"node2\">\n<title>139832634115920</title>\n<polygon fill=\"none\" points=\"0,-166.5 0,-212.5 244,-212.5 244,-166.5 0,-166.5\" stroke=\"#000000\"/>\n<text fill=\"#000000\" font-family=\"Times,serif\" font-size=\"14.00\" text-anchor=\"middle\" x=\"42\" y=\"-185.8\">Embedding</text>\n<polyline fill=\"none\" points=\"84,-166.5 84,-212.5 \" stroke=\"#000000\"/>\n<text fill=\"#000000\" font-family=\"Times,serif\" font-size=\"14.00\" text-anchor=\"middle\" x=\"113\" y=\"-197.3\">input:</text>\n<polyline fill=\"none\" points=\"84,-189.5 142,-189.5 \" stroke=\"#000000\"/>\n<text fill=\"#000000\" font-family=\"Times,serif\" font-size=\"14.00\" text-anchor=\"middle\" x=\"113\" y=\"-174.3\">output:</text>\n<polyline fill=\"none\" points=\"142,-166.5 142,-212.5 \" stroke=\"#000000\"/>\n<text fill=\"#000000\" font-family=\"Times,serif\" font-size=\"14.00\" text-anchor=\"middle\" x=\"193\" y=\"-197.3\">(None, 4)</text>\n<polyline fill=\"none\" points=\"142,-189.5 244,-189.5 \" stroke=\"#000000\"/>\n<text fill=\"#000000\" font-family=\"Times,serif\" font-size=\"14.00\" text-anchor=\"middle\" x=\"193\" y=\"-174.3\">(None, 4, 300)</text>\n</g>\n<!-- 139832662311696&#45;&gt;139832634115920 -->\n<g class=\"edge\" id=\"edge1\">\n<title>139832662311696-&gt;139832634115920</title>\n<path d=\"M122,-249.3799C122,-241.1745 122,-231.7679 122,-222.8786\" fill=\"none\" stroke=\"#000000\"/>\n<polygon fill=\"#000000\" points=\"125.5001,-222.784 122,-212.784 118.5001,-222.784 125.5001,-222.784\" stroke=\"#000000\"/>\n</g>\n<!-- 139832634115984 -->\n<g class=\"node\" id=\"node3\">\n<title>139832634115984</title>\n<polygon fill=\"none\" points=\"10,-83.5 10,-129.5 234,-129.5 234,-83.5 10,-83.5\" stroke=\"#000000\"/>\n<text fill=\"#000000\" font-family=\"Times,serif\" font-size=\"14.00\" text-anchor=\"middle\" x=\"42\" y=\"-102.8\">Lambda</text>\n<polyline fill=\"none\" points=\"74,-83.5 74,-129.5 \" stroke=\"#000000\"/>\n<text fill=\"#000000\" font-family=\"Times,serif\" font-size=\"14.00\" text-anchor=\"middle\" x=\"103\" y=\"-114.3\">input:</text>\n<polyline fill=\"none\" points=\"74,-106.5 132,-106.5 \" stroke=\"#000000\"/>\n<text fill=\"#000000\" font-family=\"Times,serif\" font-size=\"14.00\" text-anchor=\"middle\" x=\"103\" y=\"-91.3\">output:</text>\n<polyline fill=\"none\" points=\"132,-83.5 132,-129.5 \" stroke=\"#000000\"/>\n<text fill=\"#000000\" font-family=\"Times,serif\" font-size=\"14.00\" text-anchor=\"middle\" x=\"183\" y=\"-114.3\">(None, 4, 300)</text>\n<polyline fill=\"none\" points=\"132,-106.5 234,-106.5 \" stroke=\"#000000\"/>\n<text fill=\"#000000\" font-family=\"Times,serif\" font-size=\"14.00\" text-anchor=\"middle\" x=\"183\" y=\"-91.3\">(None, 300)</text>\n</g>\n<!-- 139832634115920&#45;&gt;139832634115984 -->\n<g class=\"edge\" id=\"edge2\">\n<title>139832634115920-&gt;139832634115984</title>\n<path d=\"M122,-166.3799C122,-158.1745 122,-148.7679 122,-139.8786\" fill=\"none\" stroke=\"#000000\"/>\n<polygon fill=\"#000000\" points=\"125.5001,-139.784 122,-129.784 118.5001,-139.784 125.5001,-139.784\" stroke=\"#000000\"/>\n</g>\n<!-- 139832633784336 -->\n<g class=\"node\" id=\"node4\">\n<title>139832633784336</title>\n<polygon fill=\"none\" points=\"16,-.5 16,-46.5 228,-46.5 228,-.5 16,-.5\" stroke=\"#000000\"/>\n<text fill=\"#000000\" font-family=\"Times,serif\" font-size=\"14.00\" text-anchor=\"middle\" x=\"42\" y=\"-19.8\">Dense</text>\n<polyline fill=\"none\" points=\"68,-.5 68,-46.5 \" stroke=\"#000000\"/>\n<text fill=\"#000000\" font-family=\"Times,serif\" font-size=\"14.00\" text-anchor=\"middle\" x=\"97\" y=\"-31.3\">input:</text>\n<polyline fill=\"none\" points=\"68,-23.5 126,-23.5 \" stroke=\"#000000\"/>\n<text fill=\"#000000\" font-family=\"Times,serif\" font-size=\"14.00\" text-anchor=\"middle\" x=\"97\" y=\"-8.3\">output:</text>\n<polyline fill=\"none\" points=\"126,-.5 126,-46.5 \" stroke=\"#000000\"/>\n<text fill=\"#000000\" font-family=\"Times,serif\" font-size=\"14.00\" text-anchor=\"middle\" x=\"177\" y=\"-31.3\">(None, 300)</text>\n<polyline fill=\"none\" points=\"126,-23.5 228,-23.5 \" stroke=\"#000000\"/>\n<text fill=\"#000000\" font-family=\"Times,serif\" font-size=\"14.00\" text-anchor=\"middle\" x=\"177\" y=\"-8.3\">(None, 56816)</text>\n</g>\n<!-- 139832634115984&#45;&gt;139832633784336 -->\n<g class=\"edge\" id=\"edge3\">\n<title>139832634115984-&gt;139832633784336</title>\n<path d=\"M122,-83.3799C122,-75.1745 122,-65.7679 122,-56.8786\" fill=\"none\" stroke=\"#000000\"/>\n<polygon fill=\"#000000\" points=\"125.5001,-56.784 122,-46.784 118.5001,-56.784 125.5001,-56.784\" stroke=\"#000000\"/>\n</g>\n</g>\n</svg>"
          },
          "metadata": {
            "tags": []
          },
          "execution_count": 56
        }
      ]
    },
    {
      "cell_type": "code",
      "metadata": {
        "id": "ikcsYPwWJhl6"
      },
      "source": [
        "for epoch in range(1, 6):\n",
        "    loss = 0.\n",
        "    i = 0\n",
        "    for x, y in generate_context_word_pairs(corpus=wids, window_size=window_size, vocab_size=vocab_size):\n",
        "        i += 1\n",
        "        loss += cbow.train_on_batch(x, y)\n",
        "        if i % 100000 == 0:\n",
        "            print('Processed {} (context, word) pairs'.format(i))\n",
        "\n",
        "    print('Epoch:', epoch, '\\tLoss:', loss)\n",
        "    print()"
      ],
      "execution_count": null,
      "outputs": []
    },
    {
      "cell_type": "code",
      "metadata": {
        "id": "3dvSwuoIJ6Bi"
      },
      "source": [
        ""
      ],
      "execution_count": null,
      "outputs": []
    },
    {
      "cell_type": "code",
      "metadata": {
        "id": "_vgczOP3TmPz"
      },
      "source": [
        ""
      ],
      "execution_count": null,
      "outputs": []
    },
    {
      "cell_type": "code",
      "metadata": {
        "id": "nozGPCAiVKYp"
      },
      "source": [
        ""
      ],
      "execution_count": null,
      "outputs": []
    },
    {
      "cell_type": "code",
      "metadata": {
        "id": "BztokE8_XvR4"
      },
      "source": [
        ""
      ],
      "execution_count": null,
      "outputs": []
    },
    {
      "cell_type": "code",
      "metadata": {
        "id": "5LQEYrlAW4EF"
      },
      "source": [
        ""
      ],
      "execution_count": null,
      "outputs": []
    },
    {
      "cell_type": "code",
      "metadata": {
        "id": "3J10XuNpbXKl"
      },
      "source": [
        ""
      ],
      "execution_count": null,
      "outputs": []
    },
    {
      "cell_type": "code",
      "metadata": {
        "id": "QcmKJCwZZ-EB"
      },
      "source": [
        ""
      ],
      "execution_count": null,
      "outputs": []
    },
    {
      "cell_type": "code",
      "metadata": {
        "id": "auZJBhMvZ9-4"
      },
      "source": [
        ""
      ],
      "execution_count": null,
      "outputs": []
    },
    {
      "cell_type": "code",
      "metadata": {
        "id": "pKhO6snoZo4_"
      },
      "source": [
        ""
      ],
      "execution_count": null,
      "outputs": []
    },
    {
      "cell_type": "code",
      "metadata": {
        "id": "i1GagHg2ZYaj"
      },
      "source": [
        ""
      ],
      "execution_count": null,
      "outputs": []
    },
    {
      "cell_type": "code",
      "metadata": {
        "id": "aN5kQB8-ZYR_"
      },
      "source": [
        ""
      ],
      "execution_count": null,
      "outputs": []
    },
    {
      "cell_type": "code",
      "metadata": {
        "id": "ceU7IAm-ZRkB"
      },
      "source": [
        ""
      ],
      "execution_count": null,
      "outputs": []
    },
    {
      "cell_type": "code",
      "metadata": {
        "id": "db6aGVQwYzHp"
      },
      "source": [
        ""
      ],
      "execution_count": null,
      "outputs": []
    },
    {
      "cell_type": "code",
      "metadata": {
        "id": "i2AIm45ZYaIa"
      },
      "source": [
        ""
      ],
      "execution_count": null,
      "outputs": []
    },
    {
      "cell_type": "code",
      "metadata": {
        "id": "egjc-ocRX3ps"
      },
      "source": [
        ""
      ],
      "execution_count": null,
      "outputs": []
    }
  ]
}