{
  "nbformat": 4,
  "nbformat_minor": 0,
  "metadata": {
    "colab": {
      "name": "Sikka_AI.ipynb",
      "provenance": [],
      "collapsed_sections": [
        "e_RAJPfiLcVv",
        "jrUi4ERIJQkO",
        "GlY8igAsJH1H"
      ],
      "mount_file_id": "1dA3Q0mcvt-8hg3crZox88EQeL8MiUsf8",
      "authorship_tag": "ABX9TyPDyIiBmhO1NzQla/vCi39s",
      "include_colab_link": true
    },
    "kernelspec": {
      "display_name": "Python 3",
      "name": "python3"
    },
    "language_info": {
      "name": "python"
    }
  },
  "cells": [
    {
      "cell_type": "markdown",
      "metadata": {
        "id": "view-in-github",
        "colab_type": "text"
      },
      "source": [
        "<a href=\"https://colab.research.google.com/github/achyutak/Project-2021/blob/main/Sikka_AI/Pre-Processing.ipynb\" target=\"_parent\"><img src=\"https://colab.research.google.com/assets/colab-badge.svg\" alt=\"Open In Colab\"/></a>"
      ]
    },
    {
      "cell_type": "markdown",
      "metadata": {
        "id": "-bYiLNTBaL1q"
      },
      "source": [
        "#Import "
      ]
    },
    {
      "cell_type": "code",
      "metadata": {
        "colab": {
          "base_uri": "https://localhost:8080/"
        },
        "id": "pqizcpNzxqLZ",
        "outputId": "9ff36548-036e-4bea-d9d4-63623c49e85a"
      },
      "source": [
        "import pandas as pd\n",
        "import seaborn as sns\n",
        "import numpy as np\n",
        "import matplotlib.pyplot as plt\n",
        "import glob\n",
        "import zipfile\n",
        "import random\n",
        "import nltk\n",
        "import string\n",
        "nltk.download('punkt')\n",
        "from nltk.tokenize import word_tokenize, wordpunct_tokenize\n",
        "nltk.download('wordnet')\n",
        "nltk.download('stopwords')\n",
        "from nltk.corpus import stopwords\n",
        "stopwords_list = stopwords.words('english')\n",
        "from nltk.stem import WordNetLemmatizer\n",
        "lemmatizer = WordNetLemmatizer()"
      ],
      "execution_count": 1,
      "outputs": [
        {
          "output_type": "stream",
          "text": [
            "[nltk_data] Downloading package punkt to /root/nltk_data...\n",
            "[nltk_data]   Package punkt is already up-to-date!\n",
            "[nltk_data] Downloading package wordnet to /root/nltk_data...\n",
            "[nltk_data]   Package wordnet is already up-to-date!\n",
            "[nltk_data] Downloading package stopwords to /root/nltk_data...\n",
            "[nltk_data]   Package stopwords is already up-to-date!\n"
          ],
          "name": "stdout"
        }
      ]
    },
    {
      "cell_type": "code",
      "metadata": {
        "colab": {
          "base_uri": "https://localhost:8080/"
        },
        "id": "ZZIrBS5TOhoc",
        "outputId": "117a4906-8147-423f-9906-9632be5c0d3d"
      },
      "source": [
        "from google.colab import drive\n",
        "drive.mount('/content/drive')"
      ],
      "execution_count": 2,
      "outputs": [
        {
          "output_type": "stream",
          "text": [
            "Drive already mounted at /content/drive; to attempt to forcibly remount, call drive.mount(\"/content/drive\", force_remount=True).\n"
          ],
          "name": "stdout"
        }
      ]
    },
    {
      "cell_type": "markdown",
      "metadata": {
        "id": "kaCo_6iPaBW-"
      },
      "source": [
        "#Extracting data to drive"
      ]
    },
    {
      "cell_type": "code",
      "metadata": {
        "id": "NR9M7IHAO8a8"
      },
      "source": [
        "# import glob\n",
        "# for i in glob.glob(\"*.zip\"):\n",
        "#   with zipfile.ZipFile('/content/' + i , 'r') as zip_ref:\n",
        "#     zip_ref.extractall('/content')\n"
      ],
      "execution_count": 3,
      "outputs": []
    },
    {
      "cell_type": "code",
      "metadata": {
        "id": "6CIJnUsWZBU8"
      },
      "source": [
        "# cd /content/drive/MyDrive/Project-2021"
      ],
      "execution_count": 4,
      "outputs": []
    },
    {
      "cell_type": "code",
      "metadata": {
        "id": "im1Fi0I3ZLMz"
      },
      "source": [
        "# mkdir Sikka_AI\n",
        "# # cd Sikka_AI/"
      ],
      "execution_count": 5,
      "outputs": []
    },
    {
      "cell_type": "code",
      "metadata": {
        "id": "t2Ws8xs3ZQcA"
      },
      "source": [
        "# mv /content/sample_submission.csv ./"
      ],
      "execution_count": 6,
      "outputs": []
    },
    {
      "cell_type": "markdown",
      "metadata": {
        "id": "BMaCYuLaZ5rc"
      },
      "source": [
        "#Data Exploration\n"
      ]
    },
    {
      "cell_type": "code",
      "metadata": {
        "id": "D0VRIjDzxyHK"
      },
      "source": [
        "df = pd.read_csv('/content/drive/MyDrive/Project-2021/Sikka_AI/train.csv')"
      ],
      "execution_count": 7,
      "outputs": []
    },
    {
      "cell_type": "code",
      "metadata": {
        "colab": {
          "base_uri": "https://localhost:8080/",
          "height": 52
        },
        "id": "vS7oPi5_x1l_",
        "outputId": "17fdd896-6d61-4f2f-c133-943c0b070089"
      },
      "source": [
        "df.comment_text[0]"
      ],
      "execution_count": 8,
      "outputs": [
        {
          "output_type": "execute_result",
          "data": {
            "application/vnd.google.colaboratory.intrinsic+json": {
              "type": "string"
            },
            "text/plain": [
              "\"Explanation\\nWhy the edits made under my username Hardcore Metallica Fan were reverted? They weren't vandalisms, just closure on some GAs after I voted at New York Dolls FAC. And please don't remove the template from the talk page since I'm retired now.89.205.38.27\""
            ]
          },
          "metadata": {
            "tags": []
          },
          "execution_count": 8
        }
      ]
    },
    {
      "cell_type": "code",
      "metadata": {
        "colab": {
          "base_uri": "https://localhost:8080/"
        },
        "id": "wOR8_GiWyHzt",
        "outputId": "3c8de8a0-ca9e-44e5-e0f2-e7b75a974659"
      },
      "source": [
        "df.info()"
      ],
      "execution_count": 9,
      "outputs": [
        {
          "output_type": "stream",
          "text": [
            "<class 'pandas.core.frame.DataFrame'>\n",
            "RangeIndex: 159571 entries, 0 to 159570\n",
            "Data columns (total 8 columns):\n",
            " #   Column         Non-Null Count   Dtype \n",
            "---  ------         --------------   ----- \n",
            " 0   id             159571 non-null  object\n",
            " 1   comment_text   159571 non-null  object\n",
            " 2   toxic          159571 non-null  int64 \n",
            " 3   severe_toxic   159571 non-null  int64 \n",
            " 4   obscene        159571 non-null  int64 \n",
            " 5   threat         159571 non-null  int64 \n",
            " 6   insult         159571 non-null  int64 \n",
            " 7   identity_hate  159571 non-null  int64 \n",
            "dtypes: int64(6), object(2)\n",
            "memory usage: 9.7+ MB\n"
          ],
          "name": "stdout"
        }
      ]
    },
    {
      "cell_type": "code",
      "metadata": {
        "colab": {
          "base_uri": "https://localhost:8080/"
        },
        "id": "k-oe_8ZU3cwE",
        "outputId": "d954590f-500d-4395-aefe-2d3edff222df"
      },
      "source": [
        "df.id.describe()"
      ],
      "execution_count": 10,
      "outputs": [
        {
          "output_type": "execute_result",
          "data": {
            "text/plain": [
              "count               159571\n",
              "unique              159571\n",
              "top       3accb83244c1abac\n",
              "freq                     1\n",
              "Name: id, dtype: object"
            ]
          },
          "metadata": {
            "tags": []
          },
          "execution_count": 10
        }
      ]
    },
    {
      "cell_type": "code",
      "metadata": {
        "colab": {
          "base_uri": "https://localhost:8080/"
        },
        "id": "WRyCebYW3svg",
        "outputId": "692535fd-4b2c-4cca-f12e-f08b104e95d6"
      },
      "source": [
        "df.comment_text.describe()"
      ],
      "execution_count": 11,
      "outputs": [
        {
          "output_type": "execute_result",
          "data": {
            "text/plain": [
              "count                                                159571\n",
              "unique                                               159571\n",
              "top       Sassalism\\n\\nYou are guilty of Sassalism, Samu...\n",
              "freq                                                      1\n",
              "Name: comment_text, dtype: object"
            ]
          },
          "metadata": {
            "tags": []
          },
          "execution_count": 11
        }
      ]
    },
    {
      "cell_type": "code",
      "metadata": {
        "colab": {
          "base_uri": "https://localhost:8080/"
        },
        "id": "JbhHLa9c35wA",
        "outputId": "47362718-1ae9-4c1b-9f22-9baeeb4b7048"
      },
      "source": [
        "df.toxic.describe()"
      ],
      "execution_count": 12,
      "outputs": [
        {
          "output_type": "execute_result",
          "data": {
            "text/plain": [
              "count    159571.000000\n",
              "mean          0.095844\n",
              "std           0.294379\n",
              "min           0.000000\n",
              "25%           0.000000\n",
              "50%           0.000000\n",
              "75%           0.000000\n",
              "max           1.000000\n",
              "Name: toxic, dtype: float64"
            ]
          },
          "metadata": {
            "tags": []
          },
          "execution_count": 12
        }
      ]
    },
    {
      "cell_type": "code",
      "metadata": {
        "colab": {
          "base_uri": "https://localhost:8080/"
        },
        "id": "AKkgi1rq3-Y_",
        "outputId": "d145a98d-a22d-4f4e-d242-40d209f8b3e0"
      },
      "source": [
        "df.severe_toxic.describe()"
      ],
      "execution_count": 13,
      "outputs": [
        {
          "output_type": "execute_result",
          "data": {
            "text/plain": [
              "count    159571.000000\n",
              "mean          0.009996\n",
              "std           0.099477\n",
              "min           0.000000\n",
              "25%           0.000000\n",
              "50%           0.000000\n",
              "75%           0.000000\n",
              "max           1.000000\n",
              "Name: severe_toxic, dtype: float64"
            ]
          },
          "metadata": {
            "tags": []
          },
          "execution_count": 13
        }
      ]
    },
    {
      "cell_type": "code",
      "metadata": {
        "colab": {
          "base_uri": "https://localhost:8080/"
        },
        "id": "AKt0HPHi4I27",
        "outputId": "3e7a7c64-0bac-40c8-85cd-56b0de5ce0f0"
      },
      "source": [
        "df.obscene.describe()"
      ],
      "execution_count": 14,
      "outputs": [
        {
          "output_type": "execute_result",
          "data": {
            "text/plain": [
              "count    159571.000000\n",
              "mean          0.052948\n",
              "std           0.223931\n",
              "min           0.000000\n",
              "25%           0.000000\n",
              "50%           0.000000\n",
              "75%           0.000000\n",
              "max           1.000000\n",
              "Name: obscene, dtype: float64"
            ]
          },
          "metadata": {
            "tags": []
          },
          "execution_count": 14
        }
      ]
    },
    {
      "cell_type": "code",
      "metadata": {
        "colab": {
          "base_uri": "https://localhost:8080/"
        },
        "id": "2_1epAuh4K33",
        "outputId": "42c1e9b9-af51-4f2c-b042-89ce2c4271c6"
      },
      "source": [
        "df.threat.describe()"
      ],
      "execution_count": 15,
      "outputs": [
        {
          "output_type": "execute_result",
          "data": {
            "text/plain": [
              "count    159571.000000\n",
              "mean          0.002996\n",
              "std           0.054650\n",
              "min           0.000000\n",
              "25%           0.000000\n",
              "50%           0.000000\n",
              "75%           0.000000\n",
              "max           1.000000\n",
              "Name: threat, dtype: float64"
            ]
          },
          "metadata": {
            "tags": []
          },
          "execution_count": 15
        }
      ]
    },
    {
      "cell_type": "code",
      "metadata": {
        "colab": {
          "base_uri": "https://localhost:8080/"
        },
        "id": "9juNB8G64ZJH",
        "outputId": "0b722e7c-e347-4aa0-f3e1-03adb526e27c"
      },
      "source": [
        "df.insult.describe()"
      ],
      "execution_count": 16,
      "outputs": [
        {
          "output_type": "execute_result",
          "data": {
            "text/plain": [
              "count    159571.000000\n",
              "mean          0.049364\n",
              "std           0.216627\n",
              "min           0.000000\n",
              "25%           0.000000\n",
              "50%           0.000000\n",
              "75%           0.000000\n",
              "max           1.000000\n",
              "Name: insult, dtype: float64"
            ]
          },
          "metadata": {
            "tags": []
          },
          "execution_count": 16
        }
      ]
    },
    {
      "cell_type": "code",
      "metadata": {
        "colab": {
          "base_uri": "https://localhost:8080/"
        },
        "id": "3QoA0gh-4eGg",
        "outputId": "b2866084-2f29-41b7-e824-6e2121326e68"
      },
      "source": [
        "df.identity_hate.describe()"
      ],
      "execution_count": 17,
      "outputs": [
        {
          "output_type": "execute_result",
          "data": {
            "text/plain": [
              "count    159571.000000\n",
              "mean          0.008805\n",
              "std           0.093420\n",
              "min           0.000000\n",
              "25%           0.000000\n",
              "50%           0.000000\n",
              "75%           0.000000\n",
              "max           1.000000\n",
              "Name: identity_hate, dtype: float64"
            ]
          },
          "metadata": {
            "tags": []
          },
          "execution_count": 17
        }
      ]
    },
    {
      "cell_type": "code",
      "metadata": {
        "id": "1-EozKt44gou"
      },
      "source": [
        "new_df = df.copy()"
      ],
      "execution_count": 18,
      "outputs": []
    },
    {
      "cell_type": "code",
      "metadata": {
        "id": "4dNufJP2zMX4"
      },
      "source": [
        "new_df.drop(columns='id',inplace=True)"
      ],
      "execution_count": 19,
      "outputs": []
    },
    {
      "cell_type": "code",
      "metadata": {
        "id": "XliUqnMw4xsc"
      },
      "source": [
        "new_df['Number_of_categories'] = new_df['identity_hate'] + new_df['insult'] + new_df['obscene'] + new_df['severe_toxic'] + new_df['threat'] + new_df['toxic']"
      ],
      "execution_count": 20,
      "outputs": []
    },
    {
      "cell_type": "code",
      "metadata": {
        "colab": {
          "base_uri": "https://localhost:8080/"
        },
        "id": "UVqjdDRR5idk",
        "outputId": "dc07522e-b003-4422-8466-baac81f77d6d"
      },
      "source": [
        "new_df.Number_of_categories.describe()"
      ],
      "execution_count": 21,
      "outputs": [
        {
          "output_type": "execute_result",
          "data": {
            "text/plain": [
              "count    159571.000000\n",
              "mean          0.219952\n",
              "std           0.748260\n",
              "min           0.000000\n",
              "25%           0.000000\n",
              "50%           0.000000\n",
              "75%           0.000000\n",
              "max           6.000000\n",
              "Name: Number_of_categories, dtype: float64"
            ]
          },
          "metadata": {
            "tags": []
          },
          "execution_count": 21
        }
      ]
    },
    {
      "cell_type": "code",
      "metadata": {
        "colab": {
          "base_uri": "https://localhost:8080/",
          "height": 386
        },
        "id": "1sAwY1WX887e",
        "outputId": "6ba54d59-4442-4860-dba8-65b736d2b660"
      },
      "source": [
        "sns.displot(new_df.Number_of_categories)"
      ],
      "execution_count": 22,
      "outputs": [
        {
          "output_type": "execute_result",
          "data": {
            "text/plain": [
              "<seaborn.axisgrid.FacetGrid at 0x7fdcb95e5710>"
            ]
          },
          "metadata": {
            "tags": []
          },
          "execution_count": 22
        },
        {
          "output_type": "display_data",
          "data": {
            "image/png": "[encoded data removed]",
            "text/plain": [
              "<Figure size 360x360 with 1 Axes>"
            ]
          },
          "metadata": {
            "tags": [],
            "needs_background": "light"
          }
        }
      ]
    },
    {
      "cell_type": "code",
      "metadata": {
        "colab": {
          "base_uri": "https://localhost:8080/",
          "height": 386
        },
        "id": "RQ3i8z_85l8j",
        "outputId": "3d402c31-a5b1-4bf8-b32a-4f896a581a34"
      },
      "source": [
        "sns.displot(new_df.Number_of_categories[new_df['Number_of_categories'] > 0])"
      ],
      "execution_count": 23,
      "outputs": [
        {
          "output_type": "execute_result",
          "data": {
            "text/plain": [
              "<seaborn.axisgrid.FacetGrid at 0x7fdcb04b8590>"
            ]
          },
          "metadata": {
            "tags": []
          },
          "execution_count": 23
        },
        {
          "output_type": "display_data",
          "data": {
            "image/png": "[encoded data removed]",
            "text/plain": [
              "<Figure size 360x360 with 1 Axes>"
            ]
          },
          "metadata": {
            "tags": [],
            "needs_background": "light"
          }
        }
      ]
    },
    {
      "cell_type": "code",
      "metadata": {
        "colab": {
          "base_uri": "https://localhost:8080/"
        },
        "id": "mOsAnAsC9G3C",
        "outputId": "2472adb1-3636-4041-b3fe-adc70878eac9"
      },
      "source": [
        "new_df[new_df.Number_of_categories == 0].index"
      ],
      "execution_count": 24,
      "outputs": [
        {
          "output_type": "execute_result",
          "data": {
            "text/plain": [
              "Int64Index([     0,      1,      2,      3,      4,      5,      7,      8,\n",
              "                 9,     10,\n",
              "            ...\n",
              "            159561, 159562, 159563, 159564, 159565, 159566, 159567, 159568,\n",
              "            159569, 159570],\n",
              "           dtype='int64', length=143346)"
            ]
          },
          "metadata": {
            "tags": []
          },
          "execution_count": 24
        }
      ]
    },
    {
      "cell_type": "markdown",
      "metadata": {
        "id": "ukQ2YbRU7rF7"
      },
      "source": [
        "There are roughly 17000 (16225 to be precise) comments that belong to one of the 6 categories. The remaining 143346 of 159571 comments do not have any toxicity. This distribution may make the ML method biased."
      ]
    },
    {
      "cell_type": "markdown",
      "metadata": {
        "id": "6AEnSW6m688J"
      },
      "source": [
        "##Important decision here"
      ]
    },
    {
      "cell_type": "markdown",
      "metadata": {
        "id": "9tApEZFE6PBE"
      },
      "source": [
        "Since there are 16225 comments that belong to one of the 6 categories, select a number (larger or smaller or equal to 16225 in `num_of_nothing_bad`) of comments that do not belong to any of the categories to be in the training data. This eliminates the strong bias"
      ]
    },
    {
      "cell_type": "code",
      "metadata": {
        "id": "SaPqt_Tw9tAD"
      },
      "source": [
        "num_of_nothing_bad = 20000 #replace the number here\n",
        "index_list_none = random.sample(set(new_df[new_df.Number_of_categories == 0].index),num_of_nothing_bad)"
      ],
      "execution_count": 25,
      "outputs": []
    },
    {
      "cell_type": "code",
      "metadata": {
        "id": "Vd6JmbX7DYLw"
      },
      "source": [
        "index_list_atleast_one = new_df[new_df.Number_of_categories > 0].index"
      ],
      "execution_count": 26,
      "outputs": []
    },
    {
      "cell_type": "code",
      "metadata": {
        "id": "Cj6KjPV-913Z"
      },
      "source": [
        "# drop_list = []\n",
        "# for i in new_df.index:\n",
        "#   if i not in index_list_none and i not in index_list_atleast_one:\n",
        "#     drop_list.append(i)"
      ],
      "execution_count": 27,
      "outputs": []
    },
    {
      "cell_type": "code",
      "metadata": {
        "id": "8F_4m2c6quG3"
      },
      "source": [
        "# np.save('/content/drive/MyDrive/Project-2021/Sikka_AI/Saved_files/drop_list',drop_list)"
      ],
      "execution_count": 28,
      "outputs": []
    },
    {
      "cell_type": "code",
      "metadata": {
        "id": "zWy--e6psCsE"
      },
      "source": [
        "drop_list = np.load('/content/drive/MyDrive/Project-2021/Sikka_AI/Saved_files/drop_list.npy')"
      ],
      "execution_count": 29,
      "outputs": []
    },
    {
      "cell_type": "code",
      "metadata": {
        "id": "20TkdW7xD8N3"
      },
      "source": [
        "new_df.drop(labels=drop_list,inplace=True)"
      ],
      "execution_count": 30,
      "outputs": []
    },
    {
      "cell_type": "code",
      "metadata": {
        "colab": {
          "base_uri": "https://localhost:8080/",
          "height": 386
        },
        "id": "2Voy-p_0EsW-",
        "outputId": "e9b33157-690d-4944-a8d6-d175e5083736"
      },
      "source": [
        "sns.displot(data=new_df['Number_of_categories'])"
      ],
      "execution_count": 31,
      "outputs": [
        {
          "output_type": "execute_result",
          "data": {
            "text/plain": [
              "<seaborn.axisgrid.FacetGrid at 0x7fdcaffc5ed0>"
            ]
          },
          "metadata": {
            "tags": []
          },
          "execution_count": 31
        },
        {
          "output_type": "display_data",
          "data": {
            "image/png": "[encoded data removed]",
            "text/plain": [
              "<Figure size 360x360 with 1 Axes>"
            ]
          },
          "metadata": {
            "tags": [],
            "needs_background": "light"
          }
        }
      ]
    },
    {
      "cell_type": "code",
      "metadata": {
        "colab": {
          "base_uri": "https://localhost:8080/",
          "height": 351
        },
        "id": "dzsLD1BuGJ5j",
        "outputId": "a477c0b2-0151-4128-cb06-2eaf01bf4385"
      },
      "source": [
        "sns.distplot(new_df['Number_of_categories'])"
      ],
      "execution_count": 32,
      "outputs": [
        {
          "output_type": "stream",
          "text": [
            "/usr/local/lib/python3.7/dist-packages/seaborn/distributions.py:2557: FutureWarning: `distplot` is a deprecated function and will be removed in a future version. Please adapt your code to use either `displot` (a figure-level function with similar flexibility) or `histplot` (an axes-level function for histograms).\n",
            "  warnings.warn(msg, FutureWarning)\n"
          ],
          "name": "stderr"
        },
        {
          "output_type": "execute_result",
          "data": {
            "text/plain": [
              "<matplotlib.axes._subplots.AxesSubplot at 0x7fdcafa01fd0>"
            ]
          },
          "metadata": {
            "tags": []
          },
          "execution_count": 32
        },
        {
          "output_type": "display_data",
          "data": {
            "image/png": "[encoded data removed]",
            "text/plain": [
              "<Figure size 432x288 with 1 Axes>"
            ]
          },
          "metadata": {
            "tags": [],
            "needs_background": "light"
          }
        }
      ]
    },
    {
      "cell_type": "code",
      "metadata": {
        "id": "NaUaDL-mKkjK"
      },
      "source": [
        "new_df.reset_index(inplace=True)"
      ],
      "execution_count": 33,
      "outputs": []
    },
    {
      "cell_type": "code",
      "metadata": {
        "id": "45LxSMVlz6T4"
      },
      "source": [
        "new_df.drop(columns='index',inplace=True)"
      ],
      "execution_count": 34,
      "outputs": []
    },
    {
      "cell_type": "markdown",
      "metadata": {
        "id": "e_RAJPfiLcVv"
      },
      "source": [
        "# Cleaning the data\n"
      ]
    },
    {
      "cell_type": "code",
      "metadata": {
        "colab": {
          "base_uri": "https://localhost:8080/"
        },
        "id": "SO3grTj6KuNN",
        "outputId": "c521f6eb-47cc-47d3-bbc9-c352bdfa4499"
      },
      "source": [
        "new_df['comment_text']"
      ],
      "execution_count": 35,
      "outputs": [
        {
          "output_type": "execute_result",
          "data": {
            "text/plain": [
              "0             COCKSUCKER BEFORE YOU PISS AROUND ON MY WORK\n",
              "1        Hey... what is it..\\n@ | talk .\\nWhat is it......\n",
              "2        Bye! \\n\\nDon't look, come or think of comming ...\n",
              "3        The Mitsurugi point made no sense - why not ar...\n",
              "4        \"\\nOk. But it will take a bit of work but I ca...\n",
              "                               ...                        \n",
              "36220    Retiring \\n\\nSince retiring from Wikipedia, I ...\n",
              "36221    Your absurd edits \\n\\nYour absurd edits on gre...\n",
              "36222    \"\\n\\nHey listen don't you ever!!!! Delete my e...\n",
              "36223    and i'm going to keep posting the stuff u dele...\n",
              "36224    \"\\n Auto guides and the motoring press are not...\n",
              "Name: comment_text, Length: 36225, dtype: object"
            ]
          },
          "metadata": {
            "tags": []
          },
          "execution_count": 35
        }
      ]
    },
    {
      "cell_type": "code",
      "metadata": {
        "id": "UjA-5pNIK1hR"
      },
      "source": [
        "def clean_text(text):\n",
        "   \n",
        "    # Convert text to all lowercase letters\n",
        "    text = text.lower()\n",
        "    \n",
        "    # Remove whitespaces\n",
        "    text = text.strip()\n",
        "    \n",
        "    # Tokenize text\n",
        "    tokens = word_tokenize(text)\n",
        "    \n",
        "    # Remove all tokens that are not alphabetic   r[A-Za-z#]\n",
        "    tokens = [token for token in tokens if token.isalpha()]\n",
        "    \n",
        "    # Remove stopwords\n",
        "    tokens = [token for token in tokens if token not in stopwords_list]\n",
        "    \n",
        "    # Remove tokens less than three letters\n",
        "    tokens = [token for token in tokens if not len(token)<3]\n",
        "\n",
        "    #Removing tokens more than 8 words\n",
        "    tokens = [token for token in tokens if not len(token)>8]\n",
        "    \n",
        "    # Remove punctuations\n",
        "    tokens = [token for token in tokens if token not in string.punctuation]\n",
        "    \n",
        "    # Lemmetize tokens\n",
        "    tokens = [lemmatizer.lemmatize(token,pos='n') for token in tokens]\n",
        "    \n",
        "    # Stem tokens\n",
        "    #tokens = \n",
        "    \n",
        "    # Re-create text from filtered tokens, so that vectorizer won't complain\n",
        "    text = ' '.join(tokens)\n",
        "    return text"
      ],
      "execution_count": 36,
      "outputs": []
    },
    {
      "cell_type": "code",
      "metadata": {
        "id": "DNTdsXugNxBk"
      },
      "source": [
        "clean_df = new_df.copy()"
      ],
      "execution_count": 37,
      "outputs": []
    },
    {
      "cell_type": "code",
      "metadata": {
        "id": "hNWKh1jXN9_C"
      },
      "source": [
        "clean_df['comment_text'] = clean_df['comment_text'].apply(lambda x: clean_text(x))"
      ],
      "execution_count": 38,
      "outputs": []
    },
    {
      "cell_type": "code",
      "metadata": {
        "colab": {
          "base_uri": "https://localhost:8080/"
        },
        "id": "v9iocgc3OE4w",
        "outputId": "41f5d22a-08d5-4755-c63a-39598a87f108"
      },
      "source": [
        "clean_df.comment_text"
      ],
      "execution_count": 39,
      "outputs": [
        {
          "output_type": "execute_result",
          "data": {
            "text/plain": [
              "0                                         piss around work\n",
              "1        hey talk group taliban good purist gang one as...\n",
              "2                  bye look come think comming back tosser\n",
              "3        point made sense argue include hindi ryo sakaz...\n",
              "4            take bit work quite picture example base duck\n",
              "                               ...                        \n",
              "36220    retiring since retiring looking life become ob...\n",
              "36221    absurd edits absurd edits great white shark to...\n",
              "36222    hey listen ever delete edits ever annoyed wwe ...\n",
              "36223    going keep posting stuff deleted fucking site ...\n",
              "36224    auto guide motoring press good source article ...\n",
              "Name: comment_text, Length: 36225, dtype: object"
            ]
          },
          "metadata": {
            "tags": []
          },
          "execution_count": 39
        }
      ]
    },
    {
      "cell_type": "code",
      "metadata": {
        "colab": {
          "base_uri": "https://localhost:8080/"
        },
        "id": "sf6NQQxYcJav",
        "outputId": "69ea4e5f-af81-4459-fcdf-aa5d6d56a6f5"
      },
      "source": [
        "max([len(x.split()) for x in new_df['comment_text']])"
      ],
      "execution_count": 40,
      "outputs": [
        {
          "output_type": "execute_result",
          "data": {
            "text/plain": [
              "1411"
            ]
          },
          "metadata": {
            "tags": []
          },
          "execution_count": 40
        }
      ]
    },
    {
      "cell_type": "code",
      "metadata": {
        "colab": {
          "base_uri": "https://localhost:8080/"
        },
        "id": "mx6pt03XfNrk",
        "outputId": "9374c1ed-829b-4ea4-e825-d40890cd2ad1"
      },
      "source": [
        "max([len(x.split()) for x in clean_df['comment_text']])"
      ],
      "execution_count": 41,
      "outputs": [
        {
          "output_type": "execute_result",
          "data": {
            "text/plain": [
              "1250"
            ]
          },
          "metadata": {
            "tags": []
          },
          "execution_count": 41
        }
      ]
    },
    {
      "cell_type": "code",
      "metadata": {
        "id": "2DB5A4WciJjm"
      },
      "source": [
        "clean_df['word_count'] = clean_df.comment_text.apply(lambda x: (len(x.split())))"
      ],
      "execution_count": 42,
      "outputs": []
    },
    {
      "cell_type": "code",
      "metadata": {
        "colab": {
          "base_uri": "https://localhost:8080/",
          "height": 386
        },
        "id": "z-E3vH_Gsz-U",
        "outputId": "1f524983-e9ef-4463-8d3e-8b8fb7140e5a"
      },
      "source": [
        "sns.displot(clean_df.word_count)"
      ],
      "execution_count": 43,
      "outputs": [
        {
          "output_type": "execute_result",
          "data": {
            "text/plain": [
              "<seaborn.axisgrid.FacetGrid at 0x7fdcb9600e10>"
            ]
          },
          "metadata": {
            "tags": []
          },
          "execution_count": 43
        },
        {
          "output_type": "display_data",
          "data": {
            "image/png": "[encoded data removed]",
            "text/plain": [
              "<Figure size 360x360 with 1 Axes>"
            ]
          },
          "metadata": {
            "tags": [],
            "needs_background": "light"
          }
        }
      ]
    },
    {
      "cell_type": "code",
      "metadata": {
        "colab": {
          "base_uri": "https://localhost:8080/",
          "height": 386
        },
        "id": "AQGAk4JQjGPt",
        "outputId": "87667766-09f4-47a7-fe12-943f285a36e0"
      },
      "source": [
        "sns.displot(clean_df.word_count,bins=10)\n",
        "plt.xlim((0,600))"
      ],
      "execution_count": 44,
      "outputs": [
        {
          "output_type": "execute_result",
          "data": {
            "text/plain": [
              "(0.0, 600.0)"
            ]
          },
          "metadata": {
            "tags": []
          },
          "execution_count": 44
        },
        {
          "output_type": "display_data",
          "data": {
            "image/png": "[encoded data removed]",
            "text/plain": [
              "<Figure size 360x360 with 1 Axes>"
            ]
          },
          "metadata": {
            "tags": [],
            "needs_background": "light"
          }
        }
      ]
    },
    {
      "cell_type": "code",
      "metadata": {
        "colab": {
          "base_uri": "https://localhost:8080/"
        },
        "id": "g3ItIg6zl-jR",
        "outputId": "c8c45430-2af4-4837-ba31-2a4a933a50d6"
      },
      "source": [
        "clean_df.comment_text[clean_df.word_count > 600]"
      ],
      "execution_count": 45,
      "outputs": [
        {
          "output_type": "execute_result",
          "data": {
            "text/plain": [
              "572      fuck useless bot fuck useless bot fuck useless...\n",
              "1122     fuck bastard yyou life fuck bastard yank cock ...\n",
              "1515     sex sex sex sex sex sex sex sexsex sex sex sex...\n",
              "2032     ball ball ball ball ball ball ball ball ball b...\n",
              "2602     thanks watching wiki raid thread ruining fun d...\n",
              "3035     nigger nigger nigger nigger nigger nigger nigg...\n",
              "4158     hey guy love chicken hey guy love chicken hey ...\n",
              "5112     fuck nigga fuck nigga fuck nigga fuck nigga fu...\n",
              "6225     damn cunt damn cunt damn cunt damn cunt damn c...\n",
              "6630     jim wale must die jim wale must die jim wale m...\n",
              "7389     pig pig pig pig pig pig pig pig pig pig pig pi...\n",
              "7446     really wasnt bitch fat jew fat jew fat jew fat...\n",
              "7938     suck suck suck suck suck suck suck suck suck s...\n",
              "8768     bark bark bark bark bark bark bark bark bark b...\n",
              "9118     jforget fuck faggot gay as chink nigger piece ...\n",
              "9689     wanker wanker wanker wanker wanker wanker wank...\n",
              "10630    heil hitler heil hitler heil hitler heil hitle...\n",
              "12395    anthony bradbury suck penis anthony bradbury e...\n",
              "12641    anyone support fucking sick men fucking kid fu...\n",
              "15587    anal rape anal rape anal rape anal rape anal r...\n",
              "17421    nice work removing edits faggot as piece shit ...\n",
              "17526    die fag die fag die fag die fag die fag die fa...\n",
              "17647    mexican suck mexican suck mexican suck mexican...\n",
              "17659    nigger nigger nigger nigger nigger nigger nigg...\n",
              "17660    fuck bitch fuck bitch fuck bitch fuck bitch fu...\n",
              "19157    robert ullmann suck dick robert ullmann suck d...\n",
              "20023    shit shit shit shit shit shit shit shit shit s...\n",
              "21447    wiki noobs wiki noobs wiki noobs wiki noobs wi...\n",
              "23164    super gay super gay super gay super gay super ...\n",
              "23919    faggot faggot faggot faggot faggot faggot fagg...\n",
              "24929    eat shit die bitch as nigga eat shit die bitch...\n",
              "25205    faggot faggot faggot faggot faggot faggot fagg...\n",
              "29103    dont care dont care dont care dont care dont c...\n",
              "29222    sex fucksex fucksex fucksex fucksex fucksex fu...\n",
              "30577    nipple nipple nipple nipple nipple nipple nipp...\n",
              "30995    suck cock suck cock suck cock suck cock suck c...\n",
              "33727    fuck dog fuck dog fuck dog fuck dog fuck dog f...\n",
              "34781    fat jew fat jew fat jew fat jew fat jew fat je...\n",
              "34910    btw mark arsten son bitch cock placed girl mou...\n",
              "35416    aid aid aid aid aid aid aidsaids aid aid aid a...\n",
              "35505    huge faggot huge faggot huge faggot huge faggo...\n",
              "Name: comment_text, dtype: object"
            ]
          },
          "metadata": {
            "tags": []
          },
          "execution_count": 45
        }
      ]
    },
    {
      "cell_type": "markdown",
      "metadata": {
        "id": "XAWJdEGks--j"
      },
      "source": [
        "It looks like the comments with more than 600 words are usually repititive.\n"
      ]
    },
    {
      "cell_type": "code",
      "metadata": {
        "colab": {
          "base_uri": "https://localhost:8080/",
          "height": 419
        },
        "id": "m1n-W4qHw9sN",
        "outputId": "2fe05d0f-fbb9-4517-8fec-80c673509c98"
      },
      "source": [
        "clean_df"
      ],
      "execution_count": 46,
      "outputs": [
        {
          "output_type": "execute_result",
          "data": {
            "text/html": [
              "<div>\n",
              "<style scoped>\n",
              "    .dataframe tbody tr th:only-of-type {\n",
              "        vertical-align: middle;\n",
              "    }\n",
              "\n",
              "    .dataframe tbody tr th {\n",
              "        vertical-align: top;\n",
              "    }\n",
              "\n",
              "    .dataframe thead th {\n",
              "        text-align: right;\n",
              "    }\n",
              "</style>\n",
              "<table border=\"1\" class=\"dataframe\">\n",
              "  <thead>\n",
              "    <tr style=\"text-align: right;\">\n",
              "      <th></th>\n",
              "      <th>comment_text</th>\n",
              "      <th>toxic</th>\n",
              "      <th>severe_toxic</th>\n",
              "      <th>obscene</th>\n",
              "      <th>threat</th>\n",
              "      <th>insult</th>\n",
              "      <th>identity_hate</th>\n",
              "      <th>Number_of_categories</th>\n",
              "      <th>word_count</th>\n",
              "    </tr>\n",
              "  </thead>\n",
              "  <tbody>\n",
              "    <tr>\n",
              "      <th>0</th>\n",
              "      <td>piss around work</td>\n",
              "      <td>1</td>\n",
              "      <td>1</td>\n",
              "      <td>1</td>\n",
              "      <td>0</td>\n",
              "      <td>1</td>\n",
              "      <td>0</td>\n",
              "      <td>4</td>\n",
              "      <td>3</td>\n",
              "    </tr>\n",
              "    <tr>\n",
              "      <th>1</th>\n",
              "      <td>hey talk group taliban good purist gang one as...</td>\n",
              "      <td>1</td>\n",
              "      <td>0</td>\n",
              "      <td>0</td>\n",
              "      <td>0</td>\n",
              "      <td>0</td>\n",
              "      <td>0</td>\n",
              "      <td>1</td>\n",
              "      <td>17</td>\n",
              "    </tr>\n",
              "    <tr>\n",
              "      <th>2</th>\n",
              "      <td>bye look come think comming back tosser</td>\n",
              "      <td>1</td>\n",
              "      <td>0</td>\n",
              "      <td>0</td>\n",
              "      <td>0</td>\n",
              "      <td>0</td>\n",
              "      <td>0</td>\n",
              "      <td>1</td>\n",
              "      <td>7</td>\n",
              "    </tr>\n",
              "    <tr>\n",
              "      <th>3</th>\n",
              "      <td>point made sense argue include hindi ryo sakaz...</td>\n",
              "      <td>0</td>\n",
              "      <td>0</td>\n",
              "      <td>0</td>\n",
              "      <td>0</td>\n",
              "      <td>0</td>\n",
              "      <td>0</td>\n",
              "      <td>0</td>\n",
              "      <td>10</td>\n",
              "    </tr>\n",
              "    <tr>\n",
              "      <th>4</th>\n",
              "      <td>take bit work quite picture example base duck</td>\n",
              "      <td>0</td>\n",
              "      <td>0</td>\n",
              "      <td>0</td>\n",
              "      <td>0</td>\n",
              "      <td>0</td>\n",
              "      <td>0</td>\n",
              "      <td>0</td>\n",
              "      <td>8</td>\n",
              "    </tr>\n",
              "    <tr>\n",
              "      <th>...</th>\n",
              "      <td>...</td>\n",
              "      <td>...</td>\n",
              "      <td>...</td>\n",
              "      <td>...</td>\n",
              "      <td>...</td>\n",
              "      <td>...</td>\n",
              "      <td>...</td>\n",
              "      <td>...</td>\n",
              "      <td>...</td>\n",
              "    </tr>\n",
              "    <tr>\n",
              "      <th>36220</th>\n",
              "      <td>retiring since retiring looking life become ob...</td>\n",
              "      <td>0</td>\n",
              "      <td>0</td>\n",
              "      <td>0</td>\n",
              "      <td>0</td>\n",
              "      <td>0</td>\n",
              "      <td>0</td>\n",
              "      <td>0</td>\n",
              "      <td>36</td>\n",
              "    </tr>\n",
              "    <tr>\n",
              "      <th>36221</th>\n",
              "      <td>absurd edits absurd edits great white shark to...</td>\n",
              "      <td>1</td>\n",
              "      <td>0</td>\n",
              "      <td>1</td>\n",
              "      <td>0</td>\n",
              "      <td>1</td>\n",
              "      <td>0</td>\n",
              "      <td>3</td>\n",
              "      <td>24</td>\n",
              "    </tr>\n",
              "    <tr>\n",
              "      <th>36222</th>\n",
              "      <td>hey listen ever delete edits ever annoyed wwe ...</td>\n",
              "      <td>1</td>\n",
              "      <td>0</td>\n",
              "      <td>0</td>\n",
              "      <td>0</td>\n",
              "      <td>1</td>\n",
              "      <td>0</td>\n",
              "      <td>2</td>\n",
              "      <td>41</td>\n",
              "    </tr>\n",
              "    <tr>\n",
              "      <th>36223</th>\n",
              "      <td>going keep posting stuff deleted fucking site ...</td>\n",
              "      <td>1</td>\n",
              "      <td>0</td>\n",
              "      <td>1</td>\n",
              "      <td>0</td>\n",
              "      <td>1</td>\n",
              "      <td>0</td>\n",
              "      <td>3</td>\n",
              "      <td>20</td>\n",
              "    </tr>\n",
              "    <tr>\n",
              "      <th>36224</th>\n",
              "      <td>auto guide motoring press good source article ...</td>\n",
              "      <td>0</td>\n",
              "      <td>0</td>\n",
              "      <td>0</td>\n",
              "      <td>0</td>\n",
              "      <td>0</td>\n",
              "      <td>0</td>\n",
              "      <td>0</td>\n",
              "      <td>64</td>\n",
              "    </tr>\n",
              "  </tbody>\n",
              "</table>\n",
              "<p>36225 rows × 9 columns</p>\n",
              "</div>"
            ],
            "text/plain": [
              "                                            comment_text  ...  word_count\n",
              "0                                       piss around work  ...           3\n",
              "1      hey talk group taliban good purist gang one as...  ...          17\n",
              "2                bye look come think comming back tosser  ...           7\n",
              "3      point made sense argue include hindi ryo sakaz...  ...          10\n",
              "4          take bit work quite picture example base duck  ...           8\n",
              "...                                                  ...  ...         ...\n",
              "36220  retiring since retiring looking life become ob...  ...          36\n",
              "36221  absurd edits absurd edits great white shark to...  ...          24\n",
              "36222  hey listen ever delete edits ever annoyed wwe ...  ...          41\n",
              "36223  going keep posting stuff deleted fucking site ...  ...          20\n",
              "36224  auto guide motoring press good source article ...  ...          64\n",
              "\n",
              "[36225 rows x 9 columns]"
            ]
          },
          "metadata": {
            "tags": []
          },
          "execution_count": 46
        }
      ]
    },
    {
      "cell_type": "code",
      "metadata": {
        "id": "tCiJr4dMzw2w"
      },
      "source": [
        "clean_df['nothing_bad'] = 0"
      ],
      "execution_count": 47,
      "outputs": []
    },
    {
      "cell_type": "code",
      "metadata": {
        "id": "Y4zKVflu3NZp"
      },
      "source": [
        "clean_df['nothing_bad'] = clean_df.apply(lambda x: 1 if x.Number_of_categories == 0 else 0, axis=1)"
      ],
      "execution_count": 48,
      "outputs": []
    },
    {
      "cell_type": "markdown",
      "metadata": {
        "id": "MxLT6qEo8c6Y"
      },
      "source": [
        "Lets truncate/pad each sequence/comments to 300 words. This decision is made from two points:\n",
        "1.  Most of the sequences with words more than 600 have repititive words\n",
        "2. An assumption that commentator expresses his context (toxic, obscene etc) in the first 300 sentences."
      ]
    },
    {
      "cell_type": "code",
      "metadata": {
        "colab": {
          "base_uri": "https://localhost:8080/",
          "height": 351
        },
        "id": "Aaa6sNc6AqI0",
        "outputId": "63854095-267a-445e-a7ca-e2ae37a767d6"
      },
      "source": [
        "clean_df[clean_df.word_count<100][clean_df.Number_of_categories>1].describe()"
      ],
      "execution_count": 49,
      "outputs": [
        {
          "output_type": "stream",
          "text": [
            "/usr/local/lib/python3.7/dist-packages/ipykernel_launcher.py:1: UserWarning: Boolean Series key will be reindexed to match DataFrame index.\n",
            "  \"\"\"Entry point for launching an IPython kernel.\n"
          ],
          "name": "stderr"
        },
        {
          "output_type": "execute_result",
          "data": {
            "text/html": [
              "<div>\n",
              "<style scoped>\n",
              "    .dataframe tbody tr th:only-of-type {\n",
              "        vertical-align: middle;\n",
              "    }\n",
              "\n",
              "    .dataframe tbody tr th {\n",
              "        vertical-align: top;\n",
              "    }\n",
              "\n",
              "    .dataframe thead th {\n",
              "        text-align: right;\n",
              "    }\n",
              "</style>\n",
              "<table border=\"1\" class=\"dataframe\">\n",
              "  <thead>\n",
              "    <tr style=\"text-align: right;\">\n",
              "      <th></th>\n",
              "      <th>toxic</th>\n",
              "      <th>severe_toxic</th>\n",
              "      <th>obscene</th>\n",
              "      <th>threat</th>\n",
              "      <th>insult</th>\n",
              "      <th>identity_hate</th>\n",
              "      <th>Number_of_categories</th>\n",
              "      <th>word_count</th>\n",
              "      <th>nothing_bad</th>\n",
              "    </tr>\n",
              "  </thead>\n",
              "  <tbody>\n",
              "    <tr>\n",
              "      <th>count</th>\n",
              "      <td>9566.000000</td>\n",
              "      <td>9566.000000</td>\n",
              "      <td>9566.000000</td>\n",
              "      <td>9566.000000</td>\n",
              "      <td>9566.000000</td>\n",
              "      <td>9566.000000</td>\n",
              "      <td>9566.000000</td>\n",
              "      <td>9566.000000</td>\n",
              "      <td>9566.0</td>\n",
              "    </tr>\n",
              "    <tr>\n",
              "      <th>mean</th>\n",
              "      <td>0.976584</td>\n",
              "      <td>0.153878</td>\n",
              "      <td>0.823228</td>\n",
              "      <td>0.045996</td>\n",
              "      <td>0.768555</td>\n",
              "      <td>0.136630</td>\n",
              "      <td>2.904871</td>\n",
              "      <td>13.499477</td>\n",
              "      <td>0.0</td>\n",
              "    </tr>\n",
              "    <tr>\n",
              "      <th>std</th>\n",
              "      <td>0.151229</td>\n",
              "      <td>0.360851</td>\n",
              "      <td>0.381495</td>\n",
              "      <td>0.209488</td>\n",
              "      <td>0.421778</td>\n",
              "      <td>0.343474</td>\n",
              "      <td>0.837904</td>\n",
              "      <td>14.444390</td>\n",
              "      <td>0.0</td>\n",
              "    </tr>\n",
              "    <tr>\n",
              "      <th>min</th>\n",
              "      <td>0.000000</td>\n",
              "      <td>0.000000</td>\n",
              "      <td>0.000000</td>\n",
              "      <td>0.000000</td>\n",
              "      <td>0.000000</td>\n",
              "      <td>0.000000</td>\n",
              "      <td>2.000000</td>\n",
              "      <td>0.000000</td>\n",
              "      <td>0.0</td>\n",
              "    </tr>\n",
              "    <tr>\n",
              "      <th>25%</th>\n",
              "      <td>1.000000</td>\n",
              "      <td>0.000000</td>\n",
              "      <td>1.000000</td>\n",
              "      <td>0.000000</td>\n",
              "      <td>1.000000</td>\n",
              "      <td>0.000000</td>\n",
              "      <td>2.000000</td>\n",
              "      <td>4.000000</td>\n",
              "      <td>0.0</td>\n",
              "    </tr>\n",
              "    <tr>\n",
              "      <th>50%</th>\n",
              "      <td>1.000000</td>\n",
              "      <td>0.000000</td>\n",
              "      <td>1.000000</td>\n",
              "      <td>0.000000</td>\n",
              "      <td>1.000000</td>\n",
              "      <td>0.000000</td>\n",
              "      <td>3.000000</td>\n",
              "      <td>8.000000</td>\n",
              "      <td>0.0</td>\n",
              "    </tr>\n",
              "    <tr>\n",
              "      <th>75%</th>\n",
              "      <td>1.000000</td>\n",
              "      <td>0.000000</td>\n",
              "      <td>1.000000</td>\n",
              "      <td>0.000000</td>\n",
              "      <td>1.000000</td>\n",
              "      <td>0.000000</td>\n",
              "      <td>3.000000</td>\n",
              "      <td>17.000000</td>\n",
              "      <td>0.0</td>\n",
              "    </tr>\n",
              "    <tr>\n",
              "      <th>max</th>\n",
              "      <td>1.000000</td>\n",
              "      <td>1.000000</td>\n",
              "      <td>1.000000</td>\n",
              "      <td>1.000000</td>\n",
              "      <td>1.000000</td>\n",
              "      <td>1.000000</td>\n",
              "      <td>6.000000</td>\n",
              "      <td>98.000000</td>\n",
              "      <td>0.0</td>\n",
              "    </tr>\n",
              "  </tbody>\n",
              "</table>\n",
              "</div>"
            ],
            "text/plain": [
              "             toxic  severe_toxic  ...   word_count  nothing_bad\n",
              "count  9566.000000   9566.000000  ...  9566.000000       9566.0\n",
              "mean      0.976584      0.153878  ...    13.499477          0.0\n",
              "std       0.151229      0.360851  ...    14.444390          0.0\n",
              "min       0.000000      0.000000  ...     0.000000          0.0\n",
              "25%       1.000000      0.000000  ...     4.000000          0.0\n",
              "50%       1.000000      0.000000  ...     8.000000          0.0\n",
              "75%       1.000000      0.000000  ...    17.000000          0.0\n",
              "max       1.000000      1.000000  ...    98.000000          0.0\n",
              "\n",
              "[8 rows x 9 columns]"
            ]
          },
          "metadata": {
            "tags": []
          },
          "execution_count": 49
        }
      ]
    },
    {
      "cell_type": "code",
      "metadata": {
        "colab": {
          "base_uri": "https://localhost:8080/",
          "height": 342
        },
        "id": "JikR3JOUCNCY",
        "outputId": "d053ff5b-4d38-4d53-a44e-fc339b426a2f"
      },
      "source": [
        "\n",
        "sns.heatmap(clean_df[clean_df.word_count<100].iloc[:,1:7].corr(), annot = True)"
      ],
      "execution_count": 50,
      "outputs": [
        {
          "output_type": "execute_result",
          "data": {
            "text/plain": [
              "<matplotlib.axes._subplots.AxesSubplot at 0x7fdca8e2c810>"
            ]
          },
          "metadata": {
            "tags": []
          },
          "execution_count": 50
        },
        {
          "output_type": "display_data",
          "data": {
            "image/png": "[encoded data removed]",
            "text/plain": [
              "<Figure size 432x288 with 2 Axes>"
            ]
          },
          "metadata": {
            "tags": [],
            "needs_background": "light"
          }
        }
      ]
    },
    {
      "cell_type": "code",
      "metadata": {
        "colab": {
          "base_uri": "https://localhost:8080/",
          "height": 342
        },
        "id": "fj9uaImODD0f",
        "outputId": "f0d29975-4310-4bdf-d8f2-b986c798a0d7"
      },
      "source": [
        "\n",
        "sns.heatmap(clean_df.iloc[:,1:7].corr(), annot = True)"
      ],
      "execution_count": 51,
      "outputs": [
        {
          "output_type": "execute_result",
          "data": {
            "text/plain": [
              "<matplotlib.axes._subplots.AxesSubplot at 0x7fdca858f890>"
            ]
          },
          "metadata": {
            "tags": []
          },
          "execution_count": 51
        },
        {
          "output_type": "display_data",
          "data": {
            "image/png": "[encoded data removed]",
            "text/plain": [
              "<Figure size 432x288 with 2 Axes>"
            ]
          },
          "metadata": {
            "tags": [],
            "needs_background": "light"
          }
        }
      ]
    },
    {
      "cell_type": "markdown",
      "metadata": {
        "id": "V28q3VCfDZhm"
      },
      "source": [
        "Since the correlation between the texts does not have any significant change when we remove the comments that are longer than 100 words, lets use the comments shorter than 100 for now"
      ]
    },
    {
      "cell_type": "code",
      "metadata": {
        "id": "Oe3j9fY9HMxn"
      },
      "source": [
        "clean_df = clean_df[clean_df.word_count<100]"
      ],
      "execution_count": 52,
      "outputs": []
    },
    {
      "cell_type": "markdown",
      "metadata": {
        "id": "jrUi4ERIJQkO"
      },
      "source": [
        "#Saving files"
      ]
    },
    {
      "cell_type": "code",
      "metadata": {
        "id": "y91BcHFY3njt"
      },
      "source": [
        "x_train = clean_df['comment_text'].copy()"
      ],
      "execution_count": 53,
      "outputs": []
    },
    {
      "cell_type": "code",
      "metadata": {
        "id": "vP4NA2CO3wvD"
      },
      "source": [
        "y_train = clean_df.iloc[:,[1,2,3,4,5,6,9]]"
      ],
      "execution_count": 54,
      "outputs": []
    },
    {
      "cell_type": "code",
      "metadata": {
        "id": "bIp0FY0XziQt"
      },
      "source": [
        "pd.to_pickle(clean_df,\"/content/drive/MyDrive/Project-2021/Sikka_AI/Saved_files/records_20K.pkl\")\n",
        "pd.to_pickle(x_train,\"/content/drive/MyDrive/Project-2021/Sikka_AI/Saved_files/train.pkl\")\n",
        "pd.to_pickle(y_train,\"/content/drive/MyDrive/Project-2021/Sikka_AI/Saved_files/train_labels.pkl\")"
      ],
      "execution_count": 55,
      "outputs": []
    }
  ]
}