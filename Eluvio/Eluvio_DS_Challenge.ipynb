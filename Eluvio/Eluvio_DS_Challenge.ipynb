{
  "nbformat": 4,
  "nbformat_minor": 0,
  "metadata": {
    "colab": {
      "name": "Eluvio DS Challenge.ipynb",
      "provenance": [],
      "collapsed_sections": [
        "sXcV9F4MzQSE",
        "g-udumol74PP"
      ],
      "mount_file_id": "1a6OpM707HWVEGiIJWAXTR874yegpXkvY",
      "authorship_tag": "ABX9TyOfZCDYsTJIrOr2BL5cijp1",
      "include_colab_link": true
    },
    "kernelspec": {
      "name": "python3",
      "display_name": "Python 3"
    },
    "language_info": {
      "name": "python"
    }
  },
  "cells": [
    {
      "cell_type": "markdown",
      "metadata": {
        "id": "view-in-github",
        "colab_type": "text"
      },
      "source": [
        "<a href=\"https://colab.research.google.com/github/achyutak/Project-2021/blob/main/Eluvio/Eluvio_DS_Challenge.ipynb\" target=\"_parent\"><img src=\"https://colab.research.google.com/assets/colab-badge.svg\" alt=\"Open In Colab\"/></a>"
      ]
    },
    {
      "cell_type": "code",
      "metadata": {
        "id": "nfxEgEetLuqV"
      },
      "source": [
        "import pandas as pd\n",
        "import datetime\n",
        "import matplotlib.pyplot as plt\n",
        "import numpy as np\n",
        "import time\n",
        "%matplotlib inline"
      ],
      "execution_count": null,
      "outputs": []
    },
    {
      "cell_type": "code",
      "metadata": {
        "id": "Tsxp3-X3OOKL"
      },
      "source": [
        "data = pd.read_csv('/content/drive/MyDrive/Eluvio_DS_Challenge.csv')"
      ],
      "execution_count": null,
      "outputs": []
    },
    {
      "cell_type": "code",
      "metadata": {
        "id": "HB6DJ8WpxD-1"
      },
      "source": [
        "raw = data.copy()"
      ],
      "execution_count": null,
      "outputs": []
    },
    {
      "cell_type": "code",
      "metadata": {
        "id": "LEtv82DyBn8X"
      },
      "source": [
        "labels=['Monday', 'Tuesday', 'Wednesday', 'Thursday', 'Friday', 'Saturday','Sunday']"
      ],
      "execution_count": null,
      "outputs": []
    },
    {
      "cell_type": "markdown",
      "metadata": {
        "id": "sXcV9F4MzQSE"
      },
      "source": [
        "#Analyzing the imported data"
      ]
    },
    {
      "cell_type": "code",
      "metadata": {
        "colab": {
          "base_uri": "https://localhost:8080/"
        },
        "id": "4W696R6MOe6x",
        "outputId": "a69243c5-cca7-4b1c-b2f7-1212d499e1e7"
      },
      "source": [
        "raw.info()"
      ],
      "execution_count": null,
      "outputs": [
        {
          "output_type": "stream",
          "text": [
            "<class 'pandas.core.frame.DataFrame'>\n",
            "RangeIndex: 509236 entries, 0 to 509235\n",
            "Data columns (total 8 columns):\n",
            " #   Column        Non-Null Count   Dtype \n",
            "---  ------        --------------   ----- \n",
            " 0   time_created  509236 non-null  int64 \n",
            " 1   date_created  509236 non-null  object\n",
            " 2   up_votes      509236 non-null  int64 \n",
            " 3   down_votes    509236 non-null  int64 \n",
            " 4   title         509236 non-null  object\n",
            " 5   over_18       509236 non-null  bool  \n",
            " 6   author        509236 non-null  object\n",
            " 7   category      509236 non-null  object\n",
            "dtypes: bool(1), int64(3), object(4)\n",
            "memory usage: 27.7+ MB\n"
          ],
          "name": "stdout"
        }
      ]
    },
    {
      "cell_type": "code",
      "metadata": {
        "colab": {
          "base_uri": "https://localhost:8080/",
          "height": 297
        },
        "id": "xZFthUT0OvhP",
        "outputId": "191ab966-e5a9-4ccf-bae0-6ad3a68b96b9"
      },
      "source": [
        "raw.describe()"
      ],
      "execution_count": null,
      "outputs": [
        {
          "output_type": "execute_result",
          "data": {
            "text/html": [
              "<div>\n",
              "<style scoped>\n",
              "    .dataframe tbody tr th:only-of-type {\n",
              "        vertical-align: middle;\n",
              "    }\n",
              "\n",
              "    .dataframe tbody tr th {\n",
              "        vertical-align: top;\n",
              "    }\n",
              "\n",
              "    .dataframe thead th {\n",
              "        text-align: right;\n",
              "    }\n",
              "</style>\n",
              "<table border=\"1\" class=\"dataframe\">\n",
              "  <thead>\n",
              "    <tr style=\"text-align: right;\">\n",
              "      <th></th>\n",
              "      <th>time_created</th>\n",
              "      <th>up_votes</th>\n",
              "      <th>down_votes</th>\n",
              "    </tr>\n",
              "  </thead>\n",
              "  <tbody>\n",
              "    <tr>\n",
              "      <th>count</th>\n",
              "      <td>5.092360e+05</td>\n",
              "      <td>509236.000000</td>\n",
              "      <td>509236.0</td>\n",
              "    </tr>\n",
              "    <tr>\n",
              "      <th>mean</th>\n",
              "      <td>1.380240e+09</td>\n",
              "      <td>112.236283</td>\n",
              "      <td>0.0</td>\n",
              "    </tr>\n",
              "    <tr>\n",
              "      <th>std</th>\n",
              "      <td>7.090436e+07</td>\n",
              "      <td>541.694675</td>\n",
              "      <td>0.0</td>\n",
              "    </tr>\n",
              "    <tr>\n",
              "      <th>min</th>\n",
              "      <td>1.201232e+09</td>\n",
              "      <td>0.000000</td>\n",
              "      <td>0.0</td>\n",
              "    </tr>\n",
              "    <tr>\n",
              "      <th>25%</th>\n",
              "      <td>1.341585e+09</td>\n",
              "      <td>1.000000</td>\n",
              "      <td>0.0</td>\n",
              "    </tr>\n",
              "    <tr>\n",
              "      <th>50%</th>\n",
              "      <td>1.392909e+09</td>\n",
              "      <td>5.000000</td>\n",
              "      <td>0.0</td>\n",
              "    </tr>\n",
              "    <tr>\n",
              "      <th>75%</th>\n",
              "      <td>1.436527e+09</td>\n",
              "      <td>16.000000</td>\n",
              "      <td>0.0</td>\n",
              "    </tr>\n",
              "    <tr>\n",
              "      <th>max</th>\n",
              "      <td>1.479817e+09</td>\n",
              "      <td>21253.000000</td>\n",
              "      <td>0.0</td>\n",
              "    </tr>\n",
              "  </tbody>\n",
              "</table>\n",
              "</div>"
            ],
            "text/plain": [
              "       time_created       up_votes  down_votes\n",
              "count  5.092360e+05  509236.000000    509236.0\n",
              "mean   1.380240e+09     112.236283         0.0\n",
              "std    7.090436e+07     541.694675         0.0\n",
              "min    1.201232e+09       0.000000         0.0\n",
              "25%    1.341585e+09       1.000000         0.0\n",
              "50%    1.392909e+09       5.000000         0.0\n",
              "75%    1.436527e+09      16.000000         0.0\n",
              "max    1.479817e+09   21253.000000         0.0"
            ]
          },
          "metadata": {
            "tags": []
          },
          "execution_count": 7
        }
      ]
    },
    {
      "cell_type": "code",
      "metadata": {
        "colab": {
          "base_uri": "https://localhost:8080/",
          "height": 359
        },
        "id": "yYiFPAxrPvq_",
        "outputId": "7e5174a1-bac4-46f4-b3cc-cedacbd8fefe"
      },
      "source": [
        "raw.head(10)"
      ],
      "execution_count": null,
      "outputs": [
        {
          "output_type": "execute_result",
          "data": {
            "text/html": [
              "<div>\n",
              "<style scoped>\n",
              "    .dataframe tbody tr th:only-of-type {\n",
              "        vertical-align: middle;\n",
              "    }\n",
              "\n",
              "    .dataframe tbody tr th {\n",
              "        vertical-align: top;\n",
              "    }\n",
              "\n",
              "    .dataframe thead th {\n",
              "        text-align: right;\n",
              "    }\n",
              "</style>\n",
              "<table border=\"1\" class=\"dataframe\">\n",
              "  <thead>\n",
              "    <tr style=\"text-align: right;\">\n",
              "      <th></th>\n",
              "      <th>time_created</th>\n",
              "      <th>date_created</th>\n",
              "      <th>up_votes</th>\n",
              "      <th>down_votes</th>\n",
              "      <th>title</th>\n",
              "      <th>over_18</th>\n",
              "      <th>author</th>\n",
              "      <th>category</th>\n",
              "    </tr>\n",
              "  </thead>\n",
              "  <tbody>\n",
              "    <tr>\n",
              "      <th>0</th>\n",
              "      <td>1201232046</td>\n",
              "      <td>2008-01-25</td>\n",
              "      <td>3</td>\n",
              "      <td>0</td>\n",
              "      <td>Scores killed in Pakistan clashes</td>\n",
              "      <td>False</td>\n",
              "      <td>polar</td>\n",
              "      <td>worldnews</td>\n",
              "    </tr>\n",
              "    <tr>\n",
              "      <th>1</th>\n",
              "      <td>1201232075</td>\n",
              "      <td>2008-01-25</td>\n",
              "      <td>2</td>\n",
              "      <td>0</td>\n",
              "      <td>Japan resumes refuelling mission</td>\n",
              "      <td>False</td>\n",
              "      <td>polar</td>\n",
              "      <td>worldnews</td>\n",
              "    </tr>\n",
              "    <tr>\n",
              "      <th>2</th>\n",
              "      <td>1201232523</td>\n",
              "      <td>2008-01-25</td>\n",
              "      <td>3</td>\n",
              "      <td>0</td>\n",
              "      <td>US presses Egypt on Gaza border</td>\n",
              "      <td>False</td>\n",
              "      <td>polar</td>\n",
              "      <td>worldnews</td>\n",
              "    </tr>\n",
              "    <tr>\n",
              "      <th>3</th>\n",
              "      <td>1201233290</td>\n",
              "      <td>2008-01-25</td>\n",
              "      <td>1</td>\n",
              "      <td>0</td>\n",
              "      <td>Jump-start economy: Give health care to all</td>\n",
              "      <td>False</td>\n",
              "      <td>fadi420</td>\n",
              "      <td>worldnews</td>\n",
              "    </tr>\n",
              "    <tr>\n",
              "      <th>4</th>\n",
              "      <td>1201274720</td>\n",
              "      <td>2008-01-25</td>\n",
              "      <td>4</td>\n",
              "      <td>0</td>\n",
              "      <td>Council of Europe bashes EU&amp;UN terror blacklist</td>\n",
              "      <td>False</td>\n",
              "      <td>mhermans</td>\n",
              "      <td>worldnews</td>\n",
              "    </tr>\n",
              "    <tr>\n",
              "      <th>5</th>\n",
              "      <td>1201287889</td>\n",
              "      <td>2008-01-25</td>\n",
              "      <td>15</td>\n",
              "      <td>0</td>\n",
              "      <td>Hay presto! Farmer unveils the  illegal  mock-...</td>\n",
              "      <td>False</td>\n",
              "      <td>Armagedonovich</td>\n",
              "      <td>worldnews</td>\n",
              "    </tr>\n",
              "    <tr>\n",
              "      <th>6</th>\n",
              "      <td>1201289438</td>\n",
              "      <td>2008-01-25</td>\n",
              "      <td>5</td>\n",
              "      <td>0</td>\n",
              "      <td>Strikes, Protests and Gridlock at the Poland-U...</td>\n",
              "      <td>False</td>\n",
              "      <td>Clythos</td>\n",
              "      <td>worldnews</td>\n",
              "    </tr>\n",
              "    <tr>\n",
              "      <th>7</th>\n",
              "      <td>1201536662</td>\n",
              "      <td>2008-01-28</td>\n",
              "      <td>0</td>\n",
              "      <td>0</td>\n",
              "      <td>The U.N. Mismanagement Program</td>\n",
              "      <td>False</td>\n",
              "      <td>Moldavite</td>\n",
              "      <td>worldnews</td>\n",
              "    </tr>\n",
              "    <tr>\n",
              "      <th>8</th>\n",
              "      <td>1201558396</td>\n",
              "      <td>2008-01-28</td>\n",
              "      <td>4</td>\n",
              "      <td>0</td>\n",
              "      <td>Nicolas Sarkozy threatens to sue Ryanair</td>\n",
              "      <td>False</td>\n",
              "      <td>Moldavite</td>\n",
              "      <td>worldnews</td>\n",
              "    </tr>\n",
              "    <tr>\n",
              "      <th>9</th>\n",
              "      <td>1201635869</td>\n",
              "      <td>2008-01-29</td>\n",
              "      <td>3</td>\n",
              "      <td>0</td>\n",
              "      <td>US plans for missile shields in Polish town me...</td>\n",
              "      <td>False</td>\n",
              "      <td>JoeyRamone63</td>\n",
              "      <td>worldnews</td>\n",
              "    </tr>\n",
              "  </tbody>\n",
              "</table>\n",
              "</div>"
            ],
            "text/plain": [
              "   time_created date_created  up_votes  ...  over_18          author   category\n",
              "0    1201232046   2008-01-25         3  ...    False           polar  worldnews\n",
              "1    1201232075   2008-01-25         2  ...    False           polar  worldnews\n",
              "2    1201232523   2008-01-25         3  ...    False           polar  worldnews\n",
              "3    1201233290   2008-01-25         1  ...    False         fadi420  worldnews\n",
              "4    1201274720   2008-01-25         4  ...    False        mhermans  worldnews\n",
              "5    1201287889   2008-01-25        15  ...    False  Armagedonovich  worldnews\n",
              "6    1201289438   2008-01-25         5  ...    False         Clythos  worldnews\n",
              "7    1201536662   2008-01-28         0  ...    False       Moldavite  worldnews\n",
              "8    1201558396   2008-01-28         4  ...    False       Moldavite  worldnews\n",
              "9    1201635869   2008-01-29         3  ...    False    JoeyRamone63  worldnews\n",
              "\n",
              "[10 rows x 8 columns]"
            ]
          },
          "metadata": {
            "tags": []
          },
          "execution_count": 40
        }
      ]
    },
    {
      "cell_type": "code",
      "metadata": {
        "colab": {
          "base_uri": "https://localhost:8080/",
          "height": 450
        },
        "id": "RbRas4L_v9hK",
        "outputId": "552b73d3-2bf2-4e11-e0e5-51e68523b49a"
      },
      "source": [
        "raw.groupby(by='date_created').up_votes.sum().to_frame()"
      ],
      "execution_count": null,
      "outputs": [
        {
          "output_type": "execute_result",
          "data": {
            "text/html": [
              "<div>\n",
              "<style scoped>\n",
              "    .dataframe tbody tr th:only-of-type {\n",
              "        vertical-align: middle;\n",
              "    }\n",
              "\n",
              "    .dataframe tbody tr th {\n",
              "        vertical-align: top;\n",
              "    }\n",
              "\n",
              "    .dataframe thead th {\n",
              "        text-align: right;\n",
              "    }\n",
              "</style>\n",
              "<table border=\"1\" class=\"dataframe\">\n",
              "  <thead>\n",
              "    <tr style=\"text-align: right;\">\n",
              "      <th></th>\n",
              "      <th>up_votes</th>\n",
              "    </tr>\n",
              "    <tr>\n",
              "      <th>date_created</th>\n",
              "      <th></th>\n",
              "    </tr>\n",
              "  </thead>\n",
              "  <tbody>\n",
              "    <tr>\n",
              "      <th>2008-01-25</th>\n",
              "      <td>33</td>\n",
              "    </tr>\n",
              "    <tr>\n",
              "      <th>2008-01-28</th>\n",
              "      <td>4</td>\n",
              "    </tr>\n",
              "    <tr>\n",
              "      <th>2008-01-29</th>\n",
              "      <td>3</td>\n",
              "    </tr>\n",
              "    <tr>\n",
              "      <th>2008-01-30</th>\n",
              "      <td>14</td>\n",
              "    </tr>\n",
              "    <tr>\n",
              "      <th>2008-01-31</th>\n",
              "      <td>16</td>\n",
              "    </tr>\n",
              "    <tr>\n",
              "      <th>...</th>\n",
              "      <td>...</td>\n",
              "    </tr>\n",
              "    <tr>\n",
              "      <th>2016-11-18</th>\n",
              "      <td>46260</td>\n",
              "    </tr>\n",
              "    <tr>\n",
              "      <th>2016-11-19</th>\n",
              "      <td>48631</td>\n",
              "    </tr>\n",
              "    <tr>\n",
              "      <th>2016-11-20</th>\n",
              "      <td>41853</td>\n",
              "    </tr>\n",
              "    <tr>\n",
              "      <th>2016-11-21</th>\n",
              "      <td>42965</td>\n",
              "    </tr>\n",
              "    <tr>\n",
              "      <th>2016-11-22</th>\n",
              "      <td>7896</td>\n",
              "    </tr>\n",
              "  </tbody>\n",
              "</table>\n",
              "<p>3223 rows × 1 columns</p>\n",
              "</div>"
            ],
            "text/plain": [
              "              up_votes\n",
              "date_created          \n",
              "2008-01-25          33\n",
              "2008-01-28           4\n",
              "2008-01-29           3\n",
              "2008-01-30          14\n",
              "2008-01-31          16\n",
              "...                ...\n",
              "2016-11-18       46260\n",
              "2016-11-19       48631\n",
              "2016-11-20       41853\n",
              "2016-11-21       42965\n",
              "2016-11-22        7896\n",
              "\n",
              "[3223 rows x 1 columns]"
            ]
          },
          "metadata": {
            "tags": []
          },
          "execution_count": 76
        }
      ]
    },
    {
      "cell_type": "markdown",
      "metadata": {
        "id": "Xg2-bsyJwFWt"
      },
      "source": [
        "Since there are 3225 days between 01-25-2008 and 11-22-2016, and the dataset only has 3223 dates, the datasets is missing records from two days. If we observe the dataframe in the previous cell, we can observe that the missing days are 01-26-2008 and 01-27-2008. So, lets remove the top 7 records and start our dataset with 01-28-2008 for the purpose of time series analysis."
      ]
    },
    {
      "cell_type": "code",
      "metadata": {
        "id": "B6O6O2NCtRKh"
      },
      "source": [
        "raw = raw.drop(index=np.arange(7)).reset_index().drop(columns='index')"
      ],
      "execution_count": null,
      "outputs": []
    },
    {
      "cell_type": "code",
      "metadata": {
        "colab": {
          "base_uri": "https://localhost:8080/",
          "height": 419
        },
        "id": "blAtvQWDuWQc",
        "outputId": "42049a96-57eb-4d71-8ded-fc9577bb71df"
      },
      "source": [
        "raw"
      ],
      "execution_count": null,
      "outputs": [
        {
          "output_type": "execute_result",
          "data": {
            "text/html": [
              "<div>\n",
              "<style scoped>\n",
              "    .dataframe tbody tr th:only-of-type {\n",
              "        vertical-align: middle;\n",
              "    }\n",
              "\n",
              "    .dataframe tbody tr th {\n",
              "        vertical-align: top;\n",
              "    }\n",
              "\n",
              "    .dataframe thead th {\n",
              "        text-align: right;\n",
              "    }\n",
              "</style>\n",
              "<table border=\"1\" class=\"dataframe\">\n",
              "  <thead>\n",
              "    <tr style=\"text-align: right;\">\n",
              "      <th></th>\n",
              "      <th>time_created</th>\n",
              "      <th>date_created</th>\n",
              "      <th>up_votes</th>\n",
              "      <th>down_votes</th>\n",
              "      <th>title</th>\n",
              "      <th>over_18</th>\n",
              "      <th>author</th>\n",
              "      <th>category</th>\n",
              "    </tr>\n",
              "  </thead>\n",
              "  <tbody>\n",
              "    <tr>\n",
              "      <th>0</th>\n",
              "      <td>1201536662</td>\n",
              "      <td>2008-01-28</td>\n",
              "      <td>0</td>\n",
              "      <td>0</td>\n",
              "      <td>The U.N. Mismanagement Program</td>\n",
              "      <td>False</td>\n",
              "      <td>Moldavite</td>\n",
              "      <td>worldnews</td>\n",
              "    </tr>\n",
              "    <tr>\n",
              "      <th>1</th>\n",
              "      <td>1201558396</td>\n",
              "      <td>2008-01-28</td>\n",
              "      <td>4</td>\n",
              "      <td>0</td>\n",
              "      <td>Nicolas Sarkozy threatens to sue Ryanair</td>\n",
              "      <td>False</td>\n",
              "      <td>Moldavite</td>\n",
              "      <td>worldnews</td>\n",
              "    </tr>\n",
              "    <tr>\n",
              "      <th>2</th>\n",
              "      <td>1201635869</td>\n",
              "      <td>2008-01-29</td>\n",
              "      <td>3</td>\n",
              "      <td>0</td>\n",
              "      <td>US plans for missile shields in Polish town me...</td>\n",
              "      <td>False</td>\n",
              "      <td>JoeyRamone63</td>\n",
              "      <td>worldnews</td>\n",
              "    </tr>\n",
              "    <tr>\n",
              "      <th>3</th>\n",
              "      <td>1201701773</td>\n",
              "      <td>2008-01-30</td>\n",
              "      <td>4</td>\n",
              "      <td>0</td>\n",
              "      <td>Archbishop of Canterbury calls for new law to ...</td>\n",
              "      <td>False</td>\n",
              "      <td>bgholt1970</td>\n",
              "      <td>worldnews</td>\n",
              "    </tr>\n",
              "    <tr>\n",
              "      <th>4</th>\n",
              "      <td>1201719875</td>\n",
              "      <td>2008-01-30</td>\n",
              "      <td>9</td>\n",
              "      <td>0</td>\n",
              "      <td>Top US Envoy: Violence In Kenya Is  Ethnic Cle...</td>\n",
              "      <td>False</td>\n",
              "      <td>smacfarl</td>\n",
              "      <td>worldnews</td>\n",
              "    </tr>\n",
              "    <tr>\n",
              "      <th>...</th>\n",
              "      <td>...</td>\n",
              "      <td>...</td>\n",
              "      <td>...</td>\n",
              "      <td>...</td>\n",
              "      <td>...</td>\n",
              "      <td>...</td>\n",
              "      <td>...</td>\n",
              "      <td>...</td>\n",
              "    </tr>\n",
              "    <tr>\n",
              "      <th>509224</th>\n",
              "      <td>1479816764</td>\n",
              "      <td>2016-11-22</td>\n",
              "      <td>5</td>\n",
              "      <td>0</td>\n",
              "      <td>Heil Trump : Donald Trump s  alt-right  white...</td>\n",
              "      <td>False</td>\n",
              "      <td>nonamenoglory</td>\n",
              "      <td>worldnews</td>\n",
              "    </tr>\n",
              "    <tr>\n",
              "      <th>509225</th>\n",
              "      <td>1479816772</td>\n",
              "      <td>2016-11-22</td>\n",
              "      <td>1</td>\n",
              "      <td>0</td>\n",
              "      <td>There are people speculating that this could b...</td>\n",
              "      <td>False</td>\n",
              "      <td>SummerRay</td>\n",
              "      <td>worldnews</td>\n",
              "    </tr>\n",
              "    <tr>\n",
              "      <th>509226</th>\n",
              "      <td>1479817056</td>\n",
              "      <td>2016-11-22</td>\n",
              "      <td>1</td>\n",
              "      <td>0</td>\n",
              "      <td>Professor receives Arab Researchers Award</td>\n",
              "      <td>False</td>\n",
              "      <td>AUSharjah</td>\n",
              "      <td>worldnews</td>\n",
              "    </tr>\n",
              "    <tr>\n",
              "      <th>509227</th>\n",
              "      <td>1479817157</td>\n",
              "      <td>2016-11-22</td>\n",
              "      <td>1</td>\n",
              "      <td>0</td>\n",
              "      <td>Nigel Farage attacks response to Trump ambassa...</td>\n",
              "      <td>False</td>\n",
              "      <td>smilyflower</td>\n",
              "      <td>worldnews</td>\n",
              "    </tr>\n",
              "    <tr>\n",
              "      <th>509228</th>\n",
              "      <td>1479817346</td>\n",
              "      <td>2016-11-22</td>\n",
              "      <td>1</td>\n",
              "      <td>0</td>\n",
              "      <td>Palestinian wielding knife shot dead in West B...</td>\n",
              "      <td>False</td>\n",
              "      <td>superislam</td>\n",
              "      <td>worldnews</td>\n",
              "    </tr>\n",
              "  </tbody>\n",
              "</table>\n",
              "<p>509229 rows × 8 columns</p>\n",
              "</div>"
            ],
            "text/plain": [
              "        time_created date_created  up_votes  ...  over_18         author   category\n",
              "0         1201536662   2008-01-28         0  ...    False      Moldavite  worldnews\n",
              "1         1201558396   2008-01-28         4  ...    False      Moldavite  worldnews\n",
              "2         1201635869   2008-01-29         3  ...    False   JoeyRamone63  worldnews\n",
              "3         1201701773   2008-01-30         4  ...    False     bgholt1970  worldnews\n",
              "4         1201719875   2008-01-30         9  ...    False       smacfarl  worldnews\n",
              "...              ...          ...       ...  ...      ...            ...        ...\n",
              "509224    1479816764   2016-11-22         5  ...    False  nonamenoglory  worldnews\n",
              "509225    1479816772   2016-11-22         1  ...    False      SummerRay  worldnews\n",
              "509226    1479817056   2016-11-22         1  ...    False      AUSharjah  worldnews\n",
              "509227    1479817157   2016-11-22         1  ...    False    smilyflower  worldnews\n",
              "509228    1479817346   2016-11-22         1  ...    False     superislam  worldnews\n",
              "\n",
              "[509229 rows x 8 columns]"
            ]
          },
          "metadata": {
            "tags": []
          },
          "execution_count": 80
        }
      ]
    },
    {
      "cell_type": "code",
      "metadata": {
        "colab": {
          "base_uri": "https://localhost:8080/"
        },
        "id": "aHzFVL2VP6bS",
        "outputId": "73a0bda6-844a-4aff-f321-e94f00ae9a9f"
      },
      "source": [
        "raw.up_votes.describe()"
      ],
      "execution_count": null,
      "outputs": [
        {
          "output_type": "execute_result",
          "data": {
            "text/plain": [
              "count    509236.000000\n",
              "mean        112.236283\n",
              "std         541.694675\n",
              "min           0.000000\n",
              "25%           1.000000\n",
              "50%           5.000000\n",
              "75%          16.000000\n",
              "max       21253.000000\n",
              "Name: up_votes, dtype: float64"
            ]
          },
          "metadata": {
            "tags": []
          },
          "execution_count": 10
        }
      ]
    },
    {
      "cell_type": "code",
      "metadata": {
        "colab": {
          "base_uri": "https://localhost:8080/"
        },
        "id": "evQa3eg4BNvc",
        "outputId": "b3dd6b82-bbe2-42a8-df19-18f33eb75cb4"
      },
      "source": [
        "raw.down_votes.describe()"
      ],
      "execution_count": null,
      "outputs": [
        {
          "output_type": "execute_result",
          "data": {
            "text/plain": [
              "count    509236.0\n",
              "mean          0.0\n",
              "std           0.0\n",
              "min           0.0\n",
              "25%           0.0\n",
              "50%           0.0\n",
              "75%           0.0\n",
              "max           0.0\n",
              "Name: down_votes, dtype: float64"
            ]
          },
          "metadata": {
            "tags": []
          },
          "execution_count": 24
        }
      ]
    },
    {
      "cell_type": "markdown",
      "metadata": {
        "id": "g1lV46NHBWx7"
      },
      "source": [
        "The down_votes feature doesn't contribute to the knowledge about the dataset as it has only one value '0'\n"
      ]
    },
    {
      "cell_type": "code",
      "metadata": {
        "colab": {
          "base_uri": "https://localhost:8080/"
        },
        "id": "DdAAUe_FQWfT",
        "outputId": "4698d34c-e2a6-41eb-d5f2-52f7cc10d4d1"
      },
      "source": [
        "raw.category.describe()"
      ],
      "execution_count": null,
      "outputs": [
        {
          "output_type": "execute_result",
          "data": {
            "text/plain": [
              "count        509236\n",
              "unique            1\n",
              "top       worldnews\n",
              "freq         509236\n",
              "Name: category, dtype: object"
            ]
          },
          "metadata": {
            "tags": []
          },
          "execution_count": 22
        }
      ]
    },
    {
      "cell_type": "markdown",
      "metadata": {
        "id": "Bs_pwrpYzkeT"
      },
      "source": [
        "The category feature has only one value 'worldnews'. So, it doesn't contribute to any knowledge about the dataset."
      ]
    },
    {
      "cell_type": "code",
      "metadata": {
        "colab": {
          "base_uri": "https://localhost:8080/"
        },
        "id": "obDiIzYDQv6k",
        "outputId": "91154450-ed37-4500-a4c1-af302aff7cec"
      },
      "source": [
        "raw.over_18.unique()"
      ],
      "execution_count": null,
      "outputs": [
        {
          "output_type": "execute_result",
          "data": {
            "text/plain": [
              "array([False,  True])"
            ]
          },
          "metadata": {
            "tags": []
          },
          "execution_count": 15
        }
      ]
    },
    {
      "cell_type": "code",
      "metadata": {
        "colab": {
          "base_uri": "https://localhost:8080/"
        },
        "id": "wmO1jM1M1Bzr",
        "outputId": "c362de06-94af-48ae-d33e-3aeeb4d130c8"
      },
      "source": [
        "raw.over_18.describe()"
      ],
      "execution_count": null,
      "outputs": [
        {
          "output_type": "execute_result",
          "data": {
            "text/plain": [
              "count     509236\n",
              "unique         2\n",
              "top        False\n",
              "freq      508916\n",
              "Name: over_18, dtype: object"
            ]
          },
          "metadata": {
            "tags": []
          },
          "execution_count": 6
        }
      ]
    },
    {
      "cell_type": "code",
      "metadata": {
        "colab": {
          "base_uri": "https://localhost:8080/"
        },
        "id": "uVb50JRa1UW6",
        "outputId": "a6c4bd5d-e3ee-4ba2-ded3-dd67121502f2"
      },
      "source": [
        "raw.groupby(by='over_18').up_votes.sum()"
      ],
      "execution_count": null,
      "outputs": [
        {
          "output_type": "execute_result",
          "data": {
            "text/plain": [
              "over_18\n",
              "False    57033036\n",
              "True       121720\n",
              "Name: up_votes, dtype: int64"
            ]
          },
          "metadata": {
            "tags": []
          },
          "execution_count": 12
        }
      ]
    },
    {
      "cell_type": "code",
      "metadata": {
        "colab": {
          "base_uri": "https://localhost:8080/"
        },
        "id": "iDMTMCC316ED",
        "outputId": "b84c665f-8d92-488e-b65e-d51e0ecade56"
      },
      "source": [
        "raw.groupby(by='over_18').up_votes.count()"
      ],
      "execution_count": null,
      "outputs": [
        {
          "output_type": "execute_result",
          "data": {
            "text/plain": [
              "over_18\n",
              "False    508916\n",
              "True        320\n",
              "Name: up_votes, dtype: int64"
            ]
          },
          "metadata": {
            "tags": []
          },
          "execution_count": 19
        }
      ]
    },
    {
      "cell_type": "code",
      "metadata": {
        "colab": {
          "base_uri": "https://localhost:8080/"
        },
        "id": "Fljyw4qH2ESw",
        "outputId": "44d2b4e6-59e1-450d-ffce-5246e932dc3e"
      },
      "source": [
        "print('Average upvotes for over18 posts is {} whereas the average upvotes for under18 posts is {}'.format(121720/320,57033036/508916))"
      ],
      "execution_count": null,
      "outputs": [
        {
          "output_type": "stream",
          "text": [
            "Average upvotes for over18 posts is 380.375 whereas the average upvotes for under18 posts is 112.06768111043866\n"
          ],
          "name": "stdout"
        }
      ]
    },
    {
      "cell_type": "markdown",
      "metadata": {
        "id": "CZx4Bx8QBwzk"
      },
      "source": [
        "This means that the NSFW posts attract more interaction on the website than the non-NSFW posts."
      ]
    },
    {
      "cell_type": "code",
      "metadata": {
        "colab": {
          "base_uri": "https://localhost:8080/"
        },
        "id": "N7usJZqLQ5cz",
        "outputId": "68dddd3a-78ac-4a11-b922-3249cbe5ece6"
      },
      "source": [
        "raw.author.describe()"
      ],
      "execution_count": null,
      "outputs": [
        {
          "output_type": "execute_result",
          "data": {
            "text/plain": [
              "count            509236\n",
              "unique            85838\n",
              "top       davidreiss666\n",
              "freq               8897\n",
              "Name: author, dtype: object"
            ]
          },
          "metadata": {
            "tags": []
          },
          "execution_count": 20
        }
      ]
    },
    {
      "cell_type": "code",
      "metadata": {
        "id": "pFlK8RbjTDmk"
      },
      "source": [
        "Authors_and_upvotes = raw.groupby(by='author',as_index=False).up_votes.sum()"
      ],
      "execution_count": null,
      "outputs": []
    },
    {
      "cell_type": "code",
      "metadata": {
        "colab": {
          "base_uri": "https://localhost:8080/",
          "height": 204
        },
        "id": "vyOZWHbmDcRK",
        "outputId": "b55b1f5a-9e96-422b-8966-933c610c8e87"
      },
      "source": [
        "Authors_and_upvotes.head()"
      ],
      "execution_count": null,
      "outputs": [
        {
          "output_type": "execute_result",
          "data": {
            "text/html": [
              "<div>\n",
              "<style scoped>\n",
              "    .dataframe tbody tr th:only-of-type {\n",
              "        vertical-align: middle;\n",
              "    }\n",
              "\n",
              "    .dataframe tbody tr th {\n",
              "        vertical-align: top;\n",
              "    }\n",
              "\n",
              "    .dataframe thead th {\n",
              "        text-align: right;\n",
              "    }\n",
              "</style>\n",
              "<table border=\"1\" class=\"dataframe\">\n",
              "  <thead>\n",
              "    <tr style=\"text-align: right;\">\n",
              "      <th></th>\n",
              "      <th>author</th>\n",
              "      <th>up_votes</th>\n",
              "    </tr>\n",
              "  </thead>\n",
              "  <tbody>\n",
              "    <tr>\n",
              "      <th>0</th>\n",
              "      <td>---SB</td>\n",
              "      <td>1</td>\n",
              "    </tr>\n",
              "    <tr>\n",
              "      <th>1</th>\n",
              "      <td>---annon---</td>\n",
              "      <td>0</td>\n",
              "    </tr>\n",
              "    <tr>\n",
              "      <th>2</th>\n",
              "      <td>---sniff---</td>\n",
              "      <td>102</td>\n",
              "    </tr>\n",
              "    <tr>\n",
              "      <th>3</th>\n",
              "      <td>--Chocobo</td>\n",
              "      <td>5</td>\n",
              "    </tr>\n",
              "    <tr>\n",
              "      <th>4</th>\n",
              "      <td>--Danger--</td>\n",
              "      <td>10</td>\n",
              "    </tr>\n",
              "  </tbody>\n",
              "</table>\n",
              "</div>"
            ],
            "text/plain": [
              "        author  up_votes\n",
              "0        ---SB         1\n",
              "1  ---annon---         0\n",
              "2  ---sniff---       102\n",
              "3    --Chocobo         5\n",
              "4   --Danger--        10"
            ]
          },
          "metadata": {
            "tags": []
          },
          "execution_count": 29
        }
      ]
    },
    {
      "cell_type": "code",
      "metadata": {
        "colab": {
          "base_uri": "https://localhost:8080/"
        },
        "id": "Y3zzUURwcQcZ",
        "outputId": "2e93335c-7f3f-435f-923d-87b715410f56"
      },
      "source": [
        "Authors_and_upvotes.info()"
      ],
      "execution_count": null,
      "outputs": [
        {
          "output_type": "stream",
          "text": [
            "<class 'pandas.core.frame.DataFrame'>\n",
            "Int64Index: 85838 entries, 0 to 85837\n",
            "Data columns (total 2 columns):\n",
            " #   Column    Non-Null Count  Dtype \n",
            "---  ------    --------------  ----- \n",
            " 0   author    85838 non-null  object\n",
            " 1   up_votes  85838 non-null  int64 \n",
            "dtypes: int64(1), object(1)\n",
            "memory usage: 2.0+ MB\n"
          ],
          "name": "stdout"
        }
      ]
    },
    {
      "cell_type": "code",
      "metadata": {
        "colab": {
          "base_uri": "https://localhost:8080/",
          "height": 308
        },
        "id": "T0g9pF7RexK_",
        "outputId": "d4f5a048-94e5-4f4d-b35d-307d9519370d"
      },
      "source": [
        "# Authors_and_upvotes.plot.scatter(x='author',y='up_votes')"
      ],
      "execution_count": null,
      "outputs": [
        {
          "output_type": "execute_result",
          "data": {
            "text/plain": [
              "<matplotlib.axes._subplots.AxesSubplot at 0x7efbbf6ec410>"
            ]
          },
          "metadata": {
            "tags": []
          },
          "execution_count": 23
        },
        {
          "output_type": "display_data",
          "data": {
            "image/png": "[encoded data removed]",
            "text/plain": [
              "<Figure size 432x288 with 1 Axes>"
            ]
          },
          "metadata": {
            "tags": [],
            "needs_background": "light"
          }
        }
      ]
    },
    {
      "cell_type": "markdown",
      "metadata": {
        "id": "njhVCl7uzWwH"
      },
      "source": [
        "# Transforming the data"
      ]
    },
    {
      "cell_type": "code",
      "metadata": {
        "id": "0vel_QR3fx33"
      },
      "source": [
        "mod_data = raw.copy()"
      ],
      "execution_count": null,
      "outputs": []
    },
    {
      "cell_type": "markdown",
      "metadata": {
        "id": "jAjq8wx5ze6h"
      },
      "source": [
        "Since the category and down_votes features does not have any contribution to the knowledge, they can be removed from the dataset."
      ]
    },
    {
      "cell_type": "code",
      "metadata": {
        "id": "yCB03TY-ISG1"
      },
      "source": [
        "mod_data.drop(columns=['category','down_votes'],inplace=True)"
      ],
      "execution_count": null,
      "outputs": []
    },
    {
      "cell_type": "code",
      "metadata": {
        "id": "It4VaYNQ7e-N"
      },
      "source": [
        "def get_day(posted_date):\n",
        "  day_name= ['Monday', 'Tuesday', 'Wednesday', 'Thursday', 'Friday', 'Saturday','Sunday']\n",
        "  return day_name[datetime.datetime.strptime(posted_date, '%Y-%m-%d').weekday()]\n",
        "# def get_time(epoch):\n",
        "#   return time.ctime(epoch).split()[3]\n",
        "# def get_timestamp(epoch):\n",
        "#   return type(datetime.datetime.fromtimestamp(epoch).strftime('%Y-%m-%d %H:%M:%S'))"
      ],
      "execution_count": null,
      "outputs": []
    },
    {
      "cell_type": "markdown",
      "metadata": {
        "id": "JFoDdvGFGBlY"
      },
      "source": [
        "Lets create two features `['day_created', 'time_in_local']` from the existing features `date_created` and `time_created` respectively. The `day_created` feature holds the value of the day of the week [Monday, Tuesday, Wednesday etc.]. Whereas the time feature holds the value of the local time at which the post was created."
      ]
    },
    {
      "cell_type": "code",
      "metadata": {
        "id": "PosBlfYw7bBY"
      },
      "source": [
        "mod_data['day_created'] = mod_data['date_created'].apply(lambda x: get_day(x))\n",
        "# mod_data['time'] = mod_data['time_created'].apply(lambda x: get_time(x))\n",
        "# mod_data['time_created'] = mod_data['time_created'].apply(lambda x: get_timestamp)"
      ],
      "execution_count": null,
      "outputs": []
    },
    {
      "cell_type": "code",
      "metadata": {
        "id": "nZJVScXvb7Ek"
      },
      "source": [
        "mod_data['time_created'] = pd.to_datetime(mod_data['time_created'], unit='s')"
      ],
      "execution_count": null,
      "outputs": []
    },
    {
      "cell_type": "code",
      "metadata": {
        "colab": {
          "base_uri": "https://localhost:8080/",
          "height": 204
        },
        "id": "LaCtvkpYybIO",
        "outputId": "857bf294-20e3-455e-e990-2fcafeee3d43"
      },
      "source": [
        "mod_data.head(5)"
      ],
      "execution_count": null,
      "outputs": [
        {
          "output_type": "execute_result",
          "data": {
            "text/html": [
              "<div>\n",
              "<style scoped>\n",
              "    .dataframe tbody tr th:only-of-type {\n",
              "        vertical-align: middle;\n",
              "    }\n",
              "\n",
              "    .dataframe tbody tr th {\n",
              "        vertical-align: top;\n",
              "    }\n",
              "\n",
              "    .dataframe thead th {\n",
              "        text-align: right;\n",
              "    }\n",
              "</style>\n",
              "<table border=\"1\" class=\"dataframe\">\n",
              "  <thead>\n",
              "    <tr style=\"text-align: right;\">\n",
              "      <th></th>\n",
              "      <th>time_created</th>\n",
              "      <th>date_created</th>\n",
              "      <th>up_votes</th>\n",
              "      <th>title</th>\n",
              "      <th>over_18</th>\n",
              "      <th>author</th>\n",
              "      <th>day_created</th>\n",
              "    </tr>\n",
              "  </thead>\n",
              "  <tbody>\n",
              "    <tr>\n",
              "      <th>0</th>\n",
              "      <td>2008-01-28 16:11:02</td>\n",
              "      <td>2008-01-28</td>\n",
              "      <td>0</td>\n",
              "      <td>The U.N. Mismanagement Program</td>\n",
              "      <td>False</td>\n",
              "      <td>Moldavite</td>\n",
              "      <td>Monday</td>\n",
              "    </tr>\n",
              "    <tr>\n",
              "      <th>1</th>\n",
              "      <td>2008-01-28 22:13:16</td>\n",
              "      <td>2008-01-28</td>\n",
              "      <td>4</td>\n",
              "      <td>Nicolas Sarkozy threatens to sue Ryanair</td>\n",
              "      <td>False</td>\n",
              "      <td>Moldavite</td>\n",
              "      <td>Monday</td>\n",
              "    </tr>\n",
              "    <tr>\n",
              "      <th>2</th>\n",
              "      <td>2008-01-29 19:44:29</td>\n",
              "      <td>2008-01-29</td>\n",
              "      <td>3</td>\n",
              "      <td>US plans for missile shields in Polish town me...</td>\n",
              "      <td>False</td>\n",
              "      <td>JoeyRamone63</td>\n",
              "      <td>Tuesday</td>\n",
              "    </tr>\n",
              "    <tr>\n",
              "      <th>3</th>\n",
              "      <td>2008-01-30 14:02:53</td>\n",
              "      <td>2008-01-30</td>\n",
              "      <td>4</td>\n",
              "      <td>Archbishop of Canterbury calls for new law to ...</td>\n",
              "      <td>False</td>\n",
              "      <td>bgholt1970</td>\n",
              "      <td>Wednesday</td>\n",
              "    </tr>\n",
              "    <tr>\n",
              "      <th>4</th>\n",
              "      <td>2008-01-30 19:04:35</td>\n",
              "      <td>2008-01-30</td>\n",
              "      <td>9</td>\n",
              "      <td>Top US Envoy: Violence In Kenya Is  Ethnic Cle...</td>\n",
              "      <td>False</td>\n",
              "      <td>smacfarl</td>\n",
              "      <td>Wednesday</td>\n",
              "    </tr>\n",
              "  </tbody>\n",
              "</table>\n",
              "</div>"
            ],
            "text/plain": [
              "         time_created date_created  up_votes  ... over_18        author day_created\n",
              "0 2008-01-28 16:11:02   2008-01-28         0  ...   False     Moldavite      Monday\n",
              "1 2008-01-28 22:13:16   2008-01-28         4  ...   False     Moldavite      Monday\n",
              "2 2008-01-29 19:44:29   2008-01-29         3  ...   False  JoeyRamone63     Tuesday\n",
              "3 2008-01-30 14:02:53   2008-01-30         4  ...   False    bgholt1970   Wednesday\n",
              "4 2008-01-30 19:04:35   2008-01-30         9  ...   False      smacfarl   Wednesday\n",
              "\n",
              "[5 rows x 7 columns]"
            ]
          },
          "metadata": {
            "tags": []
          },
          "execution_count": 60
        }
      ]
    },
    {
      "cell_type": "markdown",
      "metadata": {
        "id": "upqbMDG38yD8"
      },
      "source": [
        "#Lets analyze the dataset with the newly created features"
      ]
    },
    {
      "cell_type": "code",
      "metadata": {
        "colab": {
          "base_uri": "https://localhost:8080/",
          "height": 420
        },
        "id": "k7MqsTBADWb7",
        "outputId": "afd42af4-41d3-4bff-a0f3-622bde710119"
      },
      "source": [
        "mod_data.groupby(by='day_created').up_votes.sum().reindex(labels).plot.bar()\n",
        "plt.title('Upvotes vs days of a week')\n",
        "plt.xlabel('Days of a week')\n",
        "plt.ylabel('Total number of upvotes the website gained on a particular day of a week')\n",
        "# plt.xticks(np.arange(7),labels=labels)"
      ],
      "execution_count": null,
      "outputs": [
        {
          "output_type": "execute_result",
          "data": {
            "text/plain": [
              "Text(0, 0.5, 'Total number of upvotes the website gained on a particular day of a week')"
            ]
          },
          "metadata": {
            "tags": []
          },
          "execution_count": 61
        },
        {
          "output_type": "display_data",
          "data": {
            "image/png": "[encoded data removed]",
            "text/plain": [
              "<Figure size 432x288 with 1 Axes>"
            ]
          },
          "metadata": {
            "tags": [],
            "needs_background": "light"
          }
        }
      ]
    },
    {
      "cell_type": "markdown",
      "metadata": {
        "id": "es-DWWvxG3S9"
      },
      "source": [
        "The above plot displays that the website has less activity on the Weekends (Saturday and Sunday) compared to the Weekdays"
      ]
    },
    {
      "cell_type": "code",
      "metadata": {
        "colab": {
          "base_uri": "https://localhost:8080/",
          "height": 375
        },
        "id": "XTopR259DcT4",
        "outputId": "32c87e2b-1fc6-46a0-b3f7-44f88b8e453b"
      },
      "source": [
        "mod_data.groupby(by='day_created').author.count().reindex(labels).plot.bar()\n",
        "plt.title('Count of authors vs days of week')\n",
        "plt.xlabel('Days of a week')\n",
        "plt.ylabel('Number of authors posted on a particular day of a week')\n",
        "# plt.xticks(np.arange(7),labels=labels)"
      ],
      "execution_count": null,
      "outputs": [
        {
          "output_type": "execute_result",
          "data": {
            "text/plain": [
              "Text(0, 0.5, 'Number of authors posted on a particular day of a week')"
            ]
          },
          "metadata": {
            "tags": []
          },
          "execution_count": 63
        },
        {
          "output_type": "display_data",
          "data": {
            "image/png": "[encoded data removed]",
            "text/plain": [
              "<Figure size 432x288 with 1 Axes>"
            ]
          },
          "metadata": {
            "tags": [],
            "needs_background": "light"
          }
        }
      ]
    },
    {
      "cell_type": "markdown",
      "metadata": {
        "id": "Ei02TV90H7fT"
      },
      "source": [
        "The above plot shows that the authors prefer to post more on a weekday comapred to the weekend(Saturday, Sunday). There is a peak on Tuesdays, and Wednesdays. This means that more authors prefer to post in the middle of the week. This shows that there is a direct relation between the number of posts and the activity on the website"
      ]
    },
    {
      "cell_type": "code",
      "metadata": {
        "id": "_9gtU1M2xiib"
      },
      "source": [
        "time_intervals_and_up_votes = mod_data.resample('H',on='time_created').up_votes.sum().to_frame()"
      ],
      "execution_count": null,
      "outputs": []
    },
    {
      "cell_type": "code",
      "metadata": {
        "id": "dDA8FzDufRBj"
      },
      "source": [
        "time_intervals_and_up_votes.drop(time_intervals_and_up_votes[time_intervals_and_up_votes.up_votes == 0].index,inplace=True)"
      ],
      "execution_count": null,
      "outputs": []
    },
    {
      "cell_type": "code",
      "metadata": {
        "id": "uHI9-vSnhA18"
      },
      "source": [
        "time_intervals_and_up_votes = time_intervals_and_up_votes.reset_index()"
      ],
      "execution_count": null,
      "outputs": []
    },
    {
      "cell_type": "code",
      "metadata": {
        "colab": {
          "base_uri": "https://localhost:8080/",
          "height": 35
        },
        "id": "AHrObFhpjGxH",
        "outputId": "18862f12-854a-453f-d4e8-b1230097cc7c"
      },
      "source": [
        "str(time_intervals_and_up_votes['time_created'][0]).split()[1]"
      ],
      "execution_count": null,
      "outputs": [
        {
          "output_type": "execute_result",
          "data": {
            "application/vnd.google.colaboratory.intrinsic+json": {
              "type": "string"
            },
            "text/plain": [
              "'22:00:00'"
            ]
          },
          "metadata": {
            "tags": []
          },
          "execution_count": 67
        }
      ]
    },
    {
      "cell_type": "code",
      "metadata": {
        "id": "IN6ce4_uiv7P"
      },
      "source": [
        "time_intervals_and_up_votes['time'] = time_intervals_and_up_votes['time_created'].apply(lambda x: str(x).split()[1])"
      ],
      "execution_count": null,
      "outputs": []
    },
    {
      "cell_type": "code",
      "metadata": {
        "id": "5eBrYN0VjdMv"
      },
      "source": [
        "hourly_sum_of_upvotes_over_8_years = time_intervals_and_up_votes.groupby(by='time').up_votes.sum()"
      ],
      "execution_count": null,
      "outputs": []
    },
    {
      "cell_type": "code",
      "metadata": {
        "colab": {
          "base_uri": "https://localhost:8080/",
          "height": 307
        },
        "id": "2wpbtzB5kWcv",
        "outputId": "828dcabd-034c-42b8-d90f-127987c377fe"
      },
      "source": [
        "hourly_sum_of_upvotes_over_8_years.plot.line()"
      ],
      "execution_count": null,
      "outputs": [
        {
          "output_type": "execute_result",
          "data": {
            "text/plain": [
              "<matplotlib.axes._subplots.AxesSubplot at 0x7f2be9688450>"
            ]
          },
          "metadata": {
            "tags": []
          },
          "execution_count": 70
        },
        {
          "output_type": "display_data",
          "data": {
            "image/png": "[encoded data removed]",
            "text/plain": [
              "<Figure size 432x288 with 1 Axes>"
            ]
          },
          "metadata": {
            "tags": [],
            "needs_background": "light"
          }
        }
      ]
    },
    {
      "cell_type": "markdown",
      "metadata": {
        "id": "Xky5RJu6lLOn"
      },
      "source": [
        "Since 3222 is the number of days between 1-28-2008 and 11-22-2016, lets find the daily average"
      ]
    },
    {
      "cell_type": "code",
      "metadata": {
        "id": "jPZGFnCik28c"
      },
      "source": [
        "daily_average_on_hourly_sum_of_upvotes = hourly_sum_of_upvotes_over_8_years/3222"
      ],
      "execution_count": null,
      "outputs": []
    },
    {
      "cell_type": "code",
      "metadata": {
        "colab": {
          "base_uri": "https://localhost:8080/",
          "height": 296
        },
        "id": "m7gdjGyZlGdN",
        "outputId": "a222137c-2f4d-4912-839e-98c4aae8a9c7"
      },
      "source": [
        "daily_average_on_hourly_sum_of_upvotes.plot.line()"
      ],
      "execution_count": null,
      "outputs": [
        {
          "output_type": "execute_result",
          "data": {
            "text/plain": [
              "<matplotlib.axes._subplots.AxesSubplot at 0x7f2be9c339d0>"
            ]
          },
          "metadata": {
            "tags": []
          },
          "execution_count": 72
        },
        {
          "output_type": "display_data",
          "data": {
            "image/png": "[encoded data removed]",
            "text/plain": [
              "<Figure size 432x288 with 1 Axes>"
            ]
          },
          "metadata": {
            "tags": [],
            "needs_background": "light"
          }
        }
      ]
    },
    {
      "cell_type": "markdown",
      "metadata": {
        "id": "g-udumol74PP"
      },
      "source": [
        "# Lets analyze the periodicity of the activity on the website\n"
      ]
    },
    {
      "cell_type": "code",
      "metadata": {
        "id": "ImU31O3Q7-hZ"
      },
      "source": [
        "periodicity = mod_data.resample('H',on='time_created').up_votes.sum().to_frame()\n",
        "periodicity = periodicity.reset_index()"
      ],
      "execution_count": null,
      "outputs": []
    },
    {
      "cell_type": "code",
      "metadata": {
        "id": "X-Rl0r1i86rY"
      },
      "source": [
        "periodicity['time'] = periodicity['time_created'].apply(lambda x: str(x).split()[1])\n",
        "periodicity['date'] = periodicity['time_created'].apply(lambda x: str(x).split()[0])"
      ],
      "execution_count": null,
      "outputs": []
    },
    {
      "cell_type": "code",
      "metadata": {
        "colab": {
          "base_uri": "https://localhost:8080/",
          "height": 419
        },
        "id": "FzJh4g83-Mhy",
        "outputId": "f23e4e31-1c31-4195-e2c5-f19fa18bee8c"
      },
      "source": [
        "periodicity"
      ],
      "execution_count": null,
      "outputs": [
        {
          "output_type": "execute_result",
          "data": {
            "text/html": [
              "<div>\n",
              "<style scoped>\n",
              "    .dataframe tbody tr th:only-of-type {\n",
              "        vertical-align: middle;\n",
              "    }\n",
              "\n",
              "    .dataframe tbody tr th {\n",
              "        vertical-align: top;\n",
              "    }\n",
              "\n",
              "    .dataframe thead th {\n",
              "        text-align: right;\n",
              "    }\n",
              "</style>\n",
              "<table border=\"1\" class=\"dataframe\">\n",
              "  <thead>\n",
              "    <tr style=\"text-align: right;\">\n",
              "      <th></th>\n",
              "      <th>time_created</th>\n",
              "      <th>up_votes</th>\n",
              "      <th>time</th>\n",
              "      <th>date</th>\n",
              "    </tr>\n",
              "  </thead>\n",
              "  <tbody>\n",
              "    <tr>\n",
              "      <th>0</th>\n",
              "      <td>2008-01-25 03:00:00</td>\n",
              "      <td>9</td>\n",
              "      <td>03:00:00</td>\n",
              "      <td>2008-01-25</td>\n",
              "    </tr>\n",
              "    <tr>\n",
              "      <th>1</th>\n",
              "      <td>2008-01-25 04:00:00</td>\n",
              "      <td>0</td>\n",
              "      <td>04:00:00</td>\n",
              "      <td>2008-01-25</td>\n",
              "    </tr>\n",
              "    <tr>\n",
              "      <th>2</th>\n",
              "      <td>2008-01-25 05:00:00</td>\n",
              "      <td>0</td>\n",
              "      <td>05:00:00</td>\n",
              "      <td>2008-01-25</td>\n",
              "    </tr>\n",
              "    <tr>\n",
              "      <th>3</th>\n",
              "      <td>2008-01-25 06:00:00</td>\n",
              "      <td>0</td>\n",
              "      <td>06:00:00</td>\n",
              "      <td>2008-01-25</td>\n",
              "    </tr>\n",
              "    <tr>\n",
              "      <th>4</th>\n",
              "      <td>2008-01-25 07:00:00</td>\n",
              "      <td>0</td>\n",
              "      <td>07:00:00</td>\n",
              "      <td>2008-01-25</td>\n",
              "    </tr>\n",
              "    <tr>\n",
              "      <th>...</th>\n",
              "      <td>...</td>\n",
              "      <td>...</td>\n",
              "      <td>...</td>\n",
              "      <td>...</td>\n",
              "    </tr>\n",
              "    <tr>\n",
              "      <th>77381</th>\n",
              "      <td>2016-11-22 08:00:00</td>\n",
              "      <td>75</td>\n",
              "      <td>08:00:00</td>\n",
              "      <td>2016-11-22</td>\n",
              "    </tr>\n",
              "    <tr>\n",
              "      <th>77382</th>\n",
              "      <td>2016-11-22 09:00:00</td>\n",
              "      <td>126</td>\n",
              "      <td>09:00:00</td>\n",
              "      <td>2016-11-22</td>\n",
              "    </tr>\n",
              "    <tr>\n",
              "      <th>77383</th>\n",
              "      <td>2016-11-22 10:00:00</td>\n",
              "      <td>85</td>\n",
              "      <td>10:00:00</td>\n",
              "      <td>2016-11-22</td>\n",
              "    </tr>\n",
              "    <tr>\n",
              "      <th>77384</th>\n",
              "      <td>2016-11-22 11:00:00</td>\n",
              "      <td>115</td>\n",
              "      <td>11:00:00</td>\n",
              "      <td>2016-11-22</td>\n",
              "    </tr>\n",
              "    <tr>\n",
              "      <th>77385</th>\n",
              "      <td>2016-11-22 12:00:00</td>\n",
              "      <td>19</td>\n",
              "      <td>12:00:00</td>\n",
              "      <td>2016-11-22</td>\n",
              "    </tr>\n",
              "  </tbody>\n",
              "</table>\n",
              "<p>77386 rows × 4 columns</p>\n",
              "</div>"
            ],
            "text/plain": [
              "             time_created  up_votes      time        date\n",
              "0     2008-01-25 03:00:00         9  03:00:00  2008-01-25\n",
              "1     2008-01-25 04:00:00         0  04:00:00  2008-01-25\n",
              "2     2008-01-25 05:00:00         0  05:00:00  2008-01-25\n",
              "3     2008-01-25 06:00:00         0  06:00:00  2008-01-25\n",
              "4     2008-01-25 07:00:00         0  07:00:00  2008-01-25\n",
              "...                   ...       ...       ...         ...\n",
              "77381 2016-11-22 08:00:00        75  08:00:00  2016-11-22\n",
              "77382 2016-11-22 09:00:00       126  09:00:00  2016-11-22\n",
              "77383 2016-11-22 10:00:00        85  10:00:00  2016-11-22\n",
              "77384 2016-11-22 11:00:00       115  11:00:00  2016-11-22\n",
              "77385 2016-11-22 12:00:00        19  12:00:00  2016-11-22\n",
              "\n",
              "[77386 rows x 4 columns]"
            ]
          },
          "metadata": {
            "tags": []
          },
          "execution_count": 21
        }
      ]
    },
    {
      "cell_type": "code",
      "metadata": {
        "colab": {
          "base_uri": "https://localhost:8080/",
          "height": 296
        },
        "id": "MmdOkHHJ9tis",
        "outputId": "c0d347ea-2cad-4d49-a32c-1d9fba3e9565"
      },
      "source": [
        "periodicity.groupby(by=['date','time']).up_votes.sum().plot.line()"
      ],
      "execution_count": null,
      "outputs": [
        {
          "output_type": "execute_result",
          "data": {
            "text/plain": [
              "<matplotlib.axes._subplots.AxesSubplot at 0x7f815f7f5c90>"
            ]
          },
          "metadata": {
            "tags": []
          },
          "execution_count": 30
        },
        {
          "output_type": "display_data",
          "data": {
            "image/png": "[encoded data removed]",
            "text/plain": [
              "<Figure size 432x288 with 1 Axes>"
            ]
          },
          "metadata": {
            "tags": [],
            "needs_background": "light"
          }
        }
      ]
    },
    {
      "cell_type": "markdown",
      "metadata": {
        "id": "Qt9FWird-0la"
      },
      "source": [
        "As we can notice an increasing trend of activity on the website, it is still unclear if there is any periodic repitition in the activity."
      ]
    },
    {
      "cell_type": "markdown",
      "metadata": {
        "id": "I1RWMMkpFAm1"
      },
      "source": [
        "# Lets split the dataset into NSFW and nonNSFW"
      ]
    },
    {
      "cell_type": "code",
      "metadata": {
        "id": "AHfx6MSXFVVx"
      },
      "source": [
        "NSFW = mod_data[mod_data['over_18'] == True].copy()\n",
        "NSFW.drop(columns='over_18',inplace = True)\n",
        "NSFW.reset_index(inplace=True)"
      ],
      "execution_count": null,
      "outputs": []
    },
    {
      "cell_type": "code",
      "metadata": {
        "id": "KwQJ1iemFdpe"
      },
      "source": [
        "nonNSFW = mod_data[mod_data['over_18'] == False].copy()\n",
        "nonNSFW.drop(columns='over_18',inplace = True)\n",
        "nonNSFW.reset_index(inplace=True)"
      ],
      "execution_count": null,
      "outputs": []
    },
    {
      "cell_type": "code",
      "metadata": {
        "colab": {
          "base_uri": "https://localhost:8080/",
          "height": 419
        },
        "id": "znu9boHjFzWG",
        "outputId": "9bef168b-d3ff-4d3f-b3a5-45e9a48ad437"
      },
      "source": [
        "NSFW"
      ],
      "execution_count": null,
      "outputs": [
        {
          "output_type": "execute_result",
          "data": {
            "text/html": [
              "<div>\n",
              "<style scoped>\n",
              "    .dataframe tbody tr th:only-of-type {\n",
              "        vertical-align: middle;\n",
              "    }\n",
              "\n",
              "    .dataframe tbody tr th {\n",
              "        vertical-align: top;\n",
              "    }\n",
              "\n",
              "    .dataframe thead th {\n",
              "        text-align: right;\n",
              "    }\n",
              "</style>\n",
              "<table border=\"1\" class=\"dataframe\">\n",
              "  <thead>\n",
              "    <tr style=\"text-align: right;\">\n",
              "      <th></th>\n",
              "      <th>index</th>\n",
              "      <th>time_created</th>\n",
              "      <th>date_created</th>\n",
              "      <th>up_votes</th>\n",
              "      <th>title</th>\n",
              "      <th>author</th>\n",
              "      <th>day_created</th>\n",
              "    </tr>\n",
              "  </thead>\n",
              "  <tbody>\n",
              "    <tr>\n",
              "      <th>0</th>\n",
              "      <td>1885</td>\n",
              "      <td>2008-03-24 17:57:18</td>\n",
              "      <td>2008-03-24</td>\n",
              "      <td>189</td>\n",
              "      <td>Pics from the Tibetan protests - more graphic ...</td>\n",
              "      <td>pressed</td>\n",
              "      <td>Monday</td>\n",
              "    </tr>\n",
              "    <tr>\n",
              "      <th>1</th>\n",
              "      <td>6721</td>\n",
              "      <td>2008-05-18 19:25:18</td>\n",
              "      <td>2008-05-18</td>\n",
              "      <td>5</td>\n",
              "      <td>MI5 linked to Max Mosley’s Nazi-style, sadomas...</td>\n",
              "      <td>alllie</td>\n",
              "      <td>Sunday</td>\n",
              "    </tr>\n",
              "    <tr>\n",
              "      <th>2</th>\n",
              "      <td>8414</td>\n",
              "      <td>2008-06-05 19:42:05</td>\n",
              "      <td>2008-06-05</td>\n",
              "      <td>0</td>\n",
              "      <td>Tabloid Horrifies Germany: Poland s Yellow Pre...</td>\n",
              "      <td>stesch</td>\n",
              "      <td>Thursday</td>\n",
              "    </tr>\n",
              "    <tr>\n",
              "      <th>3</th>\n",
              "      <td>12163</td>\n",
              "      <td>2008-07-21 20:26:56</td>\n",
              "      <td>2008-07-21</td>\n",
              "      <td>0</td>\n",
              "      <td>Love Parade Dortmund: Techno Festival Breaks R...</td>\n",
              "      <td>stesch</td>\n",
              "      <td>Monday</td>\n",
              "    </tr>\n",
              "    <tr>\n",
              "      <th>4</th>\n",
              "      <td>12699</td>\n",
              "      <td>2008-07-30 01:29:40</td>\n",
              "      <td>2008-07-30</td>\n",
              "      <td>5</td>\n",
              "      <td>IDF kills young Palestinian boy. Potentially N...</td>\n",
              "      <td>cup</td>\n",
              "      <td>Wednesday</td>\n",
              "    </tr>\n",
              "    <tr>\n",
              "      <th>...</th>\n",
              "      <td>...</td>\n",
              "      <td>...</td>\n",
              "      <td>...</td>\n",
              "      <td>...</td>\n",
              "      <td>...</td>\n",
              "      <td>...</td>\n",
              "      <td>...</td>\n",
              "    </tr>\n",
              "    <tr>\n",
              "      <th>315</th>\n",
              "      <td>503776</td>\n",
              "      <td>2016-10-31 04:59:26</td>\n",
              "      <td>2016-10-31</td>\n",
              "      <td>4</td>\n",
              "      <td>Latest Italian Earthquake Devastates Medieval ...</td>\n",
              "      <td>pixelinthe</td>\n",
              "      <td>Monday</td>\n",
              "    </tr>\n",
              "    <tr>\n",
              "      <th>316</th>\n",
              "      <td>508067</td>\n",
              "      <td>2016-11-17 16:30:29</td>\n",
              "      <td>2016-11-17</td>\n",
              "      <td>12</td>\n",
              "      <td>ISIS Release Video Showing Melbourne As A Poss...</td>\n",
              "      <td>halacska</td>\n",
              "      <td>Thursday</td>\n",
              "    </tr>\n",
              "    <tr>\n",
              "      <th>317</th>\n",
              "      <td>508176</td>\n",
              "      <td>2016-11-18 02:04:41</td>\n",
              "      <td>2016-11-18</td>\n",
              "      <td>0</td>\n",
              "      <td>Animal welfare activists have released footage...</td>\n",
              "      <td>NinjaDiscoJesus</td>\n",
              "      <td>Friday</td>\n",
              "    </tr>\n",
              "    <tr>\n",
              "      <th>318</th>\n",
              "      <td>508376</td>\n",
              "      <td>2016-11-18 18:14:35</td>\n",
              "      <td>2016-11-18</td>\n",
              "      <td>6</td>\n",
              "      <td>Jungle Justice : Public lynching of a street ...</td>\n",
              "      <td>avivi_</td>\n",
              "      <td>Friday</td>\n",
              "    </tr>\n",
              "    <tr>\n",
              "      <th>319</th>\n",
              "      <td>508706</td>\n",
              "      <td>2016-11-20 11:32:55</td>\n",
              "      <td>2016-11-20</td>\n",
              "      <td>0</td>\n",
              "      <td>[NSFW] Teenage boy run over by  Iraqi army tan...</td>\n",
              "      <td>atyzer</td>\n",
              "      <td>Sunday</td>\n",
              "    </tr>\n",
              "  </tbody>\n",
              "</table>\n",
              "<p>320 rows × 7 columns</p>\n",
              "</div>"
            ],
            "text/plain": [
              "      index        time_created  ...           author  day_created\n",
              "0      1885 2008-03-24 17:57:18  ...          pressed       Monday\n",
              "1      6721 2008-05-18 19:25:18  ...           alllie       Sunday\n",
              "2      8414 2008-06-05 19:42:05  ...           stesch     Thursday\n",
              "3     12163 2008-07-21 20:26:56  ...           stesch       Monday\n",
              "4     12699 2008-07-30 01:29:40  ...              cup    Wednesday\n",
              "..      ...                 ...  ...              ...          ...\n",
              "315  503776 2016-10-31 04:59:26  ...       pixelinthe       Monday\n",
              "316  508067 2016-11-17 16:30:29  ...         halacska     Thursday\n",
              "317  508176 2016-11-18 02:04:41  ...  NinjaDiscoJesus       Friday\n",
              "318  508376 2016-11-18 18:14:35  ...           avivi_       Friday\n",
              "319  508706 2016-11-20 11:32:55  ...           atyzer       Sunday\n",
              "\n",
              "[320 rows x 7 columns]"
            ]
          },
          "metadata": {
            "tags": []
          },
          "execution_count": 12
        }
      ]
    },
    {
      "cell_type": "code",
      "metadata": {
        "colab": {
          "base_uri": "https://localhost:8080/"
        },
        "id": "M8Gx8_60JtZU",
        "outputId": "3400d267-7e1e-4059-9ebd-a9ab22b6cf17"
      },
      "source": [
        "import datetime\n",
        "import calendar\n",
        "\n",
        "def weekday_count(start, end):\n",
        "  start_date  = datetime.datetime.strptime(start, '%d/%m/%Y')\n",
        "  end_date    = datetime.datetime.strptime(end, '%d/%m/%Y')\n",
        "  week        = {}\n",
        "  for i in range((end_date - start_date).days):\n",
        "    day       = calendar.day_name[(start_date + datetime.timedelta(days=i+1)).weekday()]\n",
        "    week[day] = week[day] + 1 if day in week else 1\n",
        "  return week\n",
        "\n",
        "print(weekday_count(\"24/03/2008\", \"20/11/2016\"))"
      ],
      "execution_count": null,
      "outputs": [
        {
          "output_type": "stream",
          "text": [
            "{'Tuesday': 452, 'Wednesday': 452, 'Thursday': 452, 'Friday': 452, 'Saturday': 452, 'Sunday': 452, 'Monday': 451}\n"
          ],
          "name": "stdout"
        }
      ]
    },
    {
      "cell_type": "markdown",
      "metadata": {
        "id": "QYDQQp1TL8Jc"
      },
      "source": [
        "Since there are 452 Tuesdays,Wednesdays,Thursdays,Fridays,but only Saturdays and 451 Mondays between the beginning and the ending dates of the NSFW posts, lets calculate the average number of upvotes per day in a week."
      ]
    },
    {
      "cell_type": "code",
      "metadata": {
        "id": "OUB2NI9HBdhL"
      },
      "source": [
        "weekly_avg = NSFW.groupby(by='day_created',sort=False).up_votes.sum().reindex(labels).to_frame().copy()\n",
        "weekly_avg['count'] = NSFW.groupby(by='day_created',sort=False).up_votes.count().reindex(labels).to_frame().copy()"
      ],
      "execution_count": null,
      "outputs": []
    },
    {
      "cell_type": "code",
      "metadata": {
        "id": "v4G0YHPtLYOn"
      },
      "source": [
        "weekly_avg.loc[['Monday']] = weekly_avg.loc[['Monday']]/451"
      ],
      "execution_count": null,
      "outputs": []
    },
    {
      "cell_type": "code",
      "metadata": {
        "id": "-MJn2CRXH5jI"
      },
      "source": [
        "weekly_avg.loc[['Tuesday','Wednesday','Thursday','Friday','Saturday','Sunday']] = weekly_avg.loc[['Tuesday','Wednesday','Thursday','Friday','Saturday','Sunday']]/452"
      ],
      "execution_count": null,
      "outputs": []
    },
    {
      "cell_type": "code",
      "metadata": {
        "colab": {
          "base_uri": "https://localhost:8080/",
          "height": 297
        },
        "id": "35aW6ovDNrR2",
        "outputId": "1ddf0580-355d-43da-b414-41f556e8c591"
      },
      "source": [
        "weekly_avg"
      ],
      "execution_count": null,
      "outputs": [
        {
          "output_type": "execute_result",
          "data": {
            "text/html": [
              "<div>\n",
              "<style scoped>\n",
              "    .dataframe tbody tr th:only-of-type {\n",
              "        vertical-align: middle;\n",
              "    }\n",
              "\n",
              "    .dataframe tbody tr th {\n",
              "        vertical-align: top;\n",
              "    }\n",
              "\n",
              "    .dataframe thead th {\n",
              "        text-align: right;\n",
              "    }\n",
              "</style>\n",
              "<table border=\"1\" class=\"dataframe\">\n",
              "  <thead>\n",
              "    <tr style=\"text-align: right;\">\n",
              "      <th></th>\n",
              "      <th>up_votes</th>\n",
              "      <th>count</th>\n",
              "    </tr>\n",
              "    <tr>\n",
              "      <th>day_created</th>\n",
              "      <th></th>\n",
              "      <th></th>\n",
              "    </tr>\n",
              "  </thead>\n",
              "  <tbody>\n",
              "    <tr>\n",
              "      <th>Monday</th>\n",
              "      <td>32.962306</td>\n",
              "      <td>0.099778</td>\n",
              "    </tr>\n",
              "    <tr>\n",
              "      <th>Tuesday</th>\n",
              "      <td>45.185841</td>\n",
              "      <td>0.117257</td>\n",
              "    </tr>\n",
              "    <tr>\n",
              "      <th>Wednesday</th>\n",
              "      <td>24.621681</td>\n",
              "      <td>0.126106</td>\n",
              "    </tr>\n",
              "    <tr>\n",
              "      <th>Thursday</th>\n",
              "      <td>66.884956</td>\n",
              "      <td>0.108407</td>\n",
              "    </tr>\n",
              "    <tr>\n",
              "      <th>Friday</th>\n",
              "      <td>42.834071</td>\n",
              "      <td>0.101770</td>\n",
              "    </tr>\n",
              "    <tr>\n",
              "      <th>Saturday</th>\n",
              "      <td>21.480088</td>\n",
              "      <td>0.079646</td>\n",
              "    </tr>\n",
              "    <tr>\n",
              "      <th>Sunday</th>\n",
              "      <td>35.396018</td>\n",
              "      <td>0.075221</td>\n",
              "    </tr>\n",
              "  </tbody>\n",
              "</table>\n",
              "</div>"
            ],
            "text/plain": [
              "              up_votes     count\n",
              "day_created                     \n",
              "Monday       32.962306  0.099778\n",
              "Tuesday      45.185841  0.117257\n",
              "Wednesday    24.621681  0.126106\n",
              "Thursday     66.884956  0.108407\n",
              "Friday       42.834071  0.101770\n",
              "Saturday     21.480088  0.079646\n",
              "Sunday       35.396018  0.075221"
            ]
          },
          "metadata": {
            "tags": []
          },
          "execution_count": 17
        }
      ]
    },
    {
      "cell_type": "code",
      "metadata": {
        "colab": {
          "base_uri": "https://localhost:8080/",
          "height": 361
        },
        "id": "4BdoCIXyKUED",
        "outputId": "5808afe0-61c5-4394-8860-52d3531d90f0"
      },
      "source": [
        "weekly_avg['up_votes'].plot.bar()\n",
        "plt.title(\"Weekly average of up_votes\")\n",
        "plt.ylabel(\"up_votes\")"
      ],
      "execution_count": null,
      "outputs": [
        {
          "output_type": "execute_result",
          "data": {
            "text/plain": [
              "Text(0, 0.5, 'up_votes')"
            ]
          },
          "metadata": {
            "tags": []
          },
          "execution_count": 19
        },
        {
          "output_type": "display_data",
          "data": {
            "image/png": "[encoded data removed]",
            "text/plain": [
              "<Figure size 432x288 with 1 Axes>"
            ]
          },
          "metadata": {
            "tags": [],
            "needs_background": "light"
          }
        }
      ]
    },
    {
      "cell_type": "markdown",
      "metadata": {
        "id": "V18JW8q5ija6"
      },
      "source": [
        "The above plot shows that the website attracts more activity on Thursdays whereas the least activity on Saturdays. However, this representation is not accurate as there may be a few posts that performed significantly better than others and the dataset is likely biased based on that."
      ]
    },
    {
      "cell_type": "markdown",
      "metadata": {
        "id": "7Yw_fJwaM84I"
      },
      "source": [
        "Lets observe a box plot on NSFW to further understand the bias in dataset.\n"
      ]
    },
    {
      "cell_type": "code",
      "metadata": {
        "colab": {
          "base_uri": "https://localhost:8080/",
          "height": 283
        },
        "id": "wsYAEFJcjn7C",
        "outputId": "b395d3c1-8fbf-472f-eded-ae03903fa09c"
      },
      "source": [
        "NSFW.up_votes.plot.box()"
      ],
      "execution_count": null,
      "outputs": [
        {
          "output_type": "execute_result",
          "data": {
            "text/plain": [
              "<matplotlib.axes._subplots.AxesSubplot at 0x7f2bf9b8c190>"
            ]
          },
          "metadata": {
            "tags": []
          },
          "execution_count": 20
        },
        {
          "output_type": "display_data",
          "data": {
            "image/png": "[encoded data removed]",
            "text/plain": [
              "<Figure size 432x288 with 1 Axes>"
            ]
          },
          "metadata": {
            "tags": [],
            "needs_background": "light"
          }
        }
      ]
    },
    {
      "cell_type": "markdown",
      "metadata": {
        "id": "PMOV2aQvkjDN"
      },
      "source": [
        "This shows that there are many outliers in the dataset. However, in this case the outliers are desirable. We need to attract more activity on the website. So, lets analyze what could be the potential reasons for such outliers."
      ]
    },
    {
      "cell_type": "markdown",
      "metadata": {
        "id": "lptBVMY9lKzn"
      },
      "source": [
        "First lets identify the usual trends in the dataset."
      ]
    },
    {
      "cell_type": "code",
      "metadata": {
        "colab": {
          "base_uri": "https://localhost:8080/",
          "height": 283
        },
        "id": "nhp90a9LNHqb",
        "outputId": "228d8fcf-ef66-49f7-b580-80c4c843e517"
      },
      "source": [
        "NSFW.up_votes[NSFW.up_votes < 17.5].plot.box()"
      ],
      "execution_count": null,
      "outputs": [
        {
          "output_type": "execute_result",
          "data": {
            "text/plain": [
              "<matplotlib.axes._subplots.AxesSubplot at 0x7f2bf9997d10>"
            ]
          },
          "metadata": {
            "tags": []
          },
          "execution_count": 21
        },
        {
          "output_type": "display_data",
          "data": {
            "image/png": "[encoded data removed]",
            "text/plain": [
              "<Figure size 432x288 with 1 Axes>"
            ]
          },
          "metadata": {
            "tags": [],
            "needs_background": "light"
          }
        }
      ]
    },
    {
      "cell_type": "code",
      "metadata": {
        "id": "aJ4JK4XLlZu9"
      },
      "source": [
        "NSFW_without_outliers = NSFW[NSFW.up_votes < 17.5]"
      ],
      "execution_count": null,
      "outputs": []
    },
    {
      "cell_type": "code",
      "metadata": {
        "colab": {
          "base_uri": "https://localhost:8080/"
        },
        "id": "FAm0usRpldGs",
        "outputId": "86d7ab02-dc81-4a30-8a92-e16077cc254c"
      },
      "source": [
        "NSFW_without_outliers.info()"
      ],
      "execution_count": null,
      "outputs": [
        {
          "output_type": "stream",
          "text": [
            "<class 'pandas.core.frame.DataFrame'>\n",
            "Int64Index: 197 entries, 1 to 319\n",
            "Data columns (total 7 columns):\n",
            " #   Column        Non-Null Count  Dtype         \n",
            "---  ------        --------------  -----         \n",
            " 0   index         197 non-null    int64         \n",
            " 1   time_created  197 non-null    datetime64[ns]\n",
            " 2   date_created  197 non-null    object        \n",
            " 3   up_votes      197 non-null    int64         \n",
            " 4   title         197 non-null    object        \n",
            " 5   author        197 non-null    object        \n",
            " 6   day_created   197 non-null    object        \n",
            "dtypes: datetime64[ns](1), int64(2), object(4)\n",
            "memory usage: 12.3+ KB\n"
          ],
          "name": "stdout"
        }
      ]
    },
    {
      "cell_type": "code",
      "metadata": {
        "colab": {
          "base_uri": "https://localhost:8080/"
        },
        "id": "Re9YZaX1oTx6",
        "outputId": "efac6217-0df8-4728-b4d3-250120a80080"
      },
      "source": [
        "197/320"
      ],
      "execution_count": null,
      "outputs": [
        {
          "output_type": "execute_result",
          "data": {
            "text/plain": [
              "0.615625"
            ]
          },
          "metadata": {
            "tags": []
          },
          "execution_count": 32
        }
      ]
    },
    {
      "cell_type": "markdown",
      "metadata": {
        "id": "fpLtA-2PoF9X"
      },
      "source": [
        "197 records of 320 (61%) in NSFW lie in a cluster. Whereas the remaining 39% are outliers."
      ]
    },
    {
      "cell_type": "code",
      "metadata": {
        "id": "WTYpXQ5Znd15"
      },
      "source": [
        "weekly_avg = NSFW_without_outliers.groupby(by='day_created',sort=False).up_votes.sum().reindex(labels).to_frame().copy()\n",
        "weekly_avg['count'] = NSFW_without_outliers.groupby(by='day_created',sort=False).up_votes.count().reindex(labels).to_frame().copy()"
      ],
      "execution_count": null,
      "outputs": []
    },
    {
      "cell_type": "code",
      "metadata": {
        "id": "ltGqKQxVolHq"
      },
      "source": [
        "weekly_avg.loc[['Monday']] = weekly_avg.loc[['Monday']]/451\n",
        "weekly_avg.loc[['Tuesday','Wednesday','Thursday','Friday','Saturday','Sunday']] = weekly_avg.loc[['Tuesday','Wednesday','Thursday','Friday','Saturday','Sunday']]/452"
      ],
      "execution_count": null,
      "outputs": []
    },
    {
      "cell_type": "code",
      "metadata": {
        "colab": {
          "base_uri": "https://localhost:8080/",
          "height": 361
        },
        "id": "MU-Y2sEPoro7",
        "outputId": "40a103af-1cf9-4315-8583-973eb44cafa6"
      },
      "source": [
        "weekly_avg[['up_votes','count']].plot.bar()\n",
        "plt.title(\"Weekly average of up_votes\")\n",
        "plt.ylabel(\"up_votes\")"
      ],
      "execution_count": null,
      "outputs": [
        {
          "output_type": "execute_result",
          "data": {
            "text/plain": [
              "Text(0, 0.5, 'up_votes')"
            ]
          },
          "metadata": {
            "tags": []
          },
          "execution_count": 37
        },
        {
          "output_type": "display_data",
          "data": {
            "image/png": "[encoded data removed]",
            "text/plain": [
              "<Figure size 432x288 with 1 Axes>"
            ]
          },
          "metadata": {
            "tags": [],
            "needs_background": "light"
          }
        }
      ]
    },
    {
      "cell_type": "markdown",
      "metadata": {
        "id": "3DtyZyOEFJ26"
      },
      "source": [
        "The above plot represents the regular activity of users on the Over_18 category posts of the website in a week. The activity of users gradually increases and reaches its peak on Wednesday. This means, the users are more likely to interact on the over_18 posts that were posted on a Wednesday than on any day of the week."
      ]
    },
    {
      "cell_type": "code",
      "metadata": {
        "id": "SaMnCgPjr7fB"
      },
      "source": [
        ""
      ],
      "execution_count": null,
      "outputs": []
    },
    {
      "cell_type": "markdown",
      "metadata": {
        "id": "6Fez9fb4F33e"
      },
      "source": [
        "For tomorrow, \n",
        "* ~~Analyze the time periodicity of the activity on the website~~\n",
        "* Assess the NSFW and nonNSFW datasets with the previous methods. \n",
        "* Find the top key-words that attract more interaction on the website.\n",
        "* Find the co-variance between time, keywords, author, and upvotes"
      ]
    },
    {
      "cell_type": "code",
      "metadata": {
        "colab": {
          "base_uri": "https://localhost:8080/",
          "height": 283
        },
        "id": "0QgR6jVz_5xg",
        "outputId": "60bc703b-f933-41f2-f758-7fc4c431593e"
      },
      "source": [
        "nonNSFW.up_votes[nonNSFW.up_votes<20].plot.box()"
      ],
      "execution_count": null,
      "outputs": [
        {
          "output_type": "execute_result",
          "data": {
            "text/plain": [
              "<matplotlib.axes._subplots.AxesSubplot at 0x7f815d429650>"
            ]
          },
          "metadata": {
            "tags": []
          },
          "execution_count": 104
        },
        {
          "output_type": "display_data",
          "data": {
            "image/png": "[encoded data removed]",
            "text/plain": [
              "<Figure size 432x288 with 1 Axes>"
            ]
          },
          "metadata": {
            "tags": [],
            "needs_background": "light"
          }
        }
      ]
    },
    {
      "cell_type": "code",
      "metadata": {
        "id": "Hc4ArszCOpuN"
      },
      "source": [
        ""
      ],
      "execution_count": null,
      "outputs": []
    },
    {
      "cell_type": "markdown",
      "metadata": {
        "id": "s4UxKV9J3zps"
      },
      "source": [
        ""
      ]
    },
    {
      "cell_type": "code",
      "metadata": {
        "id": "7IQ0ATWh3yjq"
      },
      "source": [
        ""
      ],
      "execution_count": null,
      "outputs": []
    }
  ]
}